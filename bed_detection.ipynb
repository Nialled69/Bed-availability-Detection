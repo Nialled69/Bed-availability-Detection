{
 "cells": [
  {
   "cell_type": "markdown",
   "id": "2aead08c",
   "metadata": {},
   "source": [
    "#### Installing the Dependencies"
   ]
  },
  {
   "cell_type": "code",
   "execution_count": 3,
   "id": "4311377e",
   "metadata": {},
   "outputs": [
    {
     "name": "stdout",
     "output_type": "stream",
     "text": [
      "Requirement already satisfied: ultralytics in d:\\anaconda\\lib\\site-packages (8.3.74)\n",
      "Requirement already satisfied: numpy<=2.1.1,>=1.23.0 in d:\\anaconda\\lib\\site-packages (from ultralytics) (1.26.4)\n",
      "Requirement already satisfied: matplotlib>=3.3.0 in d:\\anaconda\\lib\\site-packages (from ultralytics) (3.10.0)\n",
      "Requirement already satisfied: opencv-python>=4.6.0 in d:\\anaconda\\lib\\site-packages (from ultralytics) (4.9.0.80)\n",
      "Requirement already satisfied: pillow>=7.1.2 in d:\\anaconda\\lib\\site-packages (from ultralytics) (10.3.0)\n",
      "Requirement already satisfied: pyyaml>=5.3.1 in d:\\anaconda\\lib\\site-packages (from ultralytics) (6.0.1)\n",
      "Requirement already satisfied: requests>=2.23.0 in d:\\anaconda\\lib\\site-packages (from ultralytics) (2.31.0)\n",
      "Requirement already satisfied: scipy>=1.4.1 in d:\\anaconda\\lib\\site-packages (from ultralytics) (1.11.4)\n",
      "Requirement already satisfied: torch>=1.8.0 in d:\\anaconda\\lib\\site-packages (from ultralytics) (2.6.0)\n",
      "Requirement already satisfied: torchvision>=0.9.0 in d:\\anaconda\\lib\\site-packages (from ultralytics) (0.21.0)\n",
      "Requirement already satisfied: tqdm>=4.64.0 in d:\\anaconda\\lib\\site-packages (from ultralytics) (4.65.0)\n",
      "Requirement already satisfied: psutil in d:\\anaconda\\lib\\site-packages (from ultralytics) (5.9.0)\n",
      "Requirement already satisfied: py-cpuinfo in d:\\anaconda\\lib\\site-packages (from ultralytics) (9.0.0)\n",
      "Requirement already satisfied: pandas>=1.1.4 in d:\\anaconda\\lib\\site-packages (from ultralytics) (2.2.2)\n",
      "Requirement already satisfied: seaborn>=0.11.0 in d:\\anaconda\\lib\\site-packages (from ultralytics) (0.13.2)\n",
      "Requirement already satisfied: ultralytics-thop>=2.0.0 in d:\\anaconda\\lib\\site-packages (from ultralytics) (2.0.14)\n",
      "Requirement already satisfied: contourpy>=1.0.1 in d:\\anaconda\\lib\\site-packages (from matplotlib>=3.3.0->ultralytics) (1.2.1)\n",
      "Requirement already satisfied: cycler>=0.10 in d:\\anaconda\\lib\\site-packages (from matplotlib>=3.3.0->ultralytics) (0.12.1)\n",
      "Requirement already satisfied: fonttools>=4.22.0 in d:\\anaconda\\lib\\site-packages (from matplotlib>=3.3.0->ultralytics) (4.51.0)\n",
      "Requirement already satisfied: kiwisolver>=1.3.1 in d:\\anaconda\\lib\\site-packages (from matplotlib>=3.3.0->ultralytics) (1.4.5)\n",
      "Requirement already satisfied: packaging>=20.0 in d:\\anaconda\\lib\\site-packages (from matplotlib>=3.3.0->ultralytics) (24.0)\n",
      "Requirement already satisfied: pyparsing>=2.3.1 in d:\\anaconda\\lib\\site-packages (from matplotlib>=3.3.0->ultralytics) (3.1.2)\n",
      "Requirement already satisfied: python-dateutil>=2.7 in d:\\anaconda\\lib\\site-packages (from matplotlib>=3.3.0->ultralytics) (2.9.0.post0)\n",
      "Requirement already satisfied: pytz>=2020.1 in d:\\anaconda\\lib\\site-packages (from pandas>=1.1.4->ultralytics) (2024.1)\n",
      "Requirement already satisfied: tzdata>=2022.7 in d:\\anaconda\\lib\\site-packages (from pandas>=1.1.4->ultralytics) (2024.1)\n",
      "Requirement already satisfied: charset-normalizer<4,>=2 in d:\\anaconda\\lib\\site-packages (from requests>=2.23.0->ultralytics) (2.0.4)\n",
      "Requirement already satisfied: idna<4,>=2.5 in d:\\anaconda\\lib\\site-packages (from requests>=2.23.0->ultralytics) (3.4)\n",
      "Requirement already satisfied: urllib3<3,>=1.21.1 in d:\\anaconda\\lib\\site-packages (from requests>=2.23.0->ultralytics) (2.0.7)\n",
      "Requirement already satisfied: certifi>=2017.4.17 in d:\\anaconda\\lib\\site-packages (from requests>=2.23.0->ultralytics) (2024.2.2)\n",
      "Requirement already satisfied: filelock in d:\\anaconda\\lib\\site-packages (from torch>=1.8.0->ultralytics) (3.13.1)\n",
      "Requirement already satisfied: typing-extensions>=4.10.0 in d:\\anaconda\\lib\\site-packages (from torch>=1.8.0->ultralytics) (4.12.2)\n",
      "Requirement already satisfied: networkx in d:\\anaconda\\lib\\site-packages (from torch>=1.8.0->ultralytics) (3.1)\n",
      "Requirement already satisfied: jinja2 in d:\\anaconda\\lib\\site-packages (from torch>=1.8.0->ultralytics) (3.1.3)\n",
      "Requirement already satisfied: fsspec in d:\\anaconda\\lib\\site-packages (from torch>=1.8.0->ultralytics) (2023.10.0)\n",
      "Requirement already satisfied: sympy==1.13.1 in d:\\anaconda\\lib\\site-packages (from torch>=1.8.0->ultralytics) (1.13.1)\n",
      "Requirement already satisfied: mpmath<1.4,>=1.1.0 in d:\\anaconda\\lib\\site-packages (from sympy==1.13.1->torch>=1.8.0->ultralytics) (1.3.0)\n",
      "Requirement already satisfied: colorama in d:\\anaconda\\lib\\site-packages (from tqdm>=4.64.0->ultralytics) (0.4.6)\n",
      "Requirement already satisfied: six>=1.5 in d:\\anaconda\\lib\\site-packages (from python-dateutil>=2.7->matplotlib>=3.3.0->ultralytics) (1.16.0)\n",
      "Requirement already satisfied: MarkupSafe>=2.0 in d:\\anaconda\\lib\\site-packages (from jinja2->torch>=1.8.0->ultralytics) (2.1.3)\n",
      "Note: you may need to restart the kernel to use updated packages.\n"
     ]
    }
   ],
   "source": [
    "pip install ultralytics"
   ]
  },
  {
   "cell_type": "markdown",
   "id": "23b2616d",
   "metadata": {},
   "source": [
    "#### Importing the required Libraries"
   ]
  },
  {
   "cell_type": "code",
   "execution_count": 4,
   "id": "9091d9e1",
   "metadata": {},
   "outputs": [],
   "source": [
    "from ultralytics import YOLO\n",
    "from statistics import median\n",
    "import cv2\n",
    "import torch"
   ]
  },
  {
   "cell_type": "markdown",
   "id": "9db34a24",
   "metadata": {},
   "source": [
    "#### Using pre-trained YOLO model on the custom labelled dataset to train our Bed-Detection model"
   ]
  },
  {
   "cell_type": "code",
   "execution_count": 2,
   "id": "16ba67e1",
   "metadata": {},
   "outputs": [],
   "source": [
    "model = YOLO(\"yolov8m.pt\")"
   ]
  },
  {
   "cell_type": "code",
   "execution_count": 5,
   "id": "2057e170",
   "metadata": {},
   "outputs": [
    {
     "name": "stdout",
     "output_type": "stream",
     "text": [
      "False\n"
     ]
    }
   ],
   "source": [
    "print(torch.cuda.is_available())  # Should print True if CUDA is available (CUDA indicates your GPU)"
   ]
  },
  {
   "cell_type": "code",
   "execution_count": 8,
   "id": "b6bb53bb",
   "metadata": {},
   "outputs": [
    {
     "name": "stdout",
     "output_type": "stream",
     "text": [
      "Ultralytics 8.3.74  Python-3.11.7 torch-2.6.0+cpu CPU (11th Gen Intel Core(TM) i5-11260H 2.60GHz)\n",
      "\u001b[34m\u001b[1mengine\\trainer: \u001b[0mtask=detect, mode=train, model=yolov8m.pt, data=dataset/data.yaml, epochs=50, time=None, patience=100, batch=8, imgsz=640, save=True, save_period=-1, cache=False, device=cpu, workers=8, project=None, name=train3, exist_ok=False, pretrained=True, optimizer=auto, verbose=True, seed=0, deterministic=True, single_cls=False, rect=False, cos_lr=False, close_mosaic=10, resume=False, amp=True, fraction=1.0, profile=False, freeze=None, multi_scale=False, overlap_mask=True, mask_ratio=4, dropout=0.0, val=True, split=val, save_json=False, save_hybrid=False, conf=None, iou=0.7, max_det=300, half=False, dnn=False, plots=True, source=None, vid_stride=1, stream_buffer=False, visualize=False, augment=False, agnostic_nms=False, classes=None, retina_masks=False, embed=None, show=False, save_frames=False, save_txt=False, save_conf=False, save_crop=False, show_labels=True, show_conf=True, show_boxes=True, line_width=None, format=torchscript, keras=False, optimize=False, int8=False, dynamic=False, simplify=True, opset=None, workspace=None, nms=False, lr0=0.01, lrf=0.01, momentum=0.937, weight_decay=0.0005, warmup_epochs=3.0, warmup_momentum=0.8, warmup_bias_lr=0.1, box=7.5, cls=0.5, dfl=1.5, pose=12.0, kobj=1.0, nbs=64, hsv_h=0.015, hsv_s=0.7, hsv_v=0.4, degrees=0.0, translate=0.1, scale=0.5, shear=0.0, perspective=0.0, flipud=0.0, fliplr=0.5, bgr=0.0, mosaic=1.0, mixup=0.0, copy_paste=0.0, copy_paste_mode=flip, auto_augment=randaugment, erasing=0.4, crop_fraction=1.0, cfg=None, tracker=botsort.yaml, save_dir=D:\\runs\\detect\\train3\n",
      "Overriding model.yaml nc=80 with nc=1\n",
      "\n",
      "                   from  n    params  module                                       arguments                     \n",
      "  0                  -1  1      1392  ultralytics.nn.modules.conv.Conv             [3, 48, 3, 2]                 \n",
      "  1                  -1  1     41664  ultralytics.nn.modules.conv.Conv             [48, 96, 3, 2]                \n",
      "  2                  -1  2    111360  ultralytics.nn.modules.block.C2f             [96, 96, 2, True]             \n",
      "  3                  -1  1    166272  ultralytics.nn.modules.conv.Conv             [96, 192, 3, 2]               \n",
      "  4                  -1  4    813312  ultralytics.nn.modules.block.C2f             [192, 192, 4, True]           \n",
      "  5                  -1  1    664320  ultralytics.nn.modules.conv.Conv             [192, 384, 3, 2]              \n",
      "  6                  -1  4   3248640  ultralytics.nn.modules.block.C2f             [384, 384, 4, True]           \n",
      "  7                  -1  1   1991808  ultralytics.nn.modules.conv.Conv             [384, 576, 3, 2]              \n",
      "  8                  -1  2   3985920  ultralytics.nn.modules.block.C2f             [576, 576, 2, True]           \n",
      "  9                  -1  1    831168  ultralytics.nn.modules.block.SPPF            [576, 576, 5]                 \n",
      " 10                  -1  1         0  torch.nn.modules.upsampling.Upsample         [None, 2, 'nearest']          \n",
      " 11             [-1, 6]  1         0  ultralytics.nn.modules.conv.Concat           [1]                           \n",
      " 12                  -1  2   1993728  ultralytics.nn.modules.block.C2f             [960, 384, 2]                 \n",
      " 13                  -1  1         0  torch.nn.modules.upsampling.Upsample         [None, 2, 'nearest']          \n",
      " 14             [-1, 4]  1         0  ultralytics.nn.modules.conv.Concat           [1]                           \n",
      " 15                  -1  2    517632  ultralytics.nn.modules.block.C2f             [576, 192, 2]                 \n",
      " 16                  -1  1    332160  ultralytics.nn.modules.conv.Conv             [192, 192, 3, 2]              \n",
      " 17            [-1, 12]  1         0  ultralytics.nn.modules.conv.Concat           [1]                           \n",
      " 18                  -1  2   1846272  ultralytics.nn.modules.block.C2f             [576, 384, 2]                 \n",
      " 19                  -1  1   1327872  ultralytics.nn.modules.conv.Conv             [384, 384, 3, 2]              \n",
      " 20             [-1, 9]  1         0  ultralytics.nn.modules.conv.Concat           [1]                           \n",
      " 21                  -1  2   4207104  ultralytics.nn.modules.block.C2f             [960, 576, 2]                 \n",
      " 22        [15, 18, 21]  1   3776275  ultralytics.nn.modules.head.Detect           [1, [192, 384, 576]]          \n",
      "Model summary: 295 layers, 25,856,899 parameters, 25,856,883 gradients, 79.1 GFLOPs\n",
      "\n",
      "Transferred 469/475 items from pretrained weights\n",
      "Freezing layer 'model.22.dfl.conv.weight'\n"
     ]
    },
    {
     "name": "stderr",
     "output_type": "stream",
     "text": [
      "\u001b[34m\u001b[1mtrain: \u001b[0mScanning C:\\Users\\User\\Documents\\DS and ML\\Bed-availability-Detection\\dataset\\train\\labels.cache... 373 images, \u001b[0m\n",
      "\u001b[34m\u001b[1mval: \u001b[0mScanning C:\\Users\\User\\Documents\\DS and ML\\Bed-availability-Detection\\dataset\\valid\\labels.cache... 35 images, 0 b\u001b[0m\n"
     ]
    },
    {
     "name": "stdout",
     "output_type": "stream",
     "text": [
      "Plotting labels to D:\\runs\\detect\\train3\\labels.jpg... \n",
      "\u001b[34m\u001b[1moptimizer:\u001b[0m 'optimizer=auto' found, ignoring 'lr0=0.01' and 'momentum=0.937' and determining best 'optimizer', 'lr0' and 'momentum' automatically... \n",
      "\u001b[34m\u001b[1moptimizer:\u001b[0m AdamW(lr=0.002, momentum=0.9) with parameter groups 77 weight(decay=0.0), 84 weight(decay=0.0005), 83 bias(decay=0.0)\n",
      "Image sizes 640 train, 640 val\n",
      "Using 0 dataloader workers\n",
      "Logging results to \u001b[1mD:\\runs\\detect\\train3\u001b[0m\n",
      "Starting training for 50 epochs...\n",
      "\n",
      "      Epoch    GPU_mem   box_loss   cls_loss   dfl_loss  Instances       Size\n"
     ]
    },
    {
     "name": "stderr",
     "output_type": "stream",
     "text": [
      "       1/50         0G       1.25      1.443      1.539         27        640: 100%|██████████| 47/47 [21:07<00:00, 26.\n",
      "                 Class     Images  Instances      Box(P          R      mAP50  mAP50-95): 100%|██████████| 3/3 [00:47<0"
     ]
    },
    {
     "name": "stdout",
     "output_type": "stream",
     "text": [
      "                   all         35        103      0.338       0.43      0.295      0.117\n"
     ]
    },
    {
     "name": "stderr",
     "output_type": "stream",
     "text": [
      "\n"
     ]
    },
    {
     "name": "stdout",
     "output_type": "stream",
     "text": [
      "\n",
      "      Epoch    GPU_mem   box_loss   cls_loss   dfl_loss  Instances       Size\n"
     ]
    },
    {
     "name": "stderr",
     "output_type": "stream",
     "text": [
      "       2/50         0G      1.485      1.475      1.755         28        640: 100%|██████████| 47/47 [21:28<00:00, 27.\n",
      "                 Class     Images  Instances      Box(P          R      mAP50  mAP50-95): 100%|██████████| 3/3 [00:45<0"
     ]
    },
    {
     "name": "stdout",
     "output_type": "stream",
     "text": [
      "                   all         35        103     0.0881      0.165     0.0466     0.0181\n"
     ]
    },
    {
     "name": "stderr",
     "output_type": "stream",
     "text": [
      "\n"
     ]
    },
    {
     "name": "stdout",
     "output_type": "stream",
     "text": [
      "\n",
      "      Epoch    GPU_mem   box_loss   cls_loss   dfl_loss  Instances       Size\n"
     ]
    },
    {
     "name": "stderr",
     "output_type": "stream",
     "text": [
      "       3/50         0G      1.544      1.576      1.805         48        640: 100%|██████████| 47/47 [08:31<00:00, 10.\n",
      "                 Class     Images  Instances      Box(P          R      mAP50  mAP50-95): 100%|██████████| 3/3 [00:13<0"
     ]
    },
    {
     "name": "stdout",
     "output_type": "stream",
     "text": [
      "                   all         35        103    0.00627     0.0485    0.00189   0.000634\n"
     ]
    },
    {
     "name": "stderr",
     "output_type": "stream",
     "text": [
      "\n"
     ]
    },
    {
     "name": "stdout",
     "output_type": "stream",
     "text": [
      "\n",
      "      Epoch    GPU_mem   box_loss   cls_loss   dfl_loss  Instances       Size\n"
     ]
    },
    {
     "name": "stderr",
     "output_type": "stream",
     "text": [
      "       4/50         0G      1.456      1.428      1.749         34        640: 100%|██████████| 47/47 [06:03<00:00,  7.\n",
      "                 Class     Images  Instances      Box(P          R      mAP50  mAP50-95): 100%|██████████| 3/3 [00:13<0"
     ]
    },
    {
     "name": "stdout",
     "output_type": "stream",
     "text": [
      "                   all         35        103       0.44      0.437       0.39      0.178\n"
     ]
    },
    {
     "name": "stderr",
     "output_type": "stream",
     "text": [
      "\n"
     ]
    },
    {
     "name": "stdout",
     "output_type": "stream",
     "text": [
      "\n",
      "      Epoch    GPU_mem   box_loss   cls_loss   dfl_loss  Instances       Size\n"
     ]
    },
    {
     "name": "stderr",
     "output_type": "stream",
     "text": [
      "       5/50         0G       1.41       1.37      1.701         46        640: 100%|██████████| 47/47 [06:02<00:00,  7.\n",
      "                 Class     Images  Instances      Box(P          R      mAP50  mAP50-95): 100%|██████████| 3/3 [00:12<0"
     ]
    },
    {
     "name": "stdout",
     "output_type": "stream",
     "text": [
      "                   all         35        103      0.685      0.621      0.721      0.476\n"
     ]
    },
    {
     "name": "stderr",
     "output_type": "stream",
     "text": [
      "\n"
     ]
    },
    {
     "name": "stdout",
     "output_type": "stream",
     "text": [
      "\n",
      "      Epoch    GPU_mem   box_loss   cls_loss   dfl_loss  Instances       Size\n"
     ]
    },
    {
     "name": "stderr",
     "output_type": "stream",
     "text": [
      "       6/50         0G      1.402      1.264      1.656         40        640: 100%|██████████| 47/47 [06:01<00:00,  7.\n",
      "                 Class     Images  Instances      Box(P          R      mAP50  mAP50-95): 100%|██████████| 3/3 [00:12<0"
     ]
    },
    {
     "name": "stdout",
     "output_type": "stream",
     "text": [
      "                   all         35        103      0.628       0.66      0.664      0.443\n"
     ]
    },
    {
     "name": "stderr",
     "output_type": "stream",
     "text": [
      "\n"
     ]
    },
    {
     "name": "stdout",
     "output_type": "stream",
     "text": [
      "\n",
      "      Epoch    GPU_mem   box_loss   cls_loss   dfl_loss  Instances       Size\n"
     ]
    },
    {
     "name": "stderr",
     "output_type": "stream",
     "text": [
      "       7/50         0G      1.293      1.178      1.605         34        640: 100%|██████████| 47/47 [05:58<00:00,  7.\n",
      "                 Class     Images  Instances      Box(P          R      mAP50  mAP50-95): 100%|██████████| 3/3 [00:12<0"
     ]
    },
    {
     "name": "stdout",
     "output_type": "stream",
     "text": [
      "                   all         35        103      0.767      0.769      0.793      0.531\n"
     ]
    },
    {
     "name": "stderr",
     "output_type": "stream",
     "text": [
      "\n"
     ]
    },
    {
     "name": "stdout",
     "output_type": "stream",
     "text": [
      "\n",
      "      Epoch    GPU_mem   box_loss   cls_loss   dfl_loss  Instances       Size\n"
     ]
    },
    {
     "name": "stderr",
     "output_type": "stream",
     "text": [
      "       8/50         0G      1.301      1.132      1.606         29        640: 100%|██████████| 47/47 [05:57<00:00,  7.\n",
      "                 Class     Images  Instances      Box(P          R      mAP50  mAP50-95): 100%|██████████| 3/3 [00:12<0"
     ]
    },
    {
     "name": "stdout",
     "output_type": "stream",
     "text": [
      "                   all         35        103      0.794      0.738      0.822      0.571\n"
     ]
    },
    {
     "name": "stderr",
     "output_type": "stream",
     "text": [
      "\n"
     ]
    },
    {
     "name": "stdout",
     "output_type": "stream",
     "text": [
      "\n",
      "      Epoch    GPU_mem   box_loss   cls_loss   dfl_loss  Instances       Size\n"
     ]
    },
    {
     "name": "stderr",
     "output_type": "stream",
     "text": [
      "       9/50         0G       1.26      1.088      1.569         29        640: 100%|██████████| 47/47 [05:58<00:00,  7.\n",
      "                 Class     Images  Instances      Box(P          R      mAP50  mAP50-95): 100%|██████████| 3/3 [00:13<0"
     ]
    },
    {
     "name": "stdout",
     "output_type": "stream",
     "text": [
      "                   all         35        103      0.855      0.777      0.822      0.581\n"
     ]
    },
    {
     "name": "stderr",
     "output_type": "stream",
     "text": [
      "\n"
     ]
    },
    {
     "name": "stdout",
     "output_type": "stream",
     "text": [
      "\n",
      "      Epoch    GPU_mem   box_loss   cls_loss   dfl_loss  Instances       Size\n"
     ]
    },
    {
     "name": "stderr",
     "output_type": "stream",
     "text": [
      "      10/50         0G      1.259      1.131       1.58         31        640: 100%|██████████| 47/47 [05:58<00:00,  7.\n",
      "                 Class     Images  Instances      Box(P          R      mAP50  mAP50-95): 100%|██████████| 3/3 [00:12<0"
     ]
    },
    {
     "name": "stdout",
     "output_type": "stream",
     "text": [
      "                   all         35        103      0.742      0.643      0.702      0.452\n"
     ]
    },
    {
     "name": "stderr",
     "output_type": "stream",
     "text": [
      "\n"
     ]
    },
    {
     "name": "stdout",
     "output_type": "stream",
     "text": [
      "\n",
      "      Epoch    GPU_mem   box_loss   cls_loss   dfl_loss  Instances       Size\n"
     ]
    },
    {
     "name": "stderr",
     "output_type": "stream",
     "text": [
      "      11/50         0G      1.231      1.048      1.534         32        640: 100%|██████████| 47/47 [05:56<00:00,  7.\n",
      "                 Class     Images  Instances      Box(P          R      mAP50  mAP50-95): 100%|██████████| 3/3 [00:12<0"
     ]
    },
    {
     "name": "stdout",
     "output_type": "stream",
     "text": [
      "                   all         35        103      0.772      0.757      0.812      0.553\n"
     ]
    },
    {
     "name": "stderr",
     "output_type": "stream",
     "text": [
      "\n"
     ]
    },
    {
     "name": "stdout",
     "output_type": "stream",
     "text": [
      "\n",
      "      Epoch    GPU_mem   box_loss   cls_loss   dfl_loss  Instances       Size\n"
     ]
    },
    {
     "name": "stderr",
     "output_type": "stream",
     "text": [
      "      12/50         0G      1.162      1.006      1.483         40        640: 100%|██████████| 47/47 [05:57<00:00,  7.\n",
      "                 Class     Images  Instances      Box(P          R      mAP50  mAP50-95): 100%|██████████| 3/3 [00:12<0"
     ]
    },
    {
     "name": "stdout",
     "output_type": "stream",
     "text": [
      "                   all         35        103      0.868       0.67      0.786      0.572\n"
     ]
    },
    {
     "name": "stderr",
     "output_type": "stream",
     "text": [
      "\n"
     ]
    },
    {
     "name": "stdout",
     "output_type": "stream",
     "text": [
      "\n",
      "      Epoch    GPU_mem   box_loss   cls_loss   dfl_loss  Instances       Size\n"
     ]
    },
    {
     "name": "stderr",
     "output_type": "stream",
     "text": [
      "      13/50         0G      1.203       1.03      1.519         27        640: 100%|██████████| 47/47 [05:57<00:00,  7.\n",
      "                 Class     Images  Instances      Box(P          R      mAP50  mAP50-95): 100%|██████████| 3/3 [00:12<0"
     ]
    },
    {
     "name": "stdout",
     "output_type": "stream",
     "text": [
      "                   all         35        103      0.879      0.777       0.85      0.606\n"
     ]
    },
    {
     "name": "stderr",
     "output_type": "stream",
     "text": [
      "\n"
     ]
    },
    {
     "name": "stdout",
     "output_type": "stream",
     "text": [
      "\n",
      "      Epoch    GPU_mem   box_loss   cls_loss   dfl_loss  Instances       Size\n"
     ]
    },
    {
     "name": "stderr",
     "output_type": "stream",
     "text": [
      "      14/50         0G      1.155     0.9429      1.477         25        640: 100%|██████████| 47/47 [05:57<00:00,  7.\n",
      "                 Class     Images  Instances      Box(P          R      mAP50  mAP50-95): 100%|██████████| 3/3 [00:12<0"
     ]
    },
    {
     "name": "stdout",
     "output_type": "stream",
     "text": [
      "                   all         35        103      0.881      0.767      0.876      0.629\n"
     ]
    },
    {
     "name": "stderr",
     "output_type": "stream",
     "text": [
      "\n"
     ]
    },
    {
     "name": "stdout",
     "output_type": "stream",
     "text": [
      "\n",
      "      Epoch    GPU_mem   box_loss   cls_loss   dfl_loss  Instances       Size\n"
     ]
    },
    {
     "name": "stderr",
     "output_type": "stream",
     "text": [
      "      15/50         0G      1.135     0.9538      1.457         29        640: 100%|██████████| 47/47 [05:56<00:00,  7.\n",
      "                 Class     Images  Instances      Box(P          R      mAP50  mAP50-95): 100%|██████████| 3/3 [00:12<0"
     ]
    },
    {
     "name": "stdout",
     "output_type": "stream",
     "text": [
      "                   all         35        103       0.83      0.796      0.845      0.632\n"
     ]
    },
    {
     "name": "stderr",
     "output_type": "stream",
     "text": [
      "\n"
     ]
    },
    {
     "name": "stdout",
     "output_type": "stream",
     "text": [
      "\n",
      "      Epoch    GPU_mem   box_loss   cls_loss   dfl_loss  Instances       Size\n"
     ]
    },
    {
     "name": "stderr",
     "output_type": "stream",
     "text": [
      "      16/50         0G      1.117      0.924      1.464         40        640: 100%|██████████| 47/47 [05:54<00:00,  7.\n",
      "                 Class     Images  Instances      Box(P          R      mAP50  mAP50-95): 100%|██████████| 3/3 [00:12<0"
     ]
    },
    {
     "name": "stdout",
     "output_type": "stream",
     "text": [
      "                   all         35        103      0.885      0.835      0.873      0.666\n"
     ]
    },
    {
     "name": "stderr",
     "output_type": "stream",
     "text": [
      "\n"
     ]
    },
    {
     "name": "stdout",
     "output_type": "stream",
     "text": [
      "\n",
      "      Epoch    GPU_mem   box_loss   cls_loss   dfl_loss  Instances       Size\n"
     ]
    },
    {
     "name": "stderr",
     "output_type": "stream",
     "text": [
      "      17/50         0G      1.076     0.8725      1.417         21        640: 100%|██████████| 47/47 [05:58<00:00,  7.\n",
      "                 Class     Images  Instances      Box(P          R      mAP50  mAP50-95): 100%|██████████| 3/3 [00:13<0"
     ]
    },
    {
     "name": "stdout",
     "output_type": "stream",
     "text": [
      "                   all         35        103      0.937      0.777       0.85      0.674\n"
     ]
    },
    {
     "name": "stderr",
     "output_type": "stream",
     "text": [
      "\n"
     ]
    },
    {
     "name": "stdout",
     "output_type": "stream",
     "text": [
      "\n",
      "      Epoch    GPU_mem   box_loss   cls_loss   dfl_loss  Instances       Size\n"
     ]
    },
    {
     "name": "stderr",
     "output_type": "stream",
     "text": [
      "      18/50         0G      1.071     0.8663      1.436         44        640: 100%|██████████| 47/47 [05:58<00:00,  7.\n",
      "                 Class     Images  Instances      Box(P          R      mAP50  mAP50-95): 100%|██████████| 3/3 [00:12<0"
     ]
    },
    {
     "name": "stdout",
     "output_type": "stream",
     "text": [
      "                   all         35        103      0.969      0.767      0.881      0.684\n"
     ]
    },
    {
     "name": "stderr",
     "output_type": "stream",
     "text": [
      "\n"
     ]
    },
    {
     "name": "stdout",
     "output_type": "stream",
     "text": [
      "\n",
      "      Epoch    GPU_mem   box_loss   cls_loss   dfl_loss  Instances       Size\n"
     ]
    },
    {
     "name": "stderr",
     "output_type": "stream",
     "text": [
      "      19/50         0G      1.053     0.8516      1.406         28        640: 100%|██████████| 47/47 [05:57<00:00,  7.\n",
      "                 Class     Images  Instances      Box(P          R      mAP50  mAP50-95): 100%|██████████| 3/3 [00:12<0"
     ]
    },
    {
     "name": "stdout",
     "output_type": "stream",
     "text": [
      "                   all         35        103      0.908      0.796      0.855      0.667\n"
     ]
    },
    {
     "name": "stderr",
     "output_type": "stream",
     "text": [
      "\n"
     ]
    },
    {
     "name": "stdout",
     "output_type": "stream",
     "text": [
      "\n",
      "      Epoch    GPU_mem   box_loss   cls_loss   dfl_loss  Instances       Size\n"
     ]
    },
    {
     "name": "stderr",
     "output_type": "stream",
     "text": [
      "      20/50         0G      1.074     0.8591      1.433         33        640: 100%|██████████| 47/47 [05:55<00:00,  7.\n",
      "                 Class     Images  Instances      Box(P          R      mAP50  mAP50-95): 100%|██████████| 3/3 [00:12<0"
     ]
    },
    {
     "name": "stdout",
     "output_type": "stream",
     "text": [
      "                   all         35        103       0.83      0.854      0.906      0.635\n"
     ]
    },
    {
     "name": "stderr",
     "output_type": "stream",
     "text": [
      "\n"
     ]
    },
    {
     "name": "stdout",
     "output_type": "stream",
     "text": [
      "\n",
      "      Epoch    GPU_mem   box_loss   cls_loss   dfl_loss  Instances       Size\n"
     ]
    },
    {
     "name": "stderr",
     "output_type": "stream",
     "text": [
      "      21/50         0G      1.055     0.8211      1.412         47        640: 100%|██████████| 47/47 [13:47<00:00, 17.\n",
      "                 Class     Images  Instances      Box(P          R      mAP50  mAP50-95): 100%|██████████| 3/3 [00:44<0"
     ]
    },
    {
     "name": "stdout",
     "output_type": "stream",
     "text": [
      "                   all         35        103       0.91      0.786      0.896      0.705\n"
     ]
    },
    {
     "name": "stderr",
     "output_type": "stream",
     "text": [
      "\n"
     ]
    },
    {
     "name": "stdout",
     "output_type": "stream",
     "text": [
      "\n",
      "      Epoch    GPU_mem   box_loss   cls_loss   dfl_loss  Instances       Size\n"
     ]
    },
    {
     "name": "stderr",
     "output_type": "stream",
     "text": [
      "      22/50         0G      1.013     0.8124      1.376         30        640: 100%|██████████| 47/47 [21:00<00:00, 26.\n",
      "                 Class     Images  Instances      Box(P          R      mAP50  mAP50-95): 100%|██████████| 3/3 [00:43<0"
     ]
    },
    {
     "name": "stdout",
     "output_type": "stream",
     "text": [
      "                   all         35        103      0.905      0.757      0.892       0.67\n"
     ]
    },
    {
     "name": "stderr",
     "output_type": "stream",
     "text": [
      "\n"
     ]
    },
    {
     "name": "stdout",
     "output_type": "stream",
     "text": [
      "\n",
      "      Epoch    GPU_mem   box_loss   cls_loss   dfl_loss  Instances       Size\n"
     ]
    },
    {
     "name": "stderr",
     "output_type": "stream",
     "text": [
      "      23/50         0G      0.993     0.7945      1.368         30        640: 100%|██████████| 47/47 [20:58<00:00, 26.\n",
      "                 Class     Images  Instances      Box(P          R      mAP50  mAP50-95): 100%|██████████| 3/3 [00:43<0"
     ]
    },
    {
     "name": "stdout",
     "output_type": "stream",
     "text": [
      "                   all         35        103      0.874      0.845      0.891      0.669\n"
     ]
    },
    {
     "name": "stderr",
     "output_type": "stream",
     "text": [
      "\n"
     ]
    },
    {
     "name": "stdout",
     "output_type": "stream",
     "text": [
      "\n",
      "      Epoch    GPU_mem   box_loss   cls_loss   dfl_loss  Instances       Size\n"
     ]
    },
    {
     "name": "stderr",
     "output_type": "stream",
     "text": [
      "      24/50         0G     0.9987     0.7707      1.371         27        640: 100%|██████████| 47/47 [21:31<00:00, 27.\n",
      "                 Class     Images  Instances      Box(P          R      mAP50  mAP50-95): 100%|██████████| 3/3 [00:45<0"
     ]
    },
    {
     "name": "stdout",
     "output_type": "stream",
     "text": [
      "                   all         35        103      0.872      0.835      0.873      0.692\n"
     ]
    },
    {
     "name": "stderr",
     "output_type": "stream",
     "text": [
      "\n"
     ]
    },
    {
     "name": "stdout",
     "output_type": "stream",
     "text": [
      "\n",
      "      Epoch    GPU_mem   box_loss   cls_loss   dfl_loss  Instances       Size\n"
     ]
    },
    {
     "name": "stderr",
     "output_type": "stream",
     "text": [
      "      25/50         0G     0.9814     0.7734      1.362         41        640: 100%|██████████| 47/47 [16:49<00:00, 21.\n",
      "                 Class     Images  Instances      Box(P          R      mAP50  mAP50-95): 100%|██████████| 3/3 [00:13<0"
     ]
    },
    {
     "name": "stdout",
     "output_type": "stream",
     "text": [
      "                   all         35        103      0.857      0.845      0.908      0.708\n"
     ]
    },
    {
     "name": "stderr",
     "output_type": "stream",
     "text": [
      "\n"
     ]
    },
    {
     "name": "stdout",
     "output_type": "stream",
     "text": [
      "\n",
      "      Epoch    GPU_mem   box_loss   cls_loss   dfl_loss  Instances       Size\n"
     ]
    },
    {
     "name": "stderr",
     "output_type": "stream",
     "text": [
      "      26/50         0G     0.9803     0.7637      1.372         31        640: 100%|██████████| 47/47 [06:02<00:00,  7.\n",
      "                 Class     Images  Instances      Box(P          R      mAP50  mAP50-95): 100%|██████████| 3/3 [00:12<0"
     ]
    },
    {
     "name": "stdout",
     "output_type": "stream",
     "text": [
      "                   all         35        103      0.867      0.845      0.883      0.672\n"
     ]
    },
    {
     "name": "stderr",
     "output_type": "stream",
     "text": [
      "\n"
     ]
    },
    {
     "name": "stdout",
     "output_type": "stream",
     "text": [
      "\n",
      "      Epoch    GPU_mem   box_loss   cls_loss   dfl_loss  Instances       Size\n"
     ]
    },
    {
     "name": "stderr",
     "output_type": "stream",
     "text": [
      "      27/50         0G     0.9792     0.7687      1.367         27        640: 100%|██████████| 47/47 [06:01<00:00,  7.\n",
      "                 Class     Images  Instances      Box(P          R      mAP50  mAP50-95): 100%|██████████| 3/3 [00:12<0"
     ]
    },
    {
     "name": "stdout",
     "output_type": "stream",
     "text": [
      "                   all         35        103      0.906      0.835        0.9      0.711\n"
     ]
    },
    {
     "name": "stderr",
     "output_type": "stream",
     "text": [
      "\n"
     ]
    },
    {
     "name": "stdout",
     "output_type": "stream",
     "text": [
      "\n",
      "      Epoch    GPU_mem   box_loss   cls_loss   dfl_loss  Instances       Size\n"
     ]
    },
    {
     "name": "stderr",
     "output_type": "stream",
     "text": [
      "      28/50         0G     0.9193     0.7304      1.324         38        640: 100%|██████████| 47/47 [06:01<00:00,  7.\n",
      "                 Class     Images  Instances      Box(P          R      mAP50  mAP50-95): 100%|██████████| 3/3 [00:12<0"
     ]
    },
    {
     "name": "stdout",
     "output_type": "stream",
     "text": [
      "                   all         35        103      0.923      0.815      0.891      0.703\n"
     ]
    },
    {
     "name": "stderr",
     "output_type": "stream",
     "text": [
      "\n"
     ]
    },
    {
     "name": "stdout",
     "output_type": "stream",
     "text": [
      "\n",
      "      Epoch    GPU_mem   box_loss   cls_loss   dfl_loss  Instances       Size\n"
     ]
    },
    {
     "name": "stderr",
     "output_type": "stream",
     "text": [
      "      29/50         0G     0.9124     0.7007      1.314         46        640: 100%|██████████| 47/47 [06:00<00:00,  7.\n",
      "                 Class     Images  Instances      Box(P          R      mAP50  mAP50-95): 100%|██████████| 3/3 [00:13<0"
     ]
    },
    {
     "name": "stdout",
     "output_type": "stream",
     "text": [
      "                   all         35        103      0.883      0.875      0.916       0.69\n"
     ]
    },
    {
     "name": "stderr",
     "output_type": "stream",
     "text": [
      "\n"
     ]
    },
    {
     "name": "stdout",
     "output_type": "stream",
     "text": [
      "\n",
      "      Epoch    GPU_mem   box_loss   cls_loss   dfl_loss  Instances       Size\n"
     ]
    },
    {
     "name": "stderr",
     "output_type": "stream",
     "text": [
      "      30/50         0G      0.867     0.6693       1.28         31        640: 100%|██████████| 47/47 [06:01<00:00,  7.\n",
      "                 Class     Images  Instances      Box(P          R      mAP50  mAP50-95): 100%|██████████| 3/3 [00:12<0"
     ]
    },
    {
     "name": "stdout",
     "output_type": "stream",
     "text": [
      "                   all         35        103       0.92      0.835      0.906      0.721\n"
     ]
    },
    {
     "name": "stderr",
     "output_type": "stream",
     "text": [
      "\n"
     ]
    },
    {
     "name": "stdout",
     "output_type": "stream",
     "text": [
      "\n",
      "      Epoch    GPU_mem   box_loss   cls_loss   dfl_loss  Instances       Size\n"
     ]
    },
    {
     "name": "stderr",
     "output_type": "stream",
     "text": [
      "      31/50         0G     0.8876     0.6576       1.29         44        640: 100%|██████████| 47/47 [06:01<00:00,  7.\n",
      "                 Class     Images  Instances      Box(P          R      mAP50  mAP50-95): 100%|██████████| 3/3 [00:12<0"
     ]
    },
    {
     "name": "stdout",
     "output_type": "stream",
     "text": [
      "                   all         35        103      0.908      0.845      0.906      0.715\n"
     ]
    },
    {
     "name": "stderr",
     "output_type": "stream",
     "text": [
      "\n"
     ]
    },
    {
     "name": "stdout",
     "output_type": "stream",
     "text": [
      "\n",
      "      Epoch    GPU_mem   box_loss   cls_loss   dfl_loss  Instances       Size\n"
     ]
    },
    {
     "name": "stderr",
     "output_type": "stream",
     "text": [
      "      32/50         0G     0.8704     0.6586      1.272         52        640: 100%|██████████| 47/47 [05:54<00:00,  7.\n",
      "                 Class     Images  Instances      Box(P          R      mAP50  mAP50-95): 100%|██████████| 3/3 [00:12<0"
     ]
    },
    {
     "name": "stdout",
     "output_type": "stream",
     "text": [
      "                   all         35        103      0.905      0.883      0.912      0.713\n"
     ]
    },
    {
     "name": "stderr",
     "output_type": "stream",
     "text": [
      "\n"
     ]
    },
    {
     "name": "stdout",
     "output_type": "stream",
     "text": [
      "\n",
      "      Epoch    GPU_mem   box_loss   cls_loss   dfl_loss  Instances       Size\n"
     ]
    },
    {
     "name": "stderr",
     "output_type": "stream",
     "text": [
      "      33/50         0G      0.878     0.6643       1.28         34        640: 100%|██████████| 47/47 [06:01<00:00,  7.\n",
      "                 Class     Images  Instances      Box(P          R      mAP50  mAP50-95): 100%|██████████| 3/3 [00:12<0"
     ]
    },
    {
     "name": "stdout",
     "output_type": "stream",
     "text": [
      "                   all         35        103      0.944      0.824      0.922      0.698\n"
     ]
    },
    {
     "name": "stderr",
     "output_type": "stream",
     "text": [
      "\n"
     ]
    },
    {
     "name": "stdout",
     "output_type": "stream",
     "text": [
      "\n",
      "      Epoch    GPU_mem   box_loss   cls_loss   dfl_loss  Instances       Size\n"
     ]
    },
    {
     "name": "stderr",
     "output_type": "stream",
     "text": [
      "      34/50         0G     0.8162     0.6248      1.261         27        640: 100%|██████████| 47/47 [06:02<00:00,  7.\n",
      "                 Class     Images  Instances      Box(P          R      mAP50  mAP50-95): 100%|██████████| 3/3 [00:13<0"
     ]
    },
    {
     "name": "stdout",
     "output_type": "stream",
     "text": [
      "                   all         35        103      0.932      0.864      0.911       0.75\n"
     ]
    },
    {
     "name": "stderr",
     "output_type": "stream",
     "text": [
      "\n"
     ]
    },
    {
     "name": "stdout",
     "output_type": "stream",
     "text": [
      "\n",
      "      Epoch    GPU_mem   box_loss   cls_loss   dfl_loss  Instances       Size\n"
     ]
    },
    {
     "name": "stderr",
     "output_type": "stream",
     "text": [
      "      35/50         0G     0.8183      0.634      1.253         31        640: 100%|██████████| 47/47 [06:09<00:00,  7.\n",
      "                 Class     Images  Instances      Box(P          R      mAP50  mAP50-95): 100%|██████████| 3/3 [00:13<0"
     ]
    },
    {
     "name": "stdout",
     "output_type": "stream",
     "text": [
      "                   all         35        103      0.928      0.876      0.918      0.746\n"
     ]
    },
    {
     "name": "stderr",
     "output_type": "stream",
     "text": [
      "\n"
     ]
    },
    {
     "name": "stdout",
     "output_type": "stream",
     "text": [
      "\n",
      "      Epoch    GPU_mem   box_loss   cls_loss   dfl_loss  Instances       Size\n"
     ]
    },
    {
     "name": "stderr",
     "output_type": "stream",
     "text": [
      "      36/50         0G     0.8426     0.6491      1.273         29        640: 100%|██████████| 47/47 [06:18<00:00,  8.\n",
      "                 Class     Images  Instances      Box(P          R      mAP50  mAP50-95): 100%|██████████| 3/3 [00:13<0"
     ]
    },
    {
     "name": "stdout",
     "output_type": "stream",
     "text": [
      "                   all         35        103      0.967      0.859      0.918      0.736\n"
     ]
    },
    {
     "name": "stderr",
     "output_type": "stream",
     "text": [
      "\n"
     ]
    },
    {
     "name": "stdout",
     "output_type": "stream",
     "text": [
      "\n",
      "      Epoch    GPU_mem   box_loss   cls_loss   dfl_loss  Instances       Size\n"
     ]
    },
    {
     "name": "stderr",
     "output_type": "stream",
     "text": [
      "      37/50         0G     0.8158     0.6088       1.24         38        640: 100%|██████████| 47/47 [06:03<00:00,  7.\n",
      "                 Class     Images  Instances      Box(P          R      mAP50  mAP50-95): 100%|██████████| 3/3 [00:12<0"
     ]
    },
    {
     "name": "stdout",
     "output_type": "stream",
     "text": [
      "                   all         35        103      0.962      0.864      0.917      0.737\n"
     ]
    },
    {
     "name": "stderr",
     "output_type": "stream",
     "text": [
      "\n"
     ]
    },
    {
     "name": "stdout",
     "output_type": "stream",
     "text": [
      "\n",
      "      Epoch    GPU_mem   box_loss   cls_loss   dfl_loss  Instances       Size\n"
     ]
    },
    {
     "name": "stderr",
     "output_type": "stream",
     "text": [
      "      38/50         0G     0.7959     0.6078      1.219         47        640: 100%|██████████| 47/47 [05:54<00:00,  7.\n",
      "                 Class     Images  Instances      Box(P          R      mAP50  mAP50-95): 100%|██████████| 3/3 [00:12<0"
     ]
    },
    {
     "name": "stdout",
     "output_type": "stream",
     "text": [
      "                   all         35        103      0.947      0.854      0.922      0.735\n"
     ]
    },
    {
     "name": "stderr",
     "output_type": "stream",
     "text": [
      "\n"
     ]
    },
    {
     "name": "stdout",
     "output_type": "stream",
     "text": [
      "\n",
      "      Epoch    GPU_mem   box_loss   cls_loss   dfl_loss  Instances       Size\n"
     ]
    },
    {
     "name": "stderr",
     "output_type": "stream",
     "text": [
      "      39/50         0G     0.7711     0.5713      1.207         41        640: 100%|██████████| 47/47 [06:01<00:00,  7.\n",
      "                 Class     Images  Instances      Box(P          R      mAP50  mAP50-95): 100%|██████████| 3/3 [00:13<0"
     ]
    },
    {
     "name": "stdout",
     "output_type": "stream",
     "text": [
      "                   all         35        103      0.961      0.845      0.919      0.751\n"
     ]
    },
    {
     "name": "stderr",
     "output_type": "stream",
     "text": [
      "\n"
     ]
    },
    {
     "name": "stdout",
     "output_type": "stream",
     "text": [
      "\n",
      "      Epoch    GPU_mem   box_loss   cls_loss   dfl_loss  Instances       Size\n"
     ]
    },
    {
     "name": "stderr",
     "output_type": "stream",
     "text": [
      "      40/50         0G     0.7709     0.5855      1.212         18        640: 100%|██████████| 47/47 [05:54<00:00,  7.\n",
      "                 Class     Images  Instances      Box(P          R      mAP50  mAP50-95): 100%|██████████| 3/3 [00:12<0"
     ]
    },
    {
     "name": "stdout",
     "output_type": "stream",
     "text": [
      "                   all         35        103      0.954      0.854       0.92      0.767\n"
     ]
    },
    {
     "name": "stderr",
     "output_type": "stream",
     "text": [
      "\n"
     ]
    },
    {
     "name": "stdout",
     "output_type": "stream",
     "text": [
      "Closing dataloader mosaic\n",
      "\n",
      "      Epoch    GPU_mem   box_loss   cls_loss   dfl_loss  Instances       Size\n"
     ]
    },
    {
     "name": "stderr",
     "output_type": "stream",
     "text": [
      "      41/50         0G     0.6908     0.4943      1.152         16        640: 100%|██████████| 47/47 [06:13<00:00,  7.\n",
      "                 Class     Images  Instances      Box(P          R      mAP50  mAP50-95): 100%|██████████| 3/3 [00:13<0"
     ]
    },
    {
     "name": "stdout",
     "output_type": "stream",
     "text": [
      "                   all         35        103      0.947      0.864      0.908      0.749\n"
     ]
    },
    {
     "name": "stderr",
     "output_type": "stream",
     "text": [
      "\n"
     ]
    },
    {
     "name": "stdout",
     "output_type": "stream",
     "text": [
      "\n",
      "      Epoch    GPU_mem   box_loss   cls_loss   dfl_loss  Instances       Size\n"
     ]
    },
    {
     "name": "stderr",
     "output_type": "stream",
     "text": [
      "      42/50         0G     0.6843     0.4564      1.154         18        640: 100%|██████████| 47/47 [06:09<00:00,  7.\n",
      "                 Class     Images  Instances      Box(P          R      mAP50  mAP50-95): 100%|██████████| 3/3 [00:12<0"
     ]
    },
    {
     "name": "stdout",
     "output_type": "stream",
     "text": [
      "                   all         35        103      0.961      0.864       0.93      0.758\n"
     ]
    },
    {
     "name": "stderr",
     "output_type": "stream",
     "text": [
      "\n"
     ]
    },
    {
     "name": "stdout",
     "output_type": "stream",
     "text": [
      "\n",
      "      Epoch    GPU_mem   box_loss   cls_loss   dfl_loss  Instances       Size\n"
     ]
    },
    {
     "name": "stderr",
     "output_type": "stream",
     "text": [
      "      43/50         0G     0.6427     0.4265      1.118         23        640: 100%|██████████| 47/47 [19:46<00:00, 25.\n",
      "                 Class     Images  Instances      Box(P          R      mAP50  mAP50-95): 100%|██████████| 3/3 [00:44<0"
     ]
    },
    {
     "name": "stdout",
     "output_type": "stream",
     "text": [
      "                   all         35        103      0.923      0.883      0.935      0.772\n"
     ]
    },
    {
     "name": "stderr",
     "output_type": "stream",
     "text": [
      "\n"
     ]
    },
    {
     "name": "stdout",
     "output_type": "stream",
     "text": [
      "\n",
      "      Epoch    GPU_mem   box_loss   cls_loss   dfl_loss  Instances       Size\n"
     ]
    },
    {
     "name": "stderr",
     "output_type": "stream",
     "text": [
      "      44/50         0G       0.66      0.442      1.128         16        640: 100%|██████████| 47/47 [21:02<00:00, 26.\n",
      "                 Class     Images  Instances      Box(P          R      mAP50  mAP50-95): 100%|██████████| 3/3 [00:44<0"
     ]
    },
    {
     "name": "stdout",
     "output_type": "stream",
     "text": [
      "                   all         35        103      0.947      0.872      0.913      0.764\n"
     ]
    },
    {
     "name": "stderr",
     "output_type": "stream",
     "text": [
      "\n"
     ]
    },
    {
     "name": "stdout",
     "output_type": "stream",
     "text": [
      "\n",
      "      Epoch    GPU_mem   box_loss   cls_loss   dfl_loss  Instances       Size\n"
     ]
    },
    {
     "name": "stderr",
     "output_type": "stream",
     "text": [
      "      45/50         0G     0.6035     0.4068      1.085         21        640: 100%|██████████| 47/47 [21:02<00:00, 26.\n",
      "                 Class     Images  Instances      Box(P          R      mAP50  mAP50-95): 100%|██████████| 3/3 [00:43<0"
     ]
    },
    {
     "name": "stdout",
     "output_type": "stream",
     "text": [
      "                   all         35        103      0.968       0.87      0.921      0.776\n"
     ]
    },
    {
     "name": "stderr",
     "output_type": "stream",
     "text": [
      "\n"
     ]
    },
    {
     "name": "stdout",
     "output_type": "stream",
     "text": [
      "\n",
      "      Epoch    GPU_mem   box_loss   cls_loss   dfl_loss  Instances       Size\n"
     ]
    },
    {
     "name": "stderr",
     "output_type": "stream",
     "text": [
      "      46/50         0G     0.6013     0.3958      1.081         26        640: 100%|██████████| 47/47 [08:51<00:00, 11.\n",
      "                 Class     Images  Instances      Box(P          R      mAP50  mAP50-95): 100%|██████████| 3/3 [00:12<0"
     ]
    },
    {
     "name": "stdout",
     "output_type": "stream",
     "text": [
      "                   all         35        103       0.95      0.854      0.922       0.78\n"
     ]
    },
    {
     "name": "stderr",
     "output_type": "stream",
     "text": [
      "\n"
     ]
    },
    {
     "name": "stdout",
     "output_type": "stream",
     "text": [
      "\n",
      "      Epoch    GPU_mem   box_loss   cls_loss   dfl_loss  Instances       Size\n"
     ]
    },
    {
     "name": "stderr",
     "output_type": "stream",
     "text": [
      "      47/50         0G     0.5977     0.4052      1.095         13        640: 100%|██████████| 47/47 [05:54<00:00,  7.\n",
      "                 Class     Images  Instances      Box(P          R      mAP50  mAP50-95): 100%|██████████| 3/3 [00:12<0"
     ]
    },
    {
     "name": "stdout",
     "output_type": "stream",
     "text": [
      "                   all         35        103      0.938      0.879       0.94      0.782\n"
     ]
    },
    {
     "name": "stderr",
     "output_type": "stream",
     "text": [
      "\n"
     ]
    },
    {
     "name": "stdout",
     "output_type": "stream",
     "text": [
      "\n",
      "      Epoch    GPU_mem   box_loss   cls_loss   dfl_loss  Instances       Size\n"
     ]
    },
    {
     "name": "stderr",
     "output_type": "stream",
     "text": [
      "      48/50         0G     0.5814     0.3781      1.083         15        640: 100%|██████████| 47/47 [05:55<00:00,  7.\n",
      "                 Class     Images  Instances      Box(P          R      mAP50  mAP50-95): 100%|██████████| 3/3 [00:12<0"
     ]
    },
    {
     "name": "stdout",
     "output_type": "stream",
     "text": [
      "                   all         35        103      0.937      0.872       0.92      0.768\n"
     ]
    },
    {
     "name": "stderr",
     "output_type": "stream",
     "text": [
      "\n"
     ]
    },
    {
     "name": "stdout",
     "output_type": "stream",
     "text": [
      "\n",
      "      Epoch    GPU_mem   box_loss   cls_loss   dfl_loss  Instances       Size\n"
     ]
    },
    {
     "name": "stderr",
     "output_type": "stream",
     "text": [
      "      49/50         0G     0.5692     0.3823      1.064         17        640: 100%|██████████| 47/47 [05:56<00:00,  7.\n",
      "                 Class     Images  Instances      Box(P          R      mAP50  mAP50-95): 100%|██████████| 3/3 [00:13<0"
     ]
    },
    {
     "name": "stdout",
     "output_type": "stream",
     "text": [
      "                   all         35        103      0.929      0.892      0.927      0.779\n"
     ]
    },
    {
     "name": "stderr",
     "output_type": "stream",
     "text": [
      "\n"
     ]
    },
    {
     "name": "stdout",
     "output_type": "stream",
     "text": [
      "\n",
      "      Epoch    GPU_mem   box_loss   cls_loss   dfl_loss  Instances       Size\n"
     ]
    },
    {
     "name": "stderr",
     "output_type": "stream",
     "text": [
      "      50/50         0G     0.5733     0.3744      1.074         19        640: 100%|██████████| 47/47 [06:02<00:00,  7.\n",
      "                 Class     Images  Instances      Box(P          R      mAP50  mAP50-95): 100%|██████████| 3/3 [00:13<0"
     ]
    },
    {
     "name": "stdout",
     "output_type": "stream",
     "text": [
      "                   all         35        103      0.952      0.864      0.929      0.786\n"
     ]
    },
    {
     "name": "stderr",
     "output_type": "stream",
     "text": [
      "\n"
     ]
    },
    {
     "name": "stdout",
     "output_type": "stream",
     "text": [
      "\n",
      "50 epochs completed in 7.680 hours.\n",
      "Optimizer stripped from D:\\runs\\detect\\train3\\weights\\last.pt, 52.0MB\n",
      "Optimizer stripped from D:\\runs\\detect\\train3\\weights\\best.pt, 52.0MB\n",
      "\n",
      "Validating D:\\runs\\detect\\train3\\weights\\best.pt...\n",
      "Ultralytics 8.3.74  Python-3.11.7 torch-2.6.0+cpu CPU (11th Gen Intel Core(TM) i5-11260H 2.60GHz)\n",
      "Model summary (fused): 218 layers, 25,840,339 parameters, 0 gradients, 78.7 GFLOPs\n"
     ]
    },
    {
     "name": "stderr",
     "output_type": "stream",
     "text": [
      "                 Class     Images  Instances      Box(P          R      mAP50  mAP50-95): 100%|██████████| 3/3 [00:11<0\n"
     ]
    },
    {
     "name": "stdout",
     "output_type": "stream",
     "text": [
      "                   all         35        103      0.953      0.864      0.929      0.785\n",
      "Speed: 2.1ms preprocess, 296.4ms inference, 0.0ms loss, 0.1ms postprocess per image\n",
      "Results saved to \u001b[1mD:\\runs\\detect\\train3\u001b[0m\n"
     ]
    },
    {
     "data": {
      "text/plain": [
       "ultralytics.utils.metrics.DetMetrics object with attributes:\n",
       "\n",
       "ap_class_index: array([0])\n",
       "box: ultralytics.utils.metrics.Metric object\n",
       "confusion_matrix: <ultralytics.utils.metrics.ConfusionMatrix object at 0x0000028E7887BED0>\n",
       "curves: ['Precision-Recall(B)', 'F1-Confidence(B)', 'Precision-Confidence(B)', 'Recall-Confidence(B)']\n",
       "curves_results: [[array([          0,    0.001001,    0.002002,    0.003003,    0.004004,    0.005005,    0.006006,    0.007007,    0.008008,    0.009009,     0.01001,    0.011011,    0.012012,    0.013013,    0.014014,    0.015015,    0.016016,    0.017017,    0.018018,    0.019019,     0.02002,    0.021021,    0.022022,    0.023023,\n",
       "          0.024024,    0.025025,    0.026026,    0.027027,    0.028028,    0.029029,     0.03003,    0.031031,    0.032032,    0.033033,    0.034034,    0.035035,    0.036036,    0.037037,    0.038038,    0.039039,     0.04004,    0.041041,    0.042042,    0.043043,    0.044044,    0.045045,    0.046046,    0.047047,\n",
       "          0.048048,    0.049049,     0.05005,    0.051051,    0.052052,    0.053053,    0.054054,    0.055055,    0.056056,    0.057057,    0.058058,    0.059059,     0.06006,    0.061061,    0.062062,    0.063063,    0.064064,    0.065065,    0.066066,    0.067067,    0.068068,    0.069069,     0.07007,    0.071071,\n",
       "          0.072072,    0.073073,    0.074074,    0.075075,    0.076076,    0.077077,    0.078078,    0.079079,     0.08008,    0.081081,    0.082082,    0.083083,    0.084084,    0.085085,    0.086086,    0.087087,    0.088088,    0.089089,     0.09009,    0.091091,    0.092092,    0.093093,    0.094094,    0.095095,\n",
       "          0.096096,    0.097097,    0.098098,    0.099099,      0.1001,      0.1011,      0.1021,      0.1031,      0.1041,     0.10511,     0.10611,     0.10711,     0.10811,     0.10911,     0.11011,     0.11111,     0.11211,     0.11311,     0.11411,     0.11512,     0.11612,     0.11712,     0.11812,     0.11912,\n",
       "           0.12012,     0.12112,     0.12212,     0.12312,     0.12412,     0.12513,     0.12613,     0.12713,     0.12813,     0.12913,     0.13013,     0.13113,     0.13213,     0.13313,     0.13413,     0.13514,     0.13614,     0.13714,     0.13814,     0.13914,     0.14014,     0.14114,     0.14214,     0.14314,\n",
       "           0.14414,     0.14515,     0.14615,     0.14715,     0.14815,     0.14915,     0.15015,     0.15115,     0.15215,     0.15315,     0.15415,     0.15516,     0.15616,     0.15716,     0.15816,     0.15916,     0.16016,     0.16116,     0.16216,     0.16316,     0.16416,     0.16517,     0.16617,     0.16717,\n",
       "           0.16817,     0.16917,     0.17017,     0.17117,     0.17217,     0.17317,     0.17417,     0.17518,     0.17618,     0.17718,     0.17818,     0.17918,     0.18018,     0.18118,     0.18218,     0.18318,     0.18418,     0.18519,     0.18619,     0.18719,     0.18819,     0.18919,     0.19019,     0.19119,\n",
       "           0.19219,     0.19319,     0.19419,      0.1952,      0.1962,      0.1972,      0.1982,      0.1992,      0.2002,      0.2012,      0.2022,      0.2032,      0.2042,     0.20521,     0.20621,     0.20721,     0.20821,     0.20921,     0.21021,     0.21121,     0.21221,     0.21321,     0.21421,     0.21522,\n",
       "           0.21622,     0.21722,     0.21822,     0.21922,     0.22022,     0.22122,     0.22222,     0.22322,     0.22422,     0.22523,     0.22623,     0.22723,     0.22823,     0.22923,     0.23023,     0.23123,     0.23223,     0.23323,     0.23423,     0.23524,     0.23624,     0.23724,     0.23824,     0.23924,\n",
       "           0.24024,     0.24124,     0.24224,     0.24324,     0.24424,     0.24525,     0.24625,     0.24725,     0.24825,     0.24925,     0.25025,     0.25125,     0.25225,     0.25325,     0.25425,     0.25526,     0.25626,     0.25726,     0.25826,     0.25926,     0.26026,     0.26126,     0.26226,     0.26326,\n",
       "           0.26426,     0.26527,     0.26627,     0.26727,     0.26827,     0.26927,     0.27027,     0.27127,     0.27227,     0.27327,     0.27427,     0.27528,     0.27628,     0.27728,     0.27828,     0.27928,     0.28028,     0.28128,     0.28228,     0.28328,     0.28428,     0.28529,     0.28629,     0.28729,\n",
       "           0.28829,     0.28929,     0.29029,     0.29129,     0.29229,     0.29329,     0.29429,      0.2953,      0.2963,      0.2973,      0.2983,      0.2993,      0.3003,      0.3013,      0.3023,      0.3033,      0.3043,     0.30531,     0.30631,     0.30731,     0.30831,     0.30931,     0.31031,     0.31131,\n",
       "           0.31231,     0.31331,     0.31431,     0.31532,     0.31632,     0.31732,     0.31832,     0.31932,     0.32032,     0.32132,     0.32232,     0.32332,     0.32432,     0.32533,     0.32633,     0.32733,     0.32833,     0.32933,     0.33033,     0.33133,     0.33233,     0.33333,     0.33433,     0.33534,\n",
       "           0.33634,     0.33734,     0.33834,     0.33934,     0.34034,     0.34134,     0.34234,     0.34334,     0.34434,     0.34535,     0.34635,     0.34735,     0.34835,     0.34935,     0.35035,     0.35135,     0.35235,     0.35335,     0.35435,     0.35536,     0.35636,     0.35736,     0.35836,     0.35936,\n",
       "           0.36036,     0.36136,     0.36236,     0.36336,     0.36436,     0.36537,     0.36637,     0.36737,     0.36837,     0.36937,     0.37037,     0.37137,     0.37237,     0.37337,     0.37437,     0.37538,     0.37638,     0.37738,     0.37838,     0.37938,     0.38038,     0.38138,     0.38238,     0.38338,\n",
       "           0.38438,     0.38539,     0.38639,     0.38739,     0.38839,     0.38939,     0.39039,     0.39139,     0.39239,     0.39339,     0.39439,      0.3954,      0.3964,      0.3974,      0.3984,      0.3994,      0.4004,      0.4014,      0.4024,      0.4034,      0.4044,     0.40541,     0.40641,     0.40741,\n",
       "           0.40841,     0.40941,     0.41041,     0.41141,     0.41241,     0.41341,     0.41441,     0.41542,     0.41642,     0.41742,     0.41842,     0.41942,     0.42042,     0.42142,     0.42242,     0.42342,     0.42442,     0.42543,     0.42643,     0.42743,     0.42843,     0.42943,     0.43043,     0.43143,\n",
       "           0.43243,     0.43343,     0.43443,     0.43544,     0.43644,     0.43744,     0.43844,     0.43944,     0.44044,     0.44144,     0.44244,     0.44344,     0.44444,     0.44545,     0.44645,     0.44745,     0.44845,     0.44945,     0.45045,     0.45145,     0.45245,     0.45345,     0.45445,     0.45546,\n",
       "           0.45646,     0.45746,     0.45846,     0.45946,     0.46046,     0.46146,     0.46246,     0.46346,     0.46446,     0.46547,     0.46647,     0.46747,     0.46847,     0.46947,     0.47047,     0.47147,     0.47247,     0.47347,     0.47447,     0.47548,     0.47648,     0.47748,     0.47848,     0.47948,\n",
       "           0.48048,     0.48148,     0.48248,     0.48348,     0.48448,     0.48549,     0.48649,     0.48749,     0.48849,     0.48949,     0.49049,     0.49149,     0.49249,     0.49349,     0.49449,      0.4955,      0.4965,      0.4975,      0.4985,      0.4995,      0.5005,      0.5015,      0.5025,      0.5035,\n",
       "            0.5045,     0.50551,     0.50651,     0.50751,     0.50851,     0.50951,     0.51051,     0.51151,     0.51251,     0.51351,     0.51451,     0.51552,     0.51652,     0.51752,     0.51852,     0.51952,     0.52052,     0.52152,     0.52252,     0.52352,     0.52452,     0.52553,     0.52653,     0.52753,\n",
       "           0.52853,     0.52953,     0.53053,     0.53153,     0.53253,     0.53353,     0.53453,     0.53554,     0.53654,     0.53754,     0.53854,     0.53954,     0.54054,     0.54154,     0.54254,     0.54354,     0.54454,     0.54555,     0.54655,     0.54755,     0.54855,     0.54955,     0.55055,     0.55155,\n",
       "           0.55255,     0.55355,     0.55455,     0.55556,     0.55656,     0.55756,     0.55856,     0.55956,     0.56056,     0.56156,     0.56256,     0.56356,     0.56456,     0.56557,     0.56657,     0.56757,     0.56857,     0.56957,     0.57057,     0.57157,     0.57257,     0.57357,     0.57457,     0.57558,\n",
       "           0.57658,     0.57758,     0.57858,     0.57958,     0.58058,     0.58158,     0.58258,     0.58358,     0.58458,     0.58559,     0.58659,     0.58759,     0.58859,     0.58959,     0.59059,     0.59159,     0.59259,     0.59359,     0.59459,      0.5956,      0.5966,      0.5976,      0.5986,      0.5996,\n",
       "            0.6006,      0.6016,      0.6026,      0.6036,      0.6046,     0.60561,     0.60661,     0.60761,     0.60861,     0.60961,     0.61061,     0.61161,     0.61261,     0.61361,     0.61461,     0.61562,     0.61662,     0.61762,     0.61862,     0.61962,     0.62062,     0.62162,     0.62262,     0.62362,\n",
       "           0.62462,     0.62563,     0.62663,     0.62763,     0.62863,     0.62963,     0.63063,     0.63163,     0.63263,     0.63363,     0.63463,     0.63564,     0.63664,     0.63764,     0.63864,     0.63964,     0.64064,     0.64164,     0.64264,     0.64364,     0.64464,     0.64565,     0.64665,     0.64765,\n",
       "           0.64865,     0.64965,     0.65065,     0.65165,     0.65265,     0.65365,     0.65465,     0.65566,     0.65666,     0.65766,     0.65866,     0.65966,     0.66066,     0.66166,     0.66266,     0.66366,     0.66466,     0.66567,     0.66667,     0.66767,     0.66867,     0.66967,     0.67067,     0.67167,\n",
       "           0.67267,     0.67367,     0.67467,     0.67568,     0.67668,     0.67768,     0.67868,     0.67968,     0.68068,     0.68168,     0.68268,     0.68368,     0.68468,     0.68569,     0.68669,     0.68769,     0.68869,     0.68969,     0.69069,     0.69169,     0.69269,     0.69369,     0.69469,      0.6957,\n",
       "            0.6967,      0.6977,      0.6987,      0.6997,      0.7007,      0.7017,      0.7027,      0.7037,      0.7047,     0.70571,     0.70671,     0.70771,     0.70871,     0.70971,     0.71071,     0.71171,     0.71271,     0.71371,     0.71471,     0.71572,     0.71672,     0.71772,     0.71872,     0.71972,\n",
       "           0.72072,     0.72172,     0.72272,     0.72372,     0.72472,     0.72573,     0.72673,     0.72773,     0.72873,     0.72973,     0.73073,     0.73173,     0.73273,     0.73373,     0.73473,     0.73574,     0.73674,     0.73774,     0.73874,     0.73974,     0.74074,     0.74174,     0.74274,     0.74374,\n",
       "           0.74474,     0.74575,     0.74675,     0.74775,     0.74875,     0.74975,     0.75075,     0.75175,     0.75275,     0.75375,     0.75475,     0.75576,     0.75676,     0.75776,     0.75876,     0.75976,     0.76076,     0.76176,     0.76276,     0.76376,     0.76476,     0.76577,     0.76677,     0.76777,\n",
       "           0.76877,     0.76977,     0.77077,     0.77177,     0.77277,     0.77377,     0.77477,     0.77578,     0.77678,     0.77778,     0.77878,     0.77978,     0.78078,     0.78178,     0.78278,     0.78378,     0.78478,     0.78579,     0.78679,     0.78779,     0.78879,     0.78979,     0.79079,     0.79179,\n",
       "           0.79279,     0.79379,     0.79479,      0.7958,      0.7968,      0.7978,      0.7988,      0.7998,      0.8008,      0.8018,      0.8028,      0.8038,      0.8048,     0.80581,     0.80681,     0.80781,     0.80881,     0.80981,     0.81081,     0.81181,     0.81281,     0.81381,     0.81481,     0.81582,\n",
       "           0.81682,     0.81782,     0.81882,     0.81982,     0.82082,     0.82182,     0.82282,     0.82382,     0.82482,     0.82583,     0.82683,     0.82783,     0.82883,     0.82983,     0.83083,     0.83183,     0.83283,     0.83383,     0.83483,     0.83584,     0.83684,     0.83784,     0.83884,     0.83984,\n",
       "           0.84084,     0.84184,     0.84284,     0.84384,     0.84484,     0.84585,     0.84685,     0.84785,     0.84885,     0.84985,     0.85085,     0.85185,     0.85285,     0.85385,     0.85485,     0.85586,     0.85686,     0.85786,     0.85886,     0.85986,     0.86086,     0.86186,     0.86286,     0.86386,\n",
       "           0.86486,     0.86587,     0.86687,     0.86787,     0.86887,     0.86987,     0.87087,     0.87187,     0.87287,     0.87387,     0.87487,     0.87588,     0.87688,     0.87788,     0.87888,     0.87988,     0.88088,     0.88188,     0.88288,     0.88388,     0.88488,     0.88589,     0.88689,     0.88789,\n",
       "           0.88889,     0.88989,     0.89089,     0.89189,     0.89289,     0.89389,     0.89489,      0.8959,      0.8969,      0.8979,      0.8989,      0.8999,      0.9009,      0.9019,      0.9029,      0.9039,      0.9049,     0.90591,     0.90691,     0.90791,     0.90891,     0.90991,     0.91091,     0.91191,\n",
       "           0.91291,     0.91391,     0.91491,     0.91592,     0.91692,     0.91792,     0.91892,     0.91992,     0.92092,     0.92192,     0.92292,     0.92392,     0.92492,     0.92593,     0.92693,     0.92793,     0.92893,     0.92993,     0.93093,     0.93193,     0.93293,     0.93393,     0.93493,     0.93594,\n",
       "           0.93694,     0.93794,     0.93894,     0.93994,     0.94094,     0.94194,     0.94294,     0.94394,     0.94494,     0.94595,     0.94695,     0.94795,     0.94895,     0.94995,     0.95095,     0.95195,     0.95295,     0.95395,     0.95495,     0.95596,     0.95696,     0.95796,     0.95896,     0.95996,\n",
       "           0.96096,     0.96196,     0.96296,     0.96396,     0.96496,     0.96597,     0.96697,     0.96797,     0.96897,     0.96997,     0.97097,     0.97197,     0.97297,     0.97397,     0.97497,     0.97598,     0.97698,     0.97798,     0.97898,     0.97998,     0.98098,     0.98198,     0.98298,     0.98398,\n",
       "           0.98498,     0.98599,     0.98699,     0.98799,     0.98899,     0.98999,     0.99099,     0.99199,     0.99299,     0.99399,     0.99499,       0.996,       0.997,       0.998,       0.999,           1]), array([[          1,           1,           1,           1,           1,           1,           1,           1,           1,           1,           1,           1,           1,           1,           1,           1,           1,           1,           1,           1,           1,           1,           1,\n",
       "                  1,           1,           1,           1,           1,           1,           1,           1,           1,           1,           1,           1,           1,           1,           1,           1,           1,           1,           1,           1,           1,           1,           1,\n",
       "                  1,           1,           1,           1,           1,           1,           1,           1,           1,           1,           1,           1,           1,           1,           1,           1,           1,           1,           1,           1,           1,           1,           1,\n",
       "                  1,           1,           1,           1,           1,           1,           1,           1,           1,           1,           1,           1,           1,           1,           1,           1,           1,           1,           1,           1,           1,           1,           1,\n",
       "                  1,           1,           1,           1,           1,           1,           1,           1,           1,           1,           1,           1,           1,           1,           1,           1,           1,           1,           1,           1,           1,           1,           1,\n",
       "                  1,           1,           1,           1,           1,           1,           1,           1,           1,           1,           1,           1,           1,           1,           1,           1,           1,           1,           1,           1,           1,           1,           1,\n",
       "                  1,           1,           1,           1,           1,           1,           1,           1,           1,           1,           1,           1,           1,           1,           1,           1,           1,           1,           1,           1,           1,           1,           1,\n",
       "                  1,           1,           1,           1,           1,           1,           1,           1,           1,           1,           1,           1,           1,           1,           1,           1,           1,           1,           1,           1,           1,           1,           1,\n",
       "                  1,           1,           1,           1,           1,           1,           1,           1,           1,           1,           1,           1,           1,           1,           1,           1,           1,           1,           1,           1,           1,           1,           1,\n",
       "                  1,           1,           1,           1,           1,           1,           1,           1,           1,           1,           1,           1,           1,           1,           1,           1,           1,           1,           1,           1,           1,           1,           1,\n",
       "                  1,           1,           1,           1,           1,           1,           1,           1,           1,           1,           1,           1,           1,           1,           1,           1,           1,           1,           1,           1,           1,           1,           1,\n",
       "                  1,           1,           1,           1,           1,           1,           1,           1,           1,           1,           1,           1,           1,           1,           1,           1,           1,           1,           1,           1,           1,           1,           1,\n",
       "                  1,           1,           1,           1,           1,           1,           1,           1,           1,           1,           1,           1,           1,           1,           1,           1,           1,           1,           1,           1,           1,           1,           1,\n",
       "                  1,           1,           1,           1,           1,           1,           1,           1,           1,           1,           1,           1,           1,           1,           1,           1,           1,           1,           1,           1,           1,           1,           1,\n",
       "                  1,           1,           1,           1,           1,           1,           1,           1,           1,           1,           1,           1,           1,           1,           1,           1,           1,           1,           1,           1,           1,           1,           1,\n",
       "                  1,           1,           1,           1,           1,           1,           1,           1,           1,           1,           1,           1,           1,           1,           1,           1,           1,           1,           1,           1,           1,           1,           1,\n",
       "                  1,           1,           1,           1,           1,           1,           1,           1,           1,           1,           1,           1,           1,           1,           1,           1,           1,           1,           1,           1,           1,           1,           1,\n",
       "                  1,           1,           1,           1,           1,           1,           1,           1,           1,           1,           1,           1,           1,           1,           1,           1,           1,           1,           1,           1,           1,           1,           1,\n",
       "                  1,           1,           1,           1,           1,           1,           1,           1,           1,           1,           1,           1,           1,           1,           1,           1,           1,           1,           1,           1,           1,           1,           1,\n",
       "                  1,           1,           1,           1,           1,           1,           1,           1,           1,           1,           1,           1,           1,           1,           1,           1,           1,           1,           1,           1,           1,           1,           1,\n",
       "                  1,           1,           1,           1,           1,           1,     0.98684,     0.98684,     0.98684,     0.98684,     0.98684,     0.98684,     0.98684,     0.98684,     0.98684,     0.98684,     0.98684,     0.98684,     0.98684,     0.98684,     0.98684,     0.98684,     0.98684,\n",
       "            0.98684,     0.98684,     0.98684,     0.98684,     0.98684,     0.98684,     0.98684,     0.98684,     0.98684,     0.98684,     0.98684,     0.98684,     0.98684,     0.98684,     0.98684,     0.98684,     0.98684,     0.98684,     0.98684,     0.98684,     0.98684,     0.98684,     0.98684,\n",
       "            0.98684,     0.98684,     0.98684,     0.98684,     0.98684,     0.98684,     0.98684,     0.98684,     0.98684,     0.98684,     0.98684,     0.98684,     0.98684,     0.98684,     0.98684,     0.98684,     0.98684,     0.98684,     0.98684,     0.98684,     0.98684,     0.98684,     0.98684,\n",
       "            0.98684,     0.98684,     0.98684,     0.98684,     0.98684,     0.98684,     0.98684,     0.98684,     0.98684,     0.98684,     0.98684,     0.98684,     0.98684,     0.98684,     0.98684,     0.98684,     0.98684,     0.98684,     0.98684,     0.98684,     0.98684,     0.98684,     0.98684,\n",
       "            0.98684,     0.98684,     0.98684,     0.98684,     0.98684,     0.98684,     0.98684,     0.98684,     0.98684,     0.98684,     0.98684,     0.98684,     0.98684,     0.98684,     0.98684,     0.98684,     0.98684,     0.98684,     0.98684,     0.98684,     0.98684,     0.98684,     0.98684,\n",
       "            0.98684,     0.98684,     0.98684,     0.98684,     0.98684,     0.98684,     0.98684,     0.98684,     0.98684,     0.98684,     0.98684,     0.98684,     0.98684,     0.98684,     0.98684,     0.98684,     0.98684,     0.98684,     0.98684,     0.98684,     0.98684,     0.98684,     0.98684,\n",
       "            0.98684,     0.98684,     0.98684,     0.98684,     0.98684,     0.98684,     0.98684,     0.98684,     0.98684,     0.98684,     0.98684,     0.98684,     0.98684,     0.98684,     0.98684,     0.98684,     0.98684,     0.98684,     0.98684,     0.98684,     0.98684,     0.98684,     0.98684,\n",
       "            0.98684,     0.98684,     0.98684,     0.98684,     0.98684,     0.98684,     0.98684,     0.98684,     0.98684,     0.98684,     0.98684,     0.98684,     0.98684,     0.98684,     0.98684,     0.98684,     0.98684,     0.98684,     0.98684,     0.98684,     0.98684,     0.98684,     0.98684,\n",
       "            0.98684,     0.98684,     0.98684,     0.98684,     0.98684,     0.98684,     0.98684,     0.98684,     0.98684,     0.98684,     0.98684,     0.98684,     0.98684,     0.98684,     0.98684,     0.98684,     0.98684,     0.98684,     0.98684,     0.98684,     0.98684,     0.98684,     0.98684,\n",
       "            0.98684,     0.98684,     0.98684,     0.98684,     0.98684,     0.98684,     0.98684,     0.98684,     0.98684,     0.98684,     0.98684,     0.98684,     0.98684,     0.98684,     0.98684,     0.98684,     0.98684,     0.98684,     0.98684,     0.98684,     0.98684,     0.98684,     0.98684,\n",
       "            0.98684,     0.98684,     0.98684,     0.98684,     0.98684,     0.98684,     0.98684,     0.98684,     0.98684,     0.98684,     0.98684,     0.98684,     0.98684,     0.98684,     0.98684,     0.98684,     0.98684,     0.98684,     0.98684,     0.98684,     0.98684,     0.98684,     0.98684,\n",
       "            0.98684,     0.98684,     0.98684,     0.98684,     0.98684,     0.98684,     0.98684,     0.98684,     0.98684,     0.98684,     0.98684,     0.98684,     0.98684,     0.98684,     0.98684,     0.97531,     0.97531,     0.97531,     0.97531,     0.97531,     0.97531,     0.97531,     0.97531,\n",
       "            0.97531,     0.97531,     0.97531,     0.97531,     0.97531,     0.97531,     0.97531,     0.97531,     0.97531,     0.97531,     0.97531,     0.97531,     0.97531,     0.97531,     0.97531,     0.97531,     0.97531,     0.97531,     0.97531,     0.97531,     0.97531,     0.97531,     0.97531,\n",
       "            0.97531,     0.97531,     0.97531,     0.97531,     0.97531,     0.97531,     0.97531,     0.97531,     0.96667,     0.96667,     0.96667,     0.96667,     0.96667,     0.96667,     0.96667,     0.96667,     0.96667,     0.96667,     0.96667,     0.96667,     0.96667,     0.96667,     0.96667,\n",
       "            0.96667,     0.96667,     0.96667,     0.96667,     0.96667,     0.96667,     0.96667,     0.96667,     0.96667,     0.96667,     0.96667,     0.96667,     0.96667,     0.96667,     0.96667,     0.96667,     0.96667,     0.96667,     0.96667,     0.96667,     0.96667,     0.96667,     0.96667,\n",
       "            0.96667,     0.96667,     0.96667,     0.96667,     0.96667,     0.96667,     0.96667,     0.96667,     0.96667,     0.96667,     0.96667,     0.96667,     0.96667,     0.96667,     0.96667,     0.96667,     0.96667,     0.96667,     0.96667,     0.96667,     0.96667,     0.96667,     0.96667,\n",
       "            0.96667,     0.96667,     0.96667,     0.96667,     0.96667,     0.96667,     0.96667,     0.96667,     0.96667,     0.96667,     0.96667,     0.96667,     0.96667,     0.96667,     0.96667,     0.96667,     0.95699,     0.95699,     0.95699,     0.95699,     0.95699,     0.95699,     0.95699,\n",
       "            0.95699,     0.95699,     0.95699,     0.95699,     0.95699,     0.95699,     0.95699,     0.95699,     0.95699,     0.95699,     0.95699,     0.95699,     0.95699,      0.9375,      0.9375,      0.9375,      0.9375,      0.9375,      0.9375,      0.9375,      0.9375,      0.9375,     0.91919,\n",
       "            0.91919,     0.91919,     0.91919,     0.91919,     0.91919,     0.91919,     0.91919,     0.91919,     0.91919,     0.91089,     0.91089,     0.91089,     0.91089,     0.91089,     0.91089,     0.91089,     0.91089,     0.91089,     0.91089,     0.90291,     0.90291,     0.90291,     0.90291,\n",
       "            0.90291,     0.90291,     0.90291,     0.90291,     0.90291,     0.90291,     0.88679,     0.88679,     0.88679,     0.88679,     0.88679,     0.88679,     0.88679,     0.88679,     0.88679,     0.82609,     0.82609,     0.82609,     0.82609,     0.82609,     0.82609,     0.82609,     0.82609,\n",
       "            0.82609,     0.82609,     0.58182,     0.58182,     0.58182,     0.58182,     0.58182,     0.58182,     0.58182,     0.58182,     0.58182,     0.58182,      0.4554,      0.4554,      0.4554,      0.4554,      0.4554,      0.4554,      0.4554,      0.4554,      0.4554,     0.27298,     0.27298,\n",
       "            0.27298,     0.27298,     0.27298,     0.27298,     0.27298,     0.27298,     0.27298,     0.27298,     0.23544,     0.23053,     0.22563,     0.22072,     0.21582,     0.21091,     0.20601,      0.2011,      0.1962,     0.19129,     0.18639,     0.18148,     0.17658,     0.17167,     0.16677,\n",
       "            0.16186,     0.15696,     0.15205,     0.14715,     0.14224,     0.13734,     0.13243,     0.12753,     0.12262,     0.11772,     0.11281,     0.10791,       0.103,    0.098098,    0.093193,    0.088288,    0.083383,    0.078478,    0.073574,    0.068669,    0.063764,    0.058859,    0.053954,\n",
       "           0.049049,    0.044144,    0.039239,    0.034334,    0.029429,    0.024525,     0.01962,    0.014715,   0.0098098,   0.0049049,           0]]), 'Recall', 'Precision'], [array([          0,    0.001001,    0.002002,    0.003003,    0.004004,    0.005005,    0.006006,    0.007007,    0.008008,    0.009009,     0.01001,    0.011011,    0.012012,    0.013013,    0.014014,    0.015015,    0.016016,    0.017017,    0.018018,    0.019019,     0.02002,    0.021021,    0.022022,    0.023023,\n",
       "          0.024024,    0.025025,    0.026026,    0.027027,    0.028028,    0.029029,     0.03003,    0.031031,    0.032032,    0.033033,    0.034034,    0.035035,    0.036036,    0.037037,    0.038038,    0.039039,     0.04004,    0.041041,    0.042042,    0.043043,    0.044044,    0.045045,    0.046046,    0.047047,\n",
       "          0.048048,    0.049049,     0.05005,    0.051051,    0.052052,    0.053053,    0.054054,    0.055055,    0.056056,    0.057057,    0.058058,    0.059059,     0.06006,    0.061061,    0.062062,    0.063063,    0.064064,    0.065065,    0.066066,    0.067067,    0.068068,    0.069069,     0.07007,    0.071071,\n",
       "          0.072072,    0.073073,    0.074074,    0.075075,    0.076076,    0.077077,    0.078078,    0.079079,     0.08008,    0.081081,    0.082082,    0.083083,    0.084084,    0.085085,    0.086086,    0.087087,    0.088088,    0.089089,     0.09009,    0.091091,    0.092092,    0.093093,    0.094094,    0.095095,\n",
       "          0.096096,    0.097097,    0.098098,    0.099099,      0.1001,      0.1011,      0.1021,      0.1031,      0.1041,     0.10511,     0.10611,     0.10711,     0.10811,     0.10911,     0.11011,     0.11111,     0.11211,     0.11311,     0.11411,     0.11512,     0.11612,     0.11712,     0.11812,     0.11912,\n",
       "           0.12012,     0.12112,     0.12212,     0.12312,     0.12412,     0.12513,     0.12613,     0.12713,     0.12813,     0.12913,     0.13013,     0.13113,     0.13213,     0.13313,     0.13413,     0.13514,     0.13614,     0.13714,     0.13814,     0.13914,     0.14014,     0.14114,     0.14214,     0.14314,\n",
       "           0.14414,     0.14515,     0.14615,     0.14715,     0.14815,     0.14915,     0.15015,     0.15115,     0.15215,     0.15315,     0.15415,     0.15516,     0.15616,     0.15716,     0.15816,     0.15916,     0.16016,     0.16116,     0.16216,     0.16316,     0.16416,     0.16517,     0.16617,     0.16717,\n",
       "           0.16817,     0.16917,     0.17017,     0.17117,     0.17217,     0.17317,     0.17417,     0.17518,     0.17618,     0.17718,     0.17818,     0.17918,     0.18018,     0.18118,     0.18218,     0.18318,     0.18418,     0.18519,     0.18619,     0.18719,     0.18819,     0.18919,     0.19019,     0.19119,\n",
       "           0.19219,     0.19319,     0.19419,      0.1952,      0.1962,      0.1972,      0.1982,      0.1992,      0.2002,      0.2012,      0.2022,      0.2032,      0.2042,     0.20521,     0.20621,     0.20721,     0.20821,     0.20921,     0.21021,     0.21121,     0.21221,     0.21321,     0.21421,     0.21522,\n",
       "           0.21622,     0.21722,     0.21822,     0.21922,     0.22022,     0.22122,     0.22222,     0.22322,     0.22422,     0.22523,     0.22623,     0.22723,     0.22823,     0.22923,     0.23023,     0.23123,     0.23223,     0.23323,     0.23423,     0.23524,     0.23624,     0.23724,     0.23824,     0.23924,\n",
       "           0.24024,     0.24124,     0.24224,     0.24324,     0.24424,     0.24525,     0.24625,     0.24725,     0.24825,     0.24925,     0.25025,     0.25125,     0.25225,     0.25325,     0.25425,     0.25526,     0.25626,     0.25726,     0.25826,     0.25926,     0.26026,     0.26126,     0.26226,     0.26326,\n",
       "           0.26426,     0.26527,     0.26627,     0.26727,     0.26827,     0.26927,     0.27027,     0.27127,     0.27227,     0.27327,     0.27427,     0.27528,     0.27628,     0.27728,     0.27828,     0.27928,     0.28028,     0.28128,     0.28228,     0.28328,     0.28428,     0.28529,     0.28629,     0.28729,\n",
       "           0.28829,     0.28929,     0.29029,     0.29129,     0.29229,     0.29329,     0.29429,      0.2953,      0.2963,      0.2973,      0.2983,      0.2993,      0.3003,      0.3013,      0.3023,      0.3033,      0.3043,     0.30531,     0.30631,     0.30731,     0.30831,     0.30931,     0.31031,     0.31131,\n",
       "           0.31231,     0.31331,     0.31431,     0.31532,     0.31632,     0.31732,     0.31832,     0.31932,     0.32032,     0.32132,     0.32232,     0.32332,     0.32432,     0.32533,     0.32633,     0.32733,     0.32833,     0.32933,     0.33033,     0.33133,     0.33233,     0.33333,     0.33433,     0.33534,\n",
       "           0.33634,     0.33734,     0.33834,     0.33934,     0.34034,     0.34134,     0.34234,     0.34334,     0.34434,     0.34535,     0.34635,     0.34735,     0.34835,     0.34935,     0.35035,     0.35135,     0.35235,     0.35335,     0.35435,     0.35536,     0.35636,     0.35736,     0.35836,     0.35936,\n",
       "           0.36036,     0.36136,     0.36236,     0.36336,     0.36436,     0.36537,     0.36637,     0.36737,     0.36837,     0.36937,     0.37037,     0.37137,     0.37237,     0.37337,     0.37437,     0.37538,     0.37638,     0.37738,     0.37838,     0.37938,     0.38038,     0.38138,     0.38238,     0.38338,\n",
       "           0.38438,     0.38539,     0.38639,     0.38739,     0.38839,     0.38939,     0.39039,     0.39139,     0.39239,     0.39339,     0.39439,      0.3954,      0.3964,      0.3974,      0.3984,      0.3994,      0.4004,      0.4014,      0.4024,      0.4034,      0.4044,     0.40541,     0.40641,     0.40741,\n",
       "           0.40841,     0.40941,     0.41041,     0.41141,     0.41241,     0.41341,     0.41441,     0.41542,     0.41642,     0.41742,     0.41842,     0.41942,     0.42042,     0.42142,     0.42242,     0.42342,     0.42442,     0.42543,     0.42643,     0.42743,     0.42843,     0.42943,     0.43043,     0.43143,\n",
       "           0.43243,     0.43343,     0.43443,     0.43544,     0.43644,     0.43744,     0.43844,     0.43944,     0.44044,     0.44144,     0.44244,     0.44344,     0.44444,     0.44545,     0.44645,     0.44745,     0.44845,     0.44945,     0.45045,     0.45145,     0.45245,     0.45345,     0.45445,     0.45546,\n",
       "           0.45646,     0.45746,     0.45846,     0.45946,     0.46046,     0.46146,     0.46246,     0.46346,     0.46446,     0.46547,     0.46647,     0.46747,     0.46847,     0.46947,     0.47047,     0.47147,     0.47247,     0.47347,     0.47447,     0.47548,     0.47648,     0.47748,     0.47848,     0.47948,\n",
       "           0.48048,     0.48148,     0.48248,     0.48348,     0.48448,     0.48549,     0.48649,     0.48749,     0.48849,     0.48949,     0.49049,     0.49149,     0.49249,     0.49349,     0.49449,      0.4955,      0.4965,      0.4975,      0.4985,      0.4995,      0.5005,      0.5015,      0.5025,      0.5035,\n",
       "            0.5045,     0.50551,     0.50651,     0.50751,     0.50851,     0.50951,     0.51051,     0.51151,     0.51251,     0.51351,     0.51451,     0.51552,     0.51652,     0.51752,     0.51852,     0.51952,     0.52052,     0.52152,     0.52252,     0.52352,     0.52452,     0.52553,     0.52653,     0.52753,\n",
       "           0.52853,     0.52953,     0.53053,     0.53153,     0.53253,     0.53353,     0.53453,     0.53554,     0.53654,     0.53754,     0.53854,     0.53954,     0.54054,     0.54154,     0.54254,     0.54354,     0.54454,     0.54555,     0.54655,     0.54755,     0.54855,     0.54955,     0.55055,     0.55155,\n",
       "           0.55255,     0.55355,     0.55455,     0.55556,     0.55656,     0.55756,     0.55856,     0.55956,     0.56056,     0.56156,     0.56256,     0.56356,     0.56456,     0.56557,     0.56657,     0.56757,     0.56857,     0.56957,     0.57057,     0.57157,     0.57257,     0.57357,     0.57457,     0.57558,\n",
       "           0.57658,     0.57758,     0.57858,     0.57958,     0.58058,     0.58158,     0.58258,     0.58358,     0.58458,     0.58559,     0.58659,     0.58759,     0.58859,     0.58959,     0.59059,     0.59159,     0.59259,     0.59359,     0.59459,      0.5956,      0.5966,      0.5976,      0.5986,      0.5996,\n",
       "            0.6006,      0.6016,      0.6026,      0.6036,      0.6046,     0.60561,     0.60661,     0.60761,     0.60861,     0.60961,     0.61061,     0.61161,     0.61261,     0.61361,     0.61461,     0.61562,     0.61662,     0.61762,     0.61862,     0.61962,     0.62062,     0.62162,     0.62262,     0.62362,\n",
       "           0.62462,     0.62563,     0.62663,     0.62763,     0.62863,     0.62963,     0.63063,     0.63163,     0.63263,     0.63363,     0.63463,     0.63564,     0.63664,     0.63764,     0.63864,     0.63964,     0.64064,     0.64164,     0.64264,     0.64364,     0.64464,     0.64565,     0.64665,     0.64765,\n",
       "           0.64865,     0.64965,     0.65065,     0.65165,     0.65265,     0.65365,     0.65465,     0.65566,     0.65666,     0.65766,     0.65866,     0.65966,     0.66066,     0.66166,     0.66266,     0.66366,     0.66466,     0.66567,     0.66667,     0.66767,     0.66867,     0.66967,     0.67067,     0.67167,\n",
       "           0.67267,     0.67367,     0.67467,     0.67568,     0.67668,     0.67768,     0.67868,     0.67968,     0.68068,     0.68168,     0.68268,     0.68368,     0.68468,     0.68569,     0.68669,     0.68769,     0.68869,     0.68969,     0.69069,     0.69169,     0.69269,     0.69369,     0.69469,      0.6957,\n",
       "            0.6967,      0.6977,      0.6987,      0.6997,      0.7007,      0.7017,      0.7027,      0.7037,      0.7047,     0.70571,     0.70671,     0.70771,     0.70871,     0.70971,     0.71071,     0.71171,     0.71271,     0.71371,     0.71471,     0.71572,     0.71672,     0.71772,     0.71872,     0.71972,\n",
       "           0.72072,     0.72172,     0.72272,     0.72372,     0.72472,     0.72573,     0.72673,     0.72773,     0.72873,     0.72973,     0.73073,     0.73173,     0.73273,     0.73373,     0.73473,     0.73574,     0.73674,     0.73774,     0.73874,     0.73974,     0.74074,     0.74174,     0.74274,     0.74374,\n",
       "           0.74474,     0.74575,     0.74675,     0.74775,     0.74875,     0.74975,     0.75075,     0.75175,     0.75275,     0.75375,     0.75475,     0.75576,     0.75676,     0.75776,     0.75876,     0.75976,     0.76076,     0.76176,     0.76276,     0.76376,     0.76476,     0.76577,     0.76677,     0.76777,\n",
       "           0.76877,     0.76977,     0.77077,     0.77177,     0.77277,     0.77377,     0.77477,     0.77578,     0.77678,     0.77778,     0.77878,     0.77978,     0.78078,     0.78178,     0.78278,     0.78378,     0.78478,     0.78579,     0.78679,     0.78779,     0.78879,     0.78979,     0.79079,     0.79179,\n",
       "           0.79279,     0.79379,     0.79479,      0.7958,      0.7968,      0.7978,      0.7988,      0.7998,      0.8008,      0.8018,      0.8028,      0.8038,      0.8048,     0.80581,     0.80681,     0.80781,     0.80881,     0.80981,     0.81081,     0.81181,     0.81281,     0.81381,     0.81481,     0.81582,\n",
       "           0.81682,     0.81782,     0.81882,     0.81982,     0.82082,     0.82182,     0.82282,     0.82382,     0.82482,     0.82583,     0.82683,     0.82783,     0.82883,     0.82983,     0.83083,     0.83183,     0.83283,     0.83383,     0.83483,     0.83584,     0.83684,     0.83784,     0.83884,     0.83984,\n",
       "           0.84084,     0.84184,     0.84284,     0.84384,     0.84484,     0.84585,     0.84685,     0.84785,     0.84885,     0.84985,     0.85085,     0.85185,     0.85285,     0.85385,     0.85485,     0.85586,     0.85686,     0.85786,     0.85886,     0.85986,     0.86086,     0.86186,     0.86286,     0.86386,\n",
       "           0.86486,     0.86587,     0.86687,     0.86787,     0.86887,     0.86987,     0.87087,     0.87187,     0.87287,     0.87387,     0.87487,     0.87588,     0.87688,     0.87788,     0.87888,     0.87988,     0.88088,     0.88188,     0.88288,     0.88388,     0.88488,     0.88589,     0.88689,     0.88789,\n",
       "           0.88889,     0.88989,     0.89089,     0.89189,     0.89289,     0.89389,     0.89489,      0.8959,      0.8969,      0.8979,      0.8989,      0.8999,      0.9009,      0.9019,      0.9029,      0.9039,      0.9049,     0.90591,     0.90691,     0.90791,     0.90891,     0.90991,     0.91091,     0.91191,\n",
       "           0.91291,     0.91391,     0.91491,     0.91592,     0.91692,     0.91792,     0.91892,     0.91992,     0.92092,     0.92192,     0.92292,     0.92392,     0.92492,     0.92593,     0.92693,     0.92793,     0.92893,     0.92993,     0.93093,     0.93193,     0.93293,     0.93393,     0.93493,     0.93594,\n",
       "           0.93694,     0.93794,     0.93894,     0.93994,     0.94094,     0.94194,     0.94294,     0.94394,     0.94494,     0.94595,     0.94695,     0.94795,     0.94895,     0.94995,     0.95095,     0.95195,     0.95295,     0.95395,     0.95495,     0.95596,     0.95696,     0.95796,     0.95896,     0.95996,\n",
       "           0.96096,     0.96196,     0.96296,     0.96396,     0.96496,     0.96597,     0.96697,     0.96797,     0.96897,     0.96997,     0.97097,     0.97197,     0.97297,     0.97397,     0.97497,     0.97598,     0.97698,     0.97798,     0.97898,     0.97998,     0.98098,     0.98198,     0.98298,     0.98398,\n",
       "           0.98498,     0.98599,     0.98699,     0.98799,     0.98899,     0.98999,     0.99099,     0.99199,     0.99299,     0.99399,     0.99499,       0.996,       0.997,       0.998,       0.999,           1]), array([[    0.38058,     0.38058,     0.49761,     0.54967,     0.57946,     0.60707,     0.61829,     0.63363,     0.65099,     0.66376,     0.67649,     0.68699,     0.70402,     0.71436,       0.716,     0.72615,     0.73213,     0.74266,      0.7506,      0.7575,     0.76152,     0.76879,     0.77271,\n",
       "            0.77397,     0.77523,     0.77671,     0.77825,     0.78065,     0.78426,     0.78913,     0.79077,     0.79245,     0.79417,     0.79849,     0.79933,     0.80017,     0.80101,     0.80192,     0.80314,     0.80436,     0.80566,     0.80709,     0.80853,      0.8128,      0.8153,     0.81681,\n",
       "            0.81825,     0.81955,      0.8207,     0.82185,     0.82274,      0.8233,     0.82385,     0.82441,     0.82496,     0.82551,     0.82607,     0.82726,     0.82848,     0.82973,     0.83436,     0.83611,      0.8372,      0.8376,       0.838,      0.8384,      0.8388,     0.83919,     0.83959,\n",
       "            0.83999,     0.84039,     0.84174,     0.84656,     0.84845,     0.84884,     0.84923,     0.84962,     0.85001,      0.8504,     0.85078,     0.85117,     0.85156,     0.85194,     0.85234,     0.85274,     0.85313,     0.85353,     0.85393,     0.85432,     0.85472,     0.85511,     0.85551,\n",
       "             0.8559,     0.85629,     0.85667,     0.85706,     0.85744,     0.85783,     0.85821,      0.8586,     0.85898,     0.85936,     0.85979,     0.86131,     0.86282,     0.86531,     0.86776,     0.86823,      0.8687,     0.86917,     0.86964,     0.87011,     0.87058,     0.87105,     0.87152,\n",
       "            0.86984,     0.86794,      0.8666,     0.86803,     0.86946,      0.8711,     0.87309,     0.87446,     0.87458,      0.8747,     0.87482,     0.87495,     0.87507,     0.87519,     0.87531,     0.87543,     0.87555,     0.87567,      0.8758,     0.87592,     0.87604,     0.87616,     0.87628,\n",
       "             0.8764,     0.87652,     0.87665,     0.87677,     0.87689,     0.87701,     0.87713,     0.87725,     0.87737,     0.87749,     0.87761,     0.87773,     0.87786,     0.87798,      0.8781,     0.87822,     0.87834,     0.87846,     0.88097,      0.8828,     0.88311,     0.88341,     0.88371,\n",
       "            0.88401,     0.88431,     0.88461,     0.88491,     0.88521,     0.88552,     0.88582,     0.88612,     0.88642,     0.88672,     0.88692,     0.88709,     0.88725,     0.88742,     0.88759,     0.88776,     0.88793,     0.88809,     0.88826,     0.88843,      0.8886,     0.88876,     0.88893,\n",
       "             0.8891,     0.88927,     0.88943,      0.8896,     0.88977,     0.88993,      0.8901,     0.89027,     0.89044,      0.8906,     0.89077,     0.89094,      0.8918,     0.89304,     0.89428,     0.89526,     0.89535,     0.89544,     0.89553,     0.89562,     0.89572,     0.89581,      0.8959,\n",
       "            0.89599,     0.89608,     0.89617,     0.89626,     0.89635,     0.89644,     0.89653,     0.89663,     0.89672,     0.89681,      0.8969,     0.89699,     0.89708,     0.89717,     0.89726,     0.89735,     0.89744,     0.89753,     0.89763,     0.89772,     0.89781,      0.8979,     0.89799,\n",
       "            0.89808,     0.89817,     0.89826,     0.89835,     0.89844,     0.89853,     0.89862,     0.89871,      0.8988,     0.89889,     0.89899,     0.89908,     0.89917,     0.89926,     0.89935,     0.89944,     0.89951,     0.89934,     0.89917,       0.899,     0.89883,     0.89866,     0.89849,\n",
       "            0.89833,     0.89816,     0.89799,     0.89782,     0.89765,     0.89748,     0.89731,     0.89714,     0.89697,      0.8968,     0.89663,     0.89646,     0.89629,     0.89612,     0.89595,     0.89578,     0.89561,     0.89544,     0.89527,      0.8951,     0.89493,     0.89476,     0.89459,\n",
       "            0.89442,     0.89425,     0.89439,     0.89458,     0.89476,     0.89495,     0.89514,     0.89532,     0.89551,     0.89569,     0.89588,     0.89606,     0.89625,     0.89643,     0.89662,     0.89681,     0.89699,     0.89718,     0.89736,     0.89755,     0.89773,     0.89791,      0.8981,\n",
       "            0.89828,     0.89847,     0.89867,     0.89887,     0.89908,     0.89928,     0.89949,      0.8997,      0.8999,     0.90011,     0.90031,     0.90052,     0.90073,     0.90093,     0.90114,     0.90134,     0.90155,     0.90175,     0.90196,     0.90216,     0.90237,     0.90257,     0.90278,\n",
       "            0.90289,     0.90284,     0.90278,     0.90272,     0.90267,     0.90261,     0.90256,      0.9025,     0.90244,     0.90239,     0.90233,     0.90227,     0.90222,     0.90216,     0.90211,     0.90205,     0.90199,     0.90194,     0.90188,     0.90182,     0.90177,     0.90171,     0.90165,\n",
       "             0.9016,     0.90154,     0.90148,     0.90143,     0.90137,     0.90132,     0.90126,      0.9012,     0.90115,     0.90109,     0.90103,     0.90098,     0.90092,     0.90086,     0.90081,     0.90075,     0.90069,     0.90064,     0.90058,     0.90053,     0.90047,     0.90041,     0.90036,\n",
       "             0.9003,     0.90024,     0.90019,     0.90013,     0.90007,     0.90002,     0.89996,      0.8999,     0.89985,     0.89979,     0.89973,     0.89968,     0.89962,     0.89956,     0.89951,     0.89945,      0.8994,     0.89934,     0.89928,     0.89923,     0.89917,     0.89911,     0.89906,\n",
       "              0.899,     0.89894,     0.89889,     0.89883,     0.89877,     0.89872,     0.89866,      0.8986,     0.89855,     0.89849,     0.89843,     0.89838,     0.89832,     0.89826,     0.89821,     0.89815,     0.89809,     0.89804,     0.89798,     0.89792,     0.89787,     0.89781,     0.89775,\n",
       "             0.8977,     0.89764,     0.89758,     0.89773,     0.89801,     0.89829,     0.89857,     0.89884,     0.89912,      0.8994,     0.89967,     0.89995,     0.90022,      0.9005,     0.90077,     0.90105,     0.90132,      0.9016,     0.90187,     0.90177,     0.90148,      0.9012,     0.90092,\n",
       "            0.90064,     0.90035,     0.90007,     0.89979,      0.8995,     0.89922,     0.89894,     0.89865,     0.89837,     0.89808,      0.8978,     0.89751,     0.89723,     0.89695,     0.89666,     0.89665,     0.89681,     0.89698,     0.89714,      0.8973,     0.89746,     0.89763,     0.89779,\n",
       "            0.89795,     0.89811,     0.89827,     0.89843,      0.8986,     0.89876,     0.89892,     0.89908,     0.89924,      0.8994,     0.89957,     0.89973,     0.89989,     0.90005,     0.90021,     0.90037,     0.90053,     0.90069,     0.90085,     0.90095,     0.90066,     0.90038,      0.9001,\n",
       "            0.89982,     0.89954,     0.89926,     0.89898,     0.89869,     0.89841,     0.89813,     0.89785,     0.89756,     0.89728,       0.897,     0.89672,     0.89643,     0.89615,     0.89587,     0.89558,      0.8961,     0.89682,     0.89755,     0.89827,     0.89899,     0.89971,     0.90005,\n",
       "            0.90014,     0.90022,     0.90031,      0.9004,     0.90048,     0.90057,     0.90065,     0.90074,     0.90082,     0.90091,       0.901,     0.90108,     0.90117,     0.90125,     0.90134,     0.90142,     0.90151,     0.90159,     0.90168,     0.90177,     0.90185,     0.90194,     0.90202,\n",
       "            0.90211,     0.90219,     0.90228,     0.90236,     0.90245,     0.90253,     0.90262,     0.90271,     0.90279,     0.90288,     0.90296,     0.90305,     0.90313,     0.90322,      0.9033,     0.90339,     0.90347,     0.90356,     0.90364,     0.90373,     0.90381,      0.9039,     0.90398,\n",
       "            0.90407,     0.90415,     0.90424,     0.90432,     0.90441,     0.90449,     0.90441,     0.90425,     0.90408,     0.90391,     0.90375,     0.90358,     0.90342,     0.90325,     0.90308,     0.90292,     0.90275,     0.90258,     0.90242,     0.90225,     0.90208,     0.90192,     0.90175,\n",
       "            0.90158,     0.90142,     0.90125,     0.90108,     0.90092,     0.90075,     0.90058,     0.90042,     0.90025,     0.90008,     0.89991,     0.89975,     0.89958,     0.89941,     0.89924,     0.89908,     0.89911,     0.89936,      0.8996,     0.89985,      0.9001,     0.90035,     0.90059,\n",
       "            0.90084,     0.90109,     0.90133,     0.90158,     0.90182,     0.90207,     0.90232,     0.90256,     0.90281,     0.90305,      0.9033,     0.90354,     0.90361,     0.90368,     0.90374,      0.9038,     0.90386,     0.90392,     0.90399,     0.90405,     0.90411,     0.90417,     0.90424,\n",
       "             0.9043,     0.90436,     0.90442,     0.90449,     0.90455,     0.90461,     0.90467,     0.90473,      0.9048,     0.90486,     0.90492,     0.90498,     0.90504,     0.90511,     0.90517,     0.90523,     0.90529,     0.90536,     0.90542,     0.90548,     0.90554,      0.9056,     0.90567,\n",
       "            0.90573,     0.90579,     0.90585,     0.90591,     0.90598,     0.90604,      0.9061,     0.90616,     0.90622,     0.90629,     0.90635,     0.90641,     0.90647,     0.90653,      0.9066,     0.90666,     0.90672,     0.90678,     0.90684,      0.9069,     0.90697,     0.90703,     0.90709,\n",
       "            0.90715,     0.90721,     0.90728,     0.90734,      0.9074,     0.90746,     0.90752,     0.90758,     0.90765,     0.90771,     0.90777,     0.90783,     0.90789,     0.90795,     0.90802,     0.90808,     0.90814,     0.90789,     0.90745,     0.90701,     0.90657,     0.90613,     0.90569,\n",
       "            0.90524,      0.9048,     0.90436,     0.90392,     0.90347,     0.90303,     0.90259,     0.90234,     0.90211,     0.90187,     0.90164,     0.90141,     0.90117,     0.90094,      0.9007,     0.90047,     0.90023,         0.9,     0.89976,     0.89953,     0.89929,     0.89906,     0.89882,\n",
       "            0.89859,     0.89835,     0.89811,     0.89788,     0.89764,     0.89741,     0.89717,     0.89694,     0.89703,     0.89716,      0.8973,     0.89743,     0.89756,      0.8977,     0.89783,     0.89797,      0.8981,     0.89824,     0.89837,      0.8985,     0.89864,     0.89877,     0.89891,\n",
       "            0.89904,     0.89918,     0.89931,     0.89944,     0.89958,     0.89971,     0.89984,     0.89998,     0.90011,     0.90025,     0.90038,     0.90051,     0.90065,     0.90078,     0.90091,     0.90105,     0.90118,     0.90131,     0.90145,     0.90152,     0.90131,      0.9011,     0.90089,\n",
       "            0.90068,     0.90047,     0.90026,     0.90005,     0.89985,     0.89964,     0.89943,     0.89922,     0.89901,      0.8988,     0.89859,     0.89838,     0.89817,     0.89796,     0.89775,     0.89754,     0.89733,     0.89712,     0.89691,      0.8967,     0.89649,     0.89628,     0.89607,\n",
       "            0.89586,     0.89551,     0.89514,     0.89478,     0.89441,     0.89404,     0.89367,      0.8933,     0.89293,     0.89256,     0.89219,     0.89182,     0.89145,     0.89107,      0.8907,     0.89033,     0.88997,     0.88962,     0.88928,     0.88894,      0.8886,     0.88825,     0.88791,\n",
       "            0.88757,     0.88722,     0.88688,     0.88653,     0.88619,     0.88585,      0.8855,     0.88516,     0.88481,     0.88447,     0.88413,     0.88381,      0.8835,     0.88319,     0.88287,     0.88256,     0.88224,     0.88193,     0.88161,      0.8813,     0.88098,     0.88067,     0.88035,\n",
       "            0.88004,     0.87972,     0.87941,     0.87909,     0.87877,     0.87846,     0.87669,     0.87362,     0.87186,     0.87104,     0.87021,     0.86939,     0.86856,     0.86773,     0.86691,     0.86589,     0.86437,     0.86286,     0.86134,     0.85968,     0.85762,     0.85556,     0.85416,\n",
       "            0.85455,     0.85494,     0.85533,     0.85572,      0.8561,     0.85649,     0.85688,     0.85727,     0.85765,     0.85804,     0.85842,     0.85237,     0.85122,     0.85006,     0.84889,     0.84773,     0.84656,     0.84516,     0.84363,     0.84209,     0.84055,     0.83627,     0.83473,\n",
       "            0.83711,     0.83077,      0.8296,     0.82842,     0.82725,     0.82607,     0.82489,     0.82158,     0.81819,     0.80982,     0.80784,     0.80585,     0.80421,     0.80318,     0.80214,      0.8011,     0.80005,     0.79901,     0.79796,     0.79679,     0.79556,     0.79433,      0.7931,\n",
       "            0.79186,     0.79029,     0.78338,     0.78034,     0.77728,     0.77164,     0.76191,     0.75299,     0.74953,     0.74559,     0.74039,     0.73164,     0.72491,     0.72113,     0.71784,     0.70974,     0.69561,     0.68108,     0.66701,     0.65548,     0.64695,     0.64171,     0.63418,\n",
       "            0.63523,     0.63118,     0.62008,     0.61399,     0.61034,     0.60233,     0.59598,     0.59242,     0.58843,     0.57806,     0.57147,     0.56659,     0.56245,      0.5504,     0.51422,     0.49931,     0.47539,     0.45986,     0.44698,     0.44007,     0.42042,     0.40208,     0.39612,\n",
       "            0.38531,     0.35097,     0.31283,      0.2704,      0.2585,     0.24926,     0.24109,     0.22765,     0.20985,     0.18879,     0.17265,       0.167,     0.16131,     0.14518,      0.1093,    0.073243,    0.066918,     0.06055,    0.053931,    0.046925,     0.03987,    0.034541,     0.02978,\n",
       "           0.024995,    0.020188,           0,           0,           0,           0,           0,           0,           0,           0,           0,           0,           0,           0,           0,           0,           0,           0,           0,           0,           0,           0,           0,\n",
       "                  0,           0,           0,           0,           0,           0,           0,           0,           0,           0,           0]]), 'Confidence', 'F1'], [array([          0,    0.001001,    0.002002,    0.003003,    0.004004,    0.005005,    0.006006,    0.007007,    0.008008,    0.009009,     0.01001,    0.011011,    0.012012,    0.013013,    0.014014,    0.015015,    0.016016,    0.017017,    0.018018,    0.019019,     0.02002,    0.021021,    0.022022,    0.023023,\n",
       "          0.024024,    0.025025,    0.026026,    0.027027,    0.028028,    0.029029,     0.03003,    0.031031,    0.032032,    0.033033,    0.034034,    0.035035,    0.036036,    0.037037,    0.038038,    0.039039,     0.04004,    0.041041,    0.042042,    0.043043,    0.044044,    0.045045,    0.046046,    0.047047,\n",
       "          0.048048,    0.049049,     0.05005,    0.051051,    0.052052,    0.053053,    0.054054,    0.055055,    0.056056,    0.057057,    0.058058,    0.059059,     0.06006,    0.061061,    0.062062,    0.063063,    0.064064,    0.065065,    0.066066,    0.067067,    0.068068,    0.069069,     0.07007,    0.071071,\n",
       "          0.072072,    0.073073,    0.074074,    0.075075,    0.076076,    0.077077,    0.078078,    0.079079,     0.08008,    0.081081,    0.082082,    0.083083,    0.084084,    0.085085,    0.086086,    0.087087,    0.088088,    0.089089,     0.09009,    0.091091,    0.092092,    0.093093,    0.094094,    0.095095,\n",
       "          0.096096,    0.097097,    0.098098,    0.099099,      0.1001,      0.1011,      0.1021,      0.1031,      0.1041,     0.10511,     0.10611,     0.10711,     0.10811,     0.10911,     0.11011,     0.11111,     0.11211,     0.11311,     0.11411,     0.11512,     0.11612,     0.11712,     0.11812,     0.11912,\n",
       "           0.12012,     0.12112,     0.12212,     0.12312,     0.12412,     0.12513,     0.12613,     0.12713,     0.12813,     0.12913,     0.13013,     0.13113,     0.13213,     0.13313,     0.13413,     0.13514,     0.13614,     0.13714,     0.13814,     0.13914,     0.14014,     0.14114,     0.14214,     0.14314,\n",
       "           0.14414,     0.14515,     0.14615,     0.14715,     0.14815,     0.14915,     0.15015,     0.15115,     0.15215,     0.15315,     0.15415,     0.15516,     0.15616,     0.15716,     0.15816,     0.15916,     0.16016,     0.16116,     0.16216,     0.16316,     0.16416,     0.16517,     0.16617,     0.16717,\n",
       "           0.16817,     0.16917,     0.17017,     0.17117,     0.17217,     0.17317,     0.17417,     0.17518,     0.17618,     0.17718,     0.17818,     0.17918,     0.18018,     0.18118,     0.18218,     0.18318,     0.18418,     0.18519,     0.18619,     0.18719,     0.18819,     0.18919,     0.19019,     0.19119,\n",
       "           0.19219,     0.19319,     0.19419,      0.1952,      0.1962,      0.1972,      0.1982,      0.1992,      0.2002,      0.2012,      0.2022,      0.2032,      0.2042,     0.20521,     0.20621,     0.20721,     0.20821,     0.20921,     0.21021,     0.21121,     0.21221,     0.21321,     0.21421,     0.21522,\n",
       "           0.21622,     0.21722,     0.21822,     0.21922,     0.22022,     0.22122,     0.22222,     0.22322,     0.22422,     0.22523,     0.22623,     0.22723,     0.22823,     0.22923,     0.23023,     0.23123,     0.23223,     0.23323,     0.23423,     0.23524,     0.23624,     0.23724,     0.23824,     0.23924,\n",
       "           0.24024,     0.24124,     0.24224,     0.24324,     0.24424,     0.24525,     0.24625,     0.24725,     0.24825,     0.24925,     0.25025,     0.25125,     0.25225,     0.25325,     0.25425,     0.25526,     0.25626,     0.25726,     0.25826,     0.25926,     0.26026,     0.26126,     0.26226,     0.26326,\n",
       "           0.26426,     0.26527,     0.26627,     0.26727,     0.26827,     0.26927,     0.27027,     0.27127,     0.27227,     0.27327,     0.27427,     0.27528,     0.27628,     0.27728,     0.27828,     0.27928,     0.28028,     0.28128,     0.28228,     0.28328,     0.28428,     0.28529,     0.28629,     0.28729,\n",
       "           0.28829,     0.28929,     0.29029,     0.29129,     0.29229,     0.29329,     0.29429,      0.2953,      0.2963,      0.2973,      0.2983,      0.2993,      0.3003,      0.3013,      0.3023,      0.3033,      0.3043,     0.30531,     0.30631,     0.30731,     0.30831,     0.30931,     0.31031,     0.31131,\n",
       "           0.31231,     0.31331,     0.31431,     0.31532,     0.31632,     0.31732,     0.31832,     0.31932,     0.32032,     0.32132,     0.32232,     0.32332,     0.32432,     0.32533,     0.32633,     0.32733,     0.32833,     0.32933,     0.33033,     0.33133,     0.33233,     0.33333,     0.33433,     0.33534,\n",
       "           0.33634,     0.33734,     0.33834,     0.33934,     0.34034,     0.34134,     0.34234,     0.34334,     0.34434,     0.34535,     0.34635,     0.34735,     0.34835,     0.34935,     0.35035,     0.35135,     0.35235,     0.35335,     0.35435,     0.35536,     0.35636,     0.35736,     0.35836,     0.35936,\n",
       "           0.36036,     0.36136,     0.36236,     0.36336,     0.36436,     0.36537,     0.36637,     0.36737,     0.36837,     0.36937,     0.37037,     0.37137,     0.37237,     0.37337,     0.37437,     0.37538,     0.37638,     0.37738,     0.37838,     0.37938,     0.38038,     0.38138,     0.38238,     0.38338,\n",
       "           0.38438,     0.38539,     0.38639,     0.38739,     0.38839,     0.38939,     0.39039,     0.39139,     0.39239,     0.39339,     0.39439,      0.3954,      0.3964,      0.3974,      0.3984,      0.3994,      0.4004,      0.4014,      0.4024,      0.4034,      0.4044,     0.40541,     0.40641,     0.40741,\n",
       "           0.40841,     0.40941,     0.41041,     0.41141,     0.41241,     0.41341,     0.41441,     0.41542,     0.41642,     0.41742,     0.41842,     0.41942,     0.42042,     0.42142,     0.42242,     0.42342,     0.42442,     0.42543,     0.42643,     0.42743,     0.42843,     0.42943,     0.43043,     0.43143,\n",
       "           0.43243,     0.43343,     0.43443,     0.43544,     0.43644,     0.43744,     0.43844,     0.43944,     0.44044,     0.44144,     0.44244,     0.44344,     0.44444,     0.44545,     0.44645,     0.44745,     0.44845,     0.44945,     0.45045,     0.45145,     0.45245,     0.45345,     0.45445,     0.45546,\n",
       "           0.45646,     0.45746,     0.45846,     0.45946,     0.46046,     0.46146,     0.46246,     0.46346,     0.46446,     0.46547,     0.46647,     0.46747,     0.46847,     0.46947,     0.47047,     0.47147,     0.47247,     0.47347,     0.47447,     0.47548,     0.47648,     0.47748,     0.47848,     0.47948,\n",
       "           0.48048,     0.48148,     0.48248,     0.48348,     0.48448,     0.48549,     0.48649,     0.48749,     0.48849,     0.48949,     0.49049,     0.49149,     0.49249,     0.49349,     0.49449,      0.4955,      0.4965,      0.4975,      0.4985,      0.4995,      0.5005,      0.5015,      0.5025,      0.5035,\n",
       "            0.5045,     0.50551,     0.50651,     0.50751,     0.50851,     0.50951,     0.51051,     0.51151,     0.51251,     0.51351,     0.51451,     0.51552,     0.51652,     0.51752,     0.51852,     0.51952,     0.52052,     0.52152,     0.52252,     0.52352,     0.52452,     0.52553,     0.52653,     0.52753,\n",
       "           0.52853,     0.52953,     0.53053,     0.53153,     0.53253,     0.53353,     0.53453,     0.53554,     0.53654,     0.53754,     0.53854,     0.53954,     0.54054,     0.54154,     0.54254,     0.54354,     0.54454,     0.54555,     0.54655,     0.54755,     0.54855,     0.54955,     0.55055,     0.55155,\n",
       "           0.55255,     0.55355,     0.55455,     0.55556,     0.55656,     0.55756,     0.55856,     0.55956,     0.56056,     0.56156,     0.56256,     0.56356,     0.56456,     0.56557,     0.56657,     0.56757,     0.56857,     0.56957,     0.57057,     0.57157,     0.57257,     0.57357,     0.57457,     0.57558,\n",
       "           0.57658,     0.57758,     0.57858,     0.57958,     0.58058,     0.58158,     0.58258,     0.58358,     0.58458,     0.58559,     0.58659,     0.58759,     0.58859,     0.58959,     0.59059,     0.59159,     0.59259,     0.59359,     0.59459,      0.5956,      0.5966,      0.5976,      0.5986,      0.5996,\n",
       "            0.6006,      0.6016,      0.6026,      0.6036,      0.6046,     0.60561,     0.60661,     0.60761,     0.60861,     0.60961,     0.61061,     0.61161,     0.61261,     0.61361,     0.61461,     0.61562,     0.61662,     0.61762,     0.61862,     0.61962,     0.62062,     0.62162,     0.62262,     0.62362,\n",
       "           0.62462,     0.62563,     0.62663,     0.62763,     0.62863,     0.62963,     0.63063,     0.63163,     0.63263,     0.63363,     0.63463,     0.63564,     0.63664,     0.63764,     0.63864,     0.63964,     0.64064,     0.64164,     0.64264,     0.64364,     0.64464,     0.64565,     0.64665,     0.64765,\n",
       "           0.64865,     0.64965,     0.65065,     0.65165,     0.65265,     0.65365,     0.65465,     0.65566,     0.65666,     0.65766,     0.65866,     0.65966,     0.66066,     0.66166,     0.66266,     0.66366,     0.66466,     0.66567,     0.66667,     0.66767,     0.66867,     0.66967,     0.67067,     0.67167,\n",
       "           0.67267,     0.67367,     0.67467,     0.67568,     0.67668,     0.67768,     0.67868,     0.67968,     0.68068,     0.68168,     0.68268,     0.68368,     0.68468,     0.68569,     0.68669,     0.68769,     0.68869,     0.68969,     0.69069,     0.69169,     0.69269,     0.69369,     0.69469,      0.6957,\n",
       "            0.6967,      0.6977,      0.6987,      0.6997,      0.7007,      0.7017,      0.7027,      0.7037,      0.7047,     0.70571,     0.70671,     0.70771,     0.70871,     0.70971,     0.71071,     0.71171,     0.71271,     0.71371,     0.71471,     0.71572,     0.71672,     0.71772,     0.71872,     0.71972,\n",
       "           0.72072,     0.72172,     0.72272,     0.72372,     0.72472,     0.72573,     0.72673,     0.72773,     0.72873,     0.72973,     0.73073,     0.73173,     0.73273,     0.73373,     0.73473,     0.73574,     0.73674,     0.73774,     0.73874,     0.73974,     0.74074,     0.74174,     0.74274,     0.74374,\n",
       "           0.74474,     0.74575,     0.74675,     0.74775,     0.74875,     0.74975,     0.75075,     0.75175,     0.75275,     0.75375,     0.75475,     0.75576,     0.75676,     0.75776,     0.75876,     0.75976,     0.76076,     0.76176,     0.76276,     0.76376,     0.76476,     0.76577,     0.76677,     0.76777,\n",
       "           0.76877,     0.76977,     0.77077,     0.77177,     0.77277,     0.77377,     0.77477,     0.77578,     0.77678,     0.77778,     0.77878,     0.77978,     0.78078,     0.78178,     0.78278,     0.78378,     0.78478,     0.78579,     0.78679,     0.78779,     0.78879,     0.78979,     0.79079,     0.79179,\n",
       "           0.79279,     0.79379,     0.79479,      0.7958,      0.7968,      0.7978,      0.7988,      0.7998,      0.8008,      0.8018,      0.8028,      0.8038,      0.8048,     0.80581,     0.80681,     0.80781,     0.80881,     0.80981,     0.81081,     0.81181,     0.81281,     0.81381,     0.81481,     0.81582,\n",
       "           0.81682,     0.81782,     0.81882,     0.81982,     0.82082,     0.82182,     0.82282,     0.82382,     0.82482,     0.82583,     0.82683,     0.82783,     0.82883,     0.82983,     0.83083,     0.83183,     0.83283,     0.83383,     0.83483,     0.83584,     0.83684,     0.83784,     0.83884,     0.83984,\n",
       "           0.84084,     0.84184,     0.84284,     0.84384,     0.84484,     0.84585,     0.84685,     0.84785,     0.84885,     0.84985,     0.85085,     0.85185,     0.85285,     0.85385,     0.85485,     0.85586,     0.85686,     0.85786,     0.85886,     0.85986,     0.86086,     0.86186,     0.86286,     0.86386,\n",
       "           0.86486,     0.86587,     0.86687,     0.86787,     0.86887,     0.86987,     0.87087,     0.87187,     0.87287,     0.87387,     0.87487,     0.87588,     0.87688,     0.87788,     0.87888,     0.87988,     0.88088,     0.88188,     0.88288,     0.88388,     0.88488,     0.88589,     0.88689,     0.88789,\n",
       "           0.88889,     0.88989,     0.89089,     0.89189,     0.89289,     0.89389,     0.89489,      0.8959,      0.8969,      0.8979,      0.8989,      0.8999,      0.9009,      0.9019,      0.9029,      0.9039,      0.9049,     0.90591,     0.90691,     0.90791,     0.90891,     0.90991,     0.91091,     0.91191,\n",
       "           0.91291,     0.91391,     0.91491,     0.91592,     0.91692,     0.91792,     0.91892,     0.91992,     0.92092,     0.92192,     0.92292,     0.92392,     0.92492,     0.92593,     0.92693,     0.92793,     0.92893,     0.92993,     0.93093,     0.93193,     0.93293,     0.93393,     0.93493,     0.93594,\n",
       "           0.93694,     0.93794,     0.93894,     0.93994,     0.94094,     0.94194,     0.94294,     0.94394,     0.94494,     0.94595,     0.94695,     0.94795,     0.94895,     0.94995,     0.95095,     0.95195,     0.95295,     0.95395,     0.95495,     0.95596,     0.95696,     0.95796,     0.95896,     0.95996,\n",
       "           0.96096,     0.96196,     0.96296,     0.96396,     0.96496,     0.96597,     0.96697,     0.96797,     0.96897,     0.96997,     0.97097,     0.97197,     0.97297,     0.97397,     0.97497,     0.97598,     0.97698,     0.97798,     0.97898,     0.97998,     0.98098,     0.98198,     0.98298,     0.98398,\n",
       "           0.98498,     0.98599,     0.98699,     0.98799,     0.98899,     0.98999,     0.99099,     0.99199,     0.99299,     0.99399,     0.99499,       0.996,       0.997,       0.998,       0.999,           1]), array([[    0.23786,     0.23786,     0.33814,     0.38809,     0.41847,      0.4479,     0.46258,     0.47996,     0.50017,     0.51541,     0.53092,     0.54396,     0.56564,      0.5791,     0.58511,     0.59879,     0.60696,     0.62157,     0.63278,     0.64265,     0.64846,     0.65908,     0.66486,\n",
       "            0.66673,     0.66859,      0.6708,      0.6731,      0.6767,     0.68215,     0.68954,     0.69205,     0.69463,     0.69728,     0.70397,     0.70528,     0.70659,     0.70789,     0.70932,     0.71123,     0.71314,     0.71519,     0.71745,     0.71973,     0.72653,     0.73053,     0.73296,\n",
       "            0.73528,     0.73738,     0.73924,      0.7411,     0.74257,     0.74347,     0.74438,     0.74528,     0.74619,     0.74709,       0.748,     0.74996,     0.75197,     0.75402,      0.7617,     0.76464,     0.76646,     0.76713,      0.7678,     0.76847,     0.76914,     0.76981,     0.77048,\n",
       "            0.77115,     0.77182,     0.77409,      0.7823,     0.78554,      0.7862,     0.78687,     0.78754,      0.7882,     0.78887,     0.78954,     0.79021,     0.79087,     0.79154,     0.79222,     0.79291,      0.7936,     0.79428,     0.79497,     0.79566,     0.79634,     0.79703,     0.79772,\n",
       "             0.7984,     0.79907,     0.79974,     0.80041,     0.80109,     0.80176,     0.80243,      0.8031,     0.80377,     0.80444,      0.8052,     0.80786,     0.81052,     0.81494,     0.81928,     0.82013,     0.82097,     0.82181,     0.82265,     0.82349,     0.82433,     0.82517,     0.82601,\n",
       "            0.82558,     0.82503,       0.825,      0.8276,      0.8302,     0.83319,     0.83683,     0.83936,     0.83958,     0.83981,     0.84003,     0.84026,     0.84048,     0.84071,     0.84093,     0.84115,     0.84138,      0.8416,     0.84183,     0.84205,     0.84228,      0.8425,     0.84272,\n",
       "            0.84295,     0.84317,      0.8434,     0.84362,     0.84385,     0.84407,      0.8443,     0.84452,     0.84474,     0.84497,     0.84519,     0.84542,     0.84564,     0.84587,     0.84609,     0.84631,     0.84654,     0.84676,     0.85145,     0.85487,     0.85544,     0.85601,     0.85657,\n",
       "            0.85714,     0.85771,     0.85827,     0.85884,     0.85941,     0.85997,     0.86054,     0.86111,     0.86167,     0.86224,     0.86262,     0.86294,     0.86326,     0.86358,     0.86389,     0.86421,     0.86453,     0.86485,     0.86517,     0.86548,      0.8658,     0.86612,     0.86644,\n",
       "            0.86676,     0.86708,     0.86739,     0.86771,     0.86803,     0.86835,     0.86867,     0.86898,      0.8693,     0.86962,     0.86994,     0.87026,      0.8719,     0.87429,     0.87667,     0.87854,     0.87872,      0.8789,     0.87907,     0.87925,     0.87942,      0.8796,     0.87978,\n",
       "            0.87995,     0.88013,      0.8803,     0.88048,     0.88065,     0.88083,     0.88101,     0.88118,     0.88136,     0.88153,     0.88171,     0.88188,     0.88206,     0.88224,     0.88241,     0.88259,     0.88276,     0.88294,     0.88311,     0.88329,     0.88347,     0.88364,     0.88382,\n",
       "            0.88399,     0.88417,     0.88435,     0.88452,      0.8847,     0.88487,     0.88505,     0.88522,      0.8854,     0.88558,     0.88575,     0.88593,      0.8861,     0.88628,     0.88645,     0.88663,     0.88679,     0.88676,     0.88672,     0.88669,     0.88665,     0.88662,     0.88658,\n",
       "            0.88655,     0.88651,     0.88648,     0.88644,     0.88641,     0.88638,     0.88634,     0.88631,     0.88627,     0.88624,      0.8862,     0.88617,     0.88613,      0.8861,     0.88606,     0.88603,       0.886,     0.88596,     0.88593,     0.88589,     0.88586,     0.88582,     0.88579,\n",
       "            0.88575,     0.88572,     0.88603,     0.88639,     0.88676,     0.88713,     0.88749,     0.88786,     0.88822,     0.88859,     0.88895,     0.88932,     0.88968,     0.89005,     0.89041,     0.89078,     0.89115,     0.89151,     0.89188,     0.89224,     0.89261,     0.89297,     0.89334,\n",
       "             0.8937,     0.89407,     0.89446,     0.89487,     0.89528,     0.89569,      0.8961,      0.8965,     0.89691,     0.89732,     0.89773,     0.89814,     0.89855,     0.89896,     0.89937,     0.89978,     0.90019,      0.9006,     0.90101,     0.90142,     0.90182,     0.90223,     0.90264,\n",
       "            0.90291,      0.9029,     0.90289,     0.90288,     0.90287,     0.90286,     0.90285,     0.90284,     0.90283,     0.90282,     0.90281,      0.9028,     0.90279,     0.90278,     0.90277,     0.90276,     0.90275,     0.90274,     0.90273,     0.90272,     0.90271,      0.9027,     0.90269,\n",
       "            0.90268,     0.90267,     0.90266,     0.90265,     0.90264,     0.90263,     0.90262,     0.90261,      0.9026,     0.90259,     0.90258,     0.90257,     0.90256,     0.90255,     0.90254,     0.90253,     0.90252,     0.90251,      0.9025,     0.90249,     0.90248,     0.90247,     0.90246,\n",
       "            0.90245,     0.90244,     0.90243,     0.90242,     0.90241,      0.9024,     0.90239,     0.90238,     0.90237,     0.90236,     0.90235,     0.90234,     0.90233,     0.90232,     0.90231,      0.9023,     0.90229,     0.90228,     0.90227,     0.90226,     0.90225,     0.90224,     0.90223,\n",
       "            0.90222,     0.90221,      0.9022,     0.90219,     0.90218,     0.90217,     0.90216,     0.90215,     0.90214,     0.90213,     0.90212,     0.90211,      0.9021,     0.90209,     0.90208,     0.90207,     0.90205,     0.90204,     0.90203,     0.90202,     0.90201,       0.902,     0.90199,\n",
       "            0.90198,     0.90197,     0.90196,     0.90231,     0.90287,     0.90343,     0.90399,     0.90455,     0.90511,     0.90567,     0.90623,     0.90679,     0.90735,     0.90791,     0.90847,     0.90903,     0.90959,     0.91016,     0.91072,     0.91086,     0.91081,     0.91077,     0.91072,\n",
       "            0.91067,     0.91063,     0.91058,     0.91053,     0.91049,     0.91044,     0.91039,     0.91035,      0.9103,     0.91025,      0.9102,     0.91016,     0.91011,     0.91006,     0.91002,     0.91021,     0.91054,     0.91088,     0.91121,     0.91155,     0.91188,     0.91221,     0.91255,\n",
       "            0.91288,     0.91322,     0.91355,     0.91389,     0.91422,     0.91456,     0.91489,     0.91523,     0.91556,      0.9159,     0.91623,     0.91657,      0.9169,     0.91724,     0.91757,     0.91791,     0.91824,     0.91857,     0.91891,     0.91919,     0.91914,      0.9191,     0.91906,\n",
       "            0.91901,     0.91897,     0.91893,     0.91889,     0.91884,      0.9188,     0.91876,     0.91872,     0.91867,     0.91863,     0.91859,     0.91855,      0.9185,     0.91846,     0.91842,     0.91838,     0.91957,      0.9211,     0.92264,     0.92417,      0.9257,     0.92723,     0.92795,\n",
       "            0.92813,     0.92831,     0.92849,     0.92868,     0.92886,     0.92904,     0.92922,     0.92941,     0.92959,     0.92977,     0.92995,     0.93014,     0.93032,      0.9305,     0.93068,     0.93087,     0.93105,     0.93123,     0.93141,      0.9316,     0.93178,     0.93196,     0.93214,\n",
       "            0.93233,     0.93251,     0.93269,     0.93287,     0.93306,     0.93324,     0.93342,      0.9336,     0.93379,     0.93397,     0.93415,     0.93434,     0.93452,      0.9347,     0.93488,     0.93507,     0.93525,     0.93543,     0.93561,      0.9358,     0.93598,     0.93616,     0.93634,\n",
       "            0.93653,     0.93671,     0.93689,     0.93707,     0.93726,     0.93744,     0.93749,     0.93747,     0.93745,     0.93743,     0.93741,     0.93739,     0.93737,     0.93735,     0.93733,     0.93731,     0.93729,     0.93727,     0.93725,     0.93723,     0.93721,     0.93719,     0.93717,\n",
       "            0.93715,     0.93713,     0.93711,     0.93709,     0.93707,     0.93705,     0.93703,     0.93701,     0.93699,     0.93697,     0.93695,     0.93693,     0.93691,     0.93689,     0.93687,     0.93685,      0.9371,     0.93764,     0.93818,     0.93871,     0.93925,     0.93979,     0.94033,\n",
       "            0.94087,     0.94141,     0.94194,     0.94248,     0.94302,     0.94356,      0.9441,     0.94464,     0.94517,     0.94571,     0.94625,     0.94679,     0.94694,     0.94708,     0.94721,     0.94735,     0.94749,     0.94763,     0.94776,      0.9479,     0.94804,     0.94817,     0.94831,\n",
       "            0.94845,     0.94858,     0.94872,     0.94886,     0.94899,     0.94913,     0.94927,     0.94941,     0.94954,     0.94968,     0.94982,     0.94995,     0.95009,     0.95023,     0.95036,      0.9505,     0.95064,     0.95077,     0.95091,     0.95105,     0.95119,     0.95132,     0.95146,\n",
       "             0.9516,     0.95173,     0.95187,     0.95201,     0.95214,     0.95228,     0.95242,     0.95256,     0.95269,     0.95283,     0.95297,      0.9531,     0.95324,     0.95338,     0.95351,     0.95365,     0.95379,     0.95392,     0.95406,      0.9542,     0.95434,     0.95447,     0.95461,\n",
       "            0.95475,     0.95488,     0.95502,     0.95516,     0.95529,     0.95543,     0.95557,     0.95571,     0.95584,     0.95598,     0.95612,     0.95625,     0.95639,     0.95653,     0.95666,      0.9568,     0.95694,     0.95697,     0.95693,     0.95689,     0.95686,     0.95682,     0.95678,\n",
       "            0.95674,     0.95671,     0.95667,     0.95663,      0.9566,     0.95656,     0.95652,      0.9565,     0.95648,     0.95646,     0.95644,     0.95642,      0.9564,     0.95638,     0.95636,     0.95634,     0.95632,      0.9563,     0.95628,     0.95626,     0.95624,     0.95622,     0.95621,\n",
       "            0.95619,     0.95617,     0.95615,     0.95613,     0.95611,     0.95609,     0.95607,     0.95605,     0.95631,     0.95662,     0.95693,     0.95723,     0.95754,     0.95784,     0.95815,     0.95846,     0.95876,     0.95907,     0.95938,     0.95968,     0.95999,     0.96029,      0.9606,\n",
       "            0.96091,     0.96121,     0.96152,     0.96183,     0.96213,     0.96244,     0.96274,     0.96305,     0.96336,     0.96366,     0.96397,     0.96427,     0.96458,     0.96489,     0.96519,      0.9655,     0.96581,     0.96611,     0.96642,     0.96666,     0.96665,     0.96664,     0.96662,\n",
       "            0.96661,      0.9666,     0.96658,     0.96657,     0.96655,     0.96654,     0.96653,     0.96651,      0.9665,     0.96649,     0.96647,     0.96646,     0.96644,     0.96643,     0.96642,      0.9664,     0.96639,     0.96638,     0.96636,     0.96635,     0.96634,     0.96632,     0.96631,\n",
       "            0.96629,     0.96627,     0.96625,     0.96622,      0.9662,     0.96617,     0.96615,     0.96612,      0.9661,     0.96607,     0.96605,     0.96603,       0.966,     0.96598,     0.96595,     0.96593,      0.9659,     0.96588,     0.96586,     0.96583,     0.96581,     0.96579,     0.96576,\n",
       "            0.96574,     0.96572,      0.9657,     0.96567,     0.96565,     0.96563,      0.9656,     0.96558,     0.96556,     0.96553,     0.96551,     0.96549,     0.96547,     0.96545,     0.96543,      0.9654,     0.96538,     0.96536,     0.96534,     0.96532,      0.9653,     0.96528,     0.96525,\n",
       "            0.96523,     0.96521,     0.96519,     0.96517,     0.96515,     0.96513,       0.965,     0.96479,     0.96467,     0.96461,     0.96456,      0.9645,     0.96444,     0.96438,     0.96433,     0.96426,     0.96415,     0.96404,     0.96393,     0.96382,     0.96367,     0.96352,     0.96368,\n",
       "            0.96468,     0.96567,     0.96666,     0.96766,     0.96865,     0.96964,     0.97064,     0.97163,     0.97262,     0.97362,     0.97461,       0.975,     0.97494,     0.97488,     0.97482,     0.97476,      0.9747,     0.97463,     0.97455,     0.97448,      0.9744,     0.97418,     0.97785,\n",
       "             0.9844,     0.98665,     0.98662,     0.98658,     0.98655,     0.98652,     0.98649,      0.9864,      0.9863,     0.98606,     0.98601,     0.98595,      0.9859,     0.98587,     0.98584,     0.98581,     0.98578,     0.98575,     0.98572,     0.98569,     0.98565,     0.98561,     0.98558,\n",
       "            0.98554,     0.98549,     0.98529,     0.98519,      0.9851,     0.98492,     0.98462,     0.98433,     0.98421,     0.98408,      0.9839,      0.9836,     0.98337,     0.98323,     0.98311,     0.98282,     0.98229,     0.98172,     0.98115,     0.98066,     0.98029,     0.98005,     0.97971,\n",
       "            0.99735,           1,           1,           1,           1,           1,           1,           1,           1,           1,           1,           1,           1,           1,           1,           1,           1,           1,           1,           1,           1,           1,           1,\n",
       "                  1,           1,           1,           1,           1,           1,           1,           1,           1,           1,           1,           1,           1,           1,           1,           1,           1,           1,           1,           1,           1,           1,           1,\n",
       "                  1,           1,           1,           1,           1,           1,           1,           1,           1,           1,           1,           1,           1,           1,           1,           1,           1,           1,           1,           1,           1,           1,           1,\n",
       "                  1,           1,           1,           1,           1,           1,           1,           1,           1,           1,           1]]), 'Confidence', 'Precision'], [array([          0,    0.001001,    0.002002,    0.003003,    0.004004,    0.005005,    0.006006,    0.007007,    0.008008,    0.009009,     0.01001,    0.011011,    0.012012,    0.013013,    0.014014,    0.015015,    0.016016,    0.017017,    0.018018,    0.019019,     0.02002,    0.021021,    0.022022,    0.023023,\n",
       "          0.024024,    0.025025,    0.026026,    0.027027,    0.028028,    0.029029,     0.03003,    0.031031,    0.032032,    0.033033,    0.034034,    0.035035,    0.036036,    0.037037,    0.038038,    0.039039,     0.04004,    0.041041,    0.042042,    0.043043,    0.044044,    0.045045,    0.046046,    0.047047,\n",
       "          0.048048,    0.049049,     0.05005,    0.051051,    0.052052,    0.053053,    0.054054,    0.055055,    0.056056,    0.057057,    0.058058,    0.059059,     0.06006,    0.061061,    0.062062,    0.063063,    0.064064,    0.065065,    0.066066,    0.067067,    0.068068,    0.069069,     0.07007,    0.071071,\n",
       "          0.072072,    0.073073,    0.074074,    0.075075,    0.076076,    0.077077,    0.078078,    0.079079,     0.08008,    0.081081,    0.082082,    0.083083,    0.084084,    0.085085,    0.086086,    0.087087,    0.088088,    0.089089,     0.09009,    0.091091,    0.092092,    0.093093,    0.094094,    0.095095,\n",
       "          0.096096,    0.097097,    0.098098,    0.099099,      0.1001,      0.1011,      0.1021,      0.1031,      0.1041,     0.10511,     0.10611,     0.10711,     0.10811,     0.10911,     0.11011,     0.11111,     0.11211,     0.11311,     0.11411,     0.11512,     0.11612,     0.11712,     0.11812,     0.11912,\n",
       "           0.12012,     0.12112,     0.12212,     0.12312,     0.12412,     0.12513,     0.12613,     0.12713,     0.12813,     0.12913,     0.13013,     0.13113,     0.13213,     0.13313,     0.13413,     0.13514,     0.13614,     0.13714,     0.13814,     0.13914,     0.14014,     0.14114,     0.14214,     0.14314,\n",
       "           0.14414,     0.14515,     0.14615,     0.14715,     0.14815,     0.14915,     0.15015,     0.15115,     0.15215,     0.15315,     0.15415,     0.15516,     0.15616,     0.15716,     0.15816,     0.15916,     0.16016,     0.16116,     0.16216,     0.16316,     0.16416,     0.16517,     0.16617,     0.16717,\n",
       "           0.16817,     0.16917,     0.17017,     0.17117,     0.17217,     0.17317,     0.17417,     0.17518,     0.17618,     0.17718,     0.17818,     0.17918,     0.18018,     0.18118,     0.18218,     0.18318,     0.18418,     0.18519,     0.18619,     0.18719,     0.18819,     0.18919,     0.19019,     0.19119,\n",
       "           0.19219,     0.19319,     0.19419,      0.1952,      0.1962,      0.1972,      0.1982,      0.1992,      0.2002,      0.2012,      0.2022,      0.2032,      0.2042,     0.20521,     0.20621,     0.20721,     0.20821,     0.20921,     0.21021,     0.21121,     0.21221,     0.21321,     0.21421,     0.21522,\n",
       "           0.21622,     0.21722,     0.21822,     0.21922,     0.22022,     0.22122,     0.22222,     0.22322,     0.22422,     0.22523,     0.22623,     0.22723,     0.22823,     0.22923,     0.23023,     0.23123,     0.23223,     0.23323,     0.23423,     0.23524,     0.23624,     0.23724,     0.23824,     0.23924,\n",
       "           0.24024,     0.24124,     0.24224,     0.24324,     0.24424,     0.24525,     0.24625,     0.24725,     0.24825,     0.24925,     0.25025,     0.25125,     0.25225,     0.25325,     0.25425,     0.25526,     0.25626,     0.25726,     0.25826,     0.25926,     0.26026,     0.26126,     0.26226,     0.26326,\n",
       "           0.26426,     0.26527,     0.26627,     0.26727,     0.26827,     0.26927,     0.27027,     0.27127,     0.27227,     0.27327,     0.27427,     0.27528,     0.27628,     0.27728,     0.27828,     0.27928,     0.28028,     0.28128,     0.28228,     0.28328,     0.28428,     0.28529,     0.28629,     0.28729,\n",
       "           0.28829,     0.28929,     0.29029,     0.29129,     0.29229,     0.29329,     0.29429,      0.2953,      0.2963,      0.2973,      0.2983,      0.2993,      0.3003,      0.3013,      0.3023,      0.3033,      0.3043,     0.30531,     0.30631,     0.30731,     0.30831,     0.30931,     0.31031,     0.31131,\n",
       "           0.31231,     0.31331,     0.31431,     0.31532,     0.31632,     0.31732,     0.31832,     0.31932,     0.32032,     0.32132,     0.32232,     0.32332,     0.32432,     0.32533,     0.32633,     0.32733,     0.32833,     0.32933,     0.33033,     0.33133,     0.33233,     0.33333,     0.33433,     0.33534,\n",
       "           0.33634,     0.33734,     0.33834,     0.33934,     0.34034,     0.34134,     0.34234,     0.34334,     0.34434,     0.34535,     0.34635,     0.34735,     0.34835,     0.34935,     0.35035,     0.35135,     0.35235,     0.35335,     0.35435,     0.35536,     0.35636,     0.35736,     0.35836,     0.35936,\n",
       "           0.36036,     0.36136,     0.36236,     0.36336,     0.36436,     0.36537,     0.36637,     0.36737,     0.36837,     0.36937,     0.37037,     0.37137,     0.37237,     0.37337,     0.37437,     0.37538,     0.37638,     0.37738,     0.37838,     0.37938,     0.38038,     0.38138,     0.38238,     0.38338,\n",
       "           0.38438,     0.38539,     0.38639,     0.38739,     0.38839,     0.38939,     0.39039,     0.39139,     0.39239,     0.39339,     0.39439,      0.3954,      0.3964,      0.3974,      0.3984,      0.3994,      0.4004,      0.4014,      0.4024,      0.4034,      0.4044,     0.40541,     0.40641,     0.40741,\n",
       "           0.40841,     0.40941,     0.41041,     0.41141,     0.41241,     0.41341,     0.41441,     0.41542,     0.41642,     0.41742,     0.41842,     0.41942,     0.42042,     0.42142,     0.42242,     0.42342,     0.42442,     0.42543,     0.42643,     0.42743,     0.42843,     0.42943,     0.43043,     0.43143,\n",
       "           0.43243,     0.43343,     0.43443,     0.43544,     0.43644,     0.43744,     0.43844,     0.43944,     0.44044,     0.44144,     0.44244,     0.44344,     0.44444,     0.44545,     0.44645,     0.44745,     0.44845,     0.44945,     0.45045,     0.45145,     0.45245,     0.45345,     0.45445,     0.45546,\n",
       "           0.45646,     0.45746,     0.45846,     0.45946,     0.46046,     0.46146,     0.46246,     0.46346,     0.46446,     0.46547,     0.46647,     0.46747,     0.46847,     0.46947,     0.47047,     0.47147,     0.47247,     0.47347,     0.47447,     0.47548,     0.47648,     0.47748,     0.47848,     0.47948,\n",
       "           0.48048,     0.48148,     0.48248,     0.48348,     0.48448,     0.48549,     0.48649,     0.48749,     0.48849,     0.48949,     0.49049,     0.49149,     0.49249,     0.49349,     0.49449,      0.4955,      0.4965,      0.4975,      0.4985,      0.4995,      0.5005,      0.5015,      0.5025,      0.5035,\n",
       "            0.5045,     0.50551,     0.50651,     0.50751,     0.50851,     0.50951,     0.51051,     0.51151,     0.51251,     0.51351,     0.51451,     0.51552,     0.51652,     0.51752,     0.51852,     0.51952,     0.52052,     0.52152,     0.52252,     0.52352,     0.52452,     0.52553,     0.52653,     0.52753,\n",
       "           0.52853,     0.52953,     0.53053,     0.53153,     0.53253,     0.53353,     0.53453,     0.53554,     0.53654,     0.53754,     0.53854,     0.53954,     0.54054,     0.54154,     0.54254,     0.54354,     0.54454,     0.54555,     0.54655,     0.54755,     0.54855,     0.54955,     0.55055,     0.55155,\n",
       "           0.55255,     0.55355,     0.55455,     0.55556,     0.55656,     0.55756,     0.55856,     0.55956,     0.56056,     0.56156,     0.56256,     0.56356,     0.56456,     0.56557,     0.56657,     0.56757,     0.56857,     0.56957,     0.57057,     0.57157,     0.57257,     0.57357,     0.57457,     0.57558,\n",
       "           0.57658,     0.57758,     0.57858,     0.57958,     0.58058,     0.58158,     0.58258,     0.58358,     0.58458,     0.58559,     0.58659,     0.58759,     0.58859,     0.58959,     0.59059,     0.59159,     0.59259,     0.59359,     0.59459,      0.5956,      0.5966,      0.5976,      0.5986,      0.5996,\n",
       "            0.6006,      0.6016,      0.6026,      0.6036,      0.6046,     0.60561,     0.60661,     0.60761,     0.60861,     0.60961,     0.61061,     0.61161,     0.61261,     0.61361,     0.61461,     0.61562,     0.61662,     0.61762,     0.61862,     0.61962,     0.62062,     0.62162,     0.62262,     0.62362,\n",
       "           0.62462,     0.62563,     0.62663,     0.62763,     0.62863,     0.62963,     0.63063,     0.63163,     0.63263,     0.63363,     0.63463,     0.63564,     0.63664,     0.63764,     0.63864,     0.63964,     0.64064,     0.64164,     0.64264,     0.64364,     0.64464,     0.64565,     0.64665,     0.64765,\n",
       "           0.64865,     0.64965,     0.65065,     0.65165,     0.65265,     0.65365,     0.65465,     0.65566,     0.65666,     0.65766,     0.65866,     0.65966,     0.66066,     0.66166,     0.66266,     0.66366,     0.66466,     0.66567,     0.66667,     0.66767,     0.66867,     0.66967,     0.67067,     0.67167,\n",
       "           0.67267,     0.67367,     0.67467,     0.67568,     0.67668,     0.67768,     0.67868,     0.67968,     0.68068,     0.68168,     0.68268,     0.68368,     0.68468,     0.68569,     0.68669,     0.68769,     0.68869,     0.68969,     0.69069,     0.69169,     0.69269,     0.69369,     0.69469,      0.6957,\n",
       "            0.6967,      0.6977,      0.6987,      0.6997,      0.7007,      0.7017,      0.7027,      0.7037,      0.7047,     0.70571,     0.70671,     0.70771,     0.70871,     0.70971,     0.71071,     0.71171,     0.71271,     0.71371,     0.71471,     0.71572,     0.71672,     0.71772,     0.71872,     0.71972,\n",
       "           0.72072,     0.72172,     0.72272,     0.72372,     0.72472,     0.72573,     0.72673,     0.72773,     0.72873,     0.72973,     0.73073,     0.73173,     0.73273,     0.73373,     0.73473,     0.73574,     0.73674,     0.73774,     0.73874,     0.73974,     0.74074,     0.74174,     0.74274,     0.74374,\n",
       "           0.74474,     0.74575,     0.74675,     0.74775,     0.74875,     0.74975,     0.75075,     0.75175,     0.75275,     0.75375,     0.75475,     0.75576,     0.75676,     0.75776,     0.75876,     0.75976,     0.76076,     0.76176,     0.76276,     0.76376,     0.76476,     0.76577,     0.76677,     0.76777,\n",
       "           0.76877,     0.76977,     0.77077,     0.77177,     0.77277,     0.77377,     0.77477,     0.77578,     0.77678,     0.77778,     0.77878,     0.77978,     0.78078,     0.78178,     0.78278,     0.78378,     0.78478,     0.78579,     0.78679,     0.78779,     0.78879,     0.78979,     0.79079,     0.79179,\n",
       "           0.79279,     0.79379,     0.79479,      0.7958,      0.7968,      0.7978,      0.7988,      0.7998,      0.8008,      0.8018,      0.8028,      0.8038,      0.8048,     0.80581,     0.80681,     0.80781,     0.80881,     0.80981,     0.81081,     0.81181,     0.81281,     0.81381,     0.81481,     0.81582,\n",
       "           0.81682,     0.81782,     0.81882,     0.81982,     0.82082,     0.82182,     0.82282,     0.82382,     0.82482,     0.82583,     0.82683,     0.82783,     0.82883,     0.82983,     0.83083,     0.83183,     0.83283,     0.83383,     0.83483,     0.83584,     0.83684,     0.83784,     0.83884,     0.83984,\n",
       "           0.84084,     0.84184,     0.84284,     0.84384,     0.84484,     0.84585,     0.84685,     0.84785,     0.84885,     0.84985,     0.85085,     0.85185,     0.85285,     0.85385,     0.85485,     0.85586,     0.85686,     0.85786,     0.85886,     0.85986,     0.86086,     0.86186,     0.86286,     0.86386,\n",
       "           0.86486,     0.86587,     0.86687,     0.86787,     0.86887,     0.86987,     0.87087,     0.87187,     0.87287,     0.87387,     0.87487,     0.87588,     0.87688,     0.87788,     0.87888,     0.87988,     0.88088,     0.88188,     0.88288,     0.88388,     0.88488,     0.88589,     0.88689,     0.88789,\n",
       "           0.88889,     0.88989,     0.89089,     0.89189,     0.89289,     0.89389,     0.89489,      0.8959,      0.8969,      0.8979,      0.8989,      0.8999,      0.9009,      0.9019,      0.9029,      0.9039,      0.9049,     0.90591,     0.90691,     0.90791,     0.90891,     0.90991,     0.91091,     0.91191,\n",
       "           0.91291,     0.91391,     0.91491,     0.91592,     0.91692,     0.91792,     0.91892,     0.91992,     0.92092,     0.92192,     0.92292,     0.92392,     0.92492,     0.92593,     0.92693,     0.92793,     0.92893,     0.92993,     0.93093,     0.93193,     0.93293,     0.93393,     0.93493,     0.93594,\n",
       "           0.93694,     0.93794,     0.93894,     0.93994,     0.94094,     0.94194,     0.94294,     0.94394,     0.94494,     0.94595,     0.94695,     0.94795,     0.94895,     0.94995,     0.95095,     0.95195,     0.95295,     0.95395,     0.95495,     0.95596,     0.95696,     0.95796,     0.95896,     0.95996,\n",
       "           0.96096,     0.96196,     0.96296,     0.96396,     0.96496,     0.96597,     0.96697,     0.96797,     0.96897,     0.96997,     0.97097,     0.97197,     0.97297,     0.97397,     0.97497,     0.97598,     0.97698,     0.97798,     0.97898,     0.97998,     0.98098,     0.98198,     0.98298,     0.98398,\n",
       "           0.98498,     0.98599,     0.98699,     0.98799,     0.98899,     0.98999,     0.99099,     0.99199,     0.99299,     0.99399,     0.99499,       0.996,       0.997,       0.998,       0.999,           1]), array([[    0.95146,     0.95146,     0.94175,     0.94175,     0.94175,     0.94175,     0.93204,     0.93204,     0.93204,     0.93204,     0.93204,     0.93204,     0.93204,     0.93204,     0.92233,     0.92233,     0.92233,     0.92233,     0.92233,     0.92233,     0.92233,     0.92233,     0.92233,\n",
       "            0.92233,     0.92233,     0.92233,     0.92233,     0.92233,     0.92233,     0.92233,     0.92233,     0.92233,     0.92233,     0.92233,     0.92233,     0.92233,     0.92233,     0.92233,     0.92233,     0.92233,     0.92233,     0.92233,     0.92233,     0.92233,     0.92233,     0.92233,\n",
       "            0.92233,     0.92233,     0.92233,     0.92233,     0.92233,     0.92233,     0.92233,     0.92233,     0.92233,     0.92233,     0.92233,     0.92233,     0.92233,     0.92233,     0.92233,     0.92233,     0.92233,     0.92233,     0.92233,     0.92233,     0.92233,     0.92233,     0.92233,\n",
       "            0.92233,     0.92233,     0.92233,     0.92233,     0.92233,     0.92233,     0.92233,     0.92233,     0.92233,     0.92233,     0.92233,     0.92233,     0.92233,     0.92233,     0.92233,     0.92233,     0.92233,     0.92233,     0.92233,     0.92233,     0.92233,     0.92233,     0.92233,\n",
       "            0.92233,     0.92233,     0.92233,     0.92233,     0.92233,     0.92233,     0.92233,     0.92233,     0.92233,     0.92233,     0.92233,     0.92233,     0.92233,     0.92233,     0.92233,     0.92233,     0.92233,     0.92233,     0.92233,     0.92233,     0.92233,     0.92233,     0.92233,\n",
       "            0.91912,     0.91557,     0.91262,     0.91262,     0.91262,     0.91262,     0.91262,     0.91262,     0.91262,     0.91262,     0.91262,     0.91262,     0.91262,     0.91262,     0.91262,     0.91262,     0.91262,     0.91262,     0.91262,     0.91262,     0.91262,     0.91262,     0.91262,\n",
       "            0.91262,     0.91262,     0.91262,     0.91262,     0.91262,     0.91262,     0.91262,     0.91262,     0.91262,     0.91262,     0.91262,     0.91262,     0.91262,     0.91262,     0.91262,     0.91262,     0.91262,     0.91262,     0.91262,     0.91262,     0.91262,     0.91262,     0.91262,\n",
       "            0.91262,     0.91262,     0.91262,     0.91262,     0.91262,     0.91262,     0.91262,     0.91262,     0.91262,     0.91262,     0.91262,     0.91262,     0.91262,     0.91262,     0.91262,     0.91262,     0.91262,     0.91262,     0.91262,     0.91262,     0.91262,     0.91262,     0.91262,\n",
       "            0.91262,     0.91262,     0.91262,     0.91262,     0.91262,     0.91262,     0.91262,     0.91262,     0.91262,     0.91262,     0.91262,     0.91262,     0.91262,     0.91262,     0.91262,     0.91262,     0.91262,     0.91262,     0.91262,     0.91262,     0.91262,     0.91262,     0.91262,\n",
       "            0.91262,     0.91262,     0.91262,     0.91262,     0.91262,     0.91262,     0.91262,     0.91262,     0.91262,     0.91262,     0.91262,     0.91262,     0.91262,     0.91262,     0.91262,     0.91262,     0.91262,     0.91262,     0.91262,     0.91262,     0.91262,     0.91262,     0.91262,\n",
       "            0.91262,     0.91262,     0.91262,     0.91262,     0.91262,     0.91262,     0.91262,     0.91262,     0.91262,     0.91262,     0.91262,     0.91262,     0.91262,     0.91262,     0.91262,     0.91262,      0.9126,     0.91229,     0.91198,     0.91166,     0.91135,     0.91104,     0.91073,\n",
       "            0.91042,     0.91011,      0.9098,     0.90949,     0.90918,     0.90887,     0.90855,     0.90824,     0.90793,     0.90762,     0.90731,       0.907,     0.90669,     0.90638,     0.90607,     0.90575,     0.90544,     0.90513,     0.90482,     0.90451,      0.9042,     0.90389,     0.90358,\n",
       "            0.90327,     0.90296,     0.90291,     0.90291,     0.90291,     0.90291,     0.90291,     0.90291,     0.90291,     0.90291,     0.90291,     0.90291,     0.90291,     0.90291,     0.90291,     0.90291,     0.90291,     0.90291,     0.90291,     0.90291,     0.90291,     0.90291,     0.90291,\n",
       "            0.90291,     0.90291,     0.90291,     0.90291,     0.90291,     0.90291,     0.90291,     0.90291,     0.90291,     0.90291,     0.90291,     0.90291,     0.90291,     0.90291,     0.90291,     0.90291,     0.90291,     0.90291,     0.90291,     0.90291,     0.90291,     0.90291,     0.90291,\n",
       "            0.90288,     0.90278,     0.90267,     0.90257,     0.90247,     0.90237,     0.90226,     0.90216,     0.90206,     0.90196,     0.90185,     0.90175,     0.90165,     0.90155,     0.90144,     0.90134,     0.90124,     0.90114,     0.90103,     0.90093,     0.90083,     0.90073,     0.90062,\n",
       "            0.90052,     0.90042,     0.90032,     0.90021,     0.90011,     0.90001,     0.89991,      0.8998,      0.8997,      0.8996,      0.8995,     0.89939,     0.89929,     0.89919,     0.89909,     0.89898,     0.89888,     0.89878,     0.89867,     0.89857,     0.89847,     0.89837,     0.89826,\n",
       "            0.89816,     0.89806,     0.89796,     0.89785,     0.89775,     0.89765,     0.89755,     0.89744,     0.89734,     0.89724,     0.89714,     0.89703,     0.89693,     0.89683,     0.89673,     0.89662,     0.89652,     0.89642,     0.89632,     0.89621,     0.89611,     0.89601,     0.89591,\n",
       "             0.8958,      0.8957,      0.8956,      0.8955,     0.89539,     0.89529,     0.89519,     0.89509,     0.89498,     0.89488,     0.89478,     0.89468,     0.89457,     0.89447,     0.89437,     0.89427,     0.89416,     0.89406,     0.89396,     0.89386,     0.89375,     0.89365,     0.89355,\n",
       "            0.89345,     0.89334,     0.89324,      0.8932,      0.8932,      0.8932,      0.8932,      0.8932,      0.8932,      0.8932,      0.8932,      0.8932,      0.8932,      0.8932,      0.8932,      0.8932,      0.8932,      0.8932,      0.8932,     0.89285,     0.89235,     0.89184,     0.89133,\n",
       "            0.89082,     0.89031,      0.8898,     0.88929,     0.88878,     0.88827,     0.88776,     0.88725,     0.88675,     0.88624,     0.88573,     0.88522,     0.88471,      0.8842,     0.88369,      0.8835,      0.8835,      0.8835,      0.8835,      0.8835,      0.8835,      0.8835,      0.8835,\n",
       "             0.8835,      0.8835,      0.8835,      0.8835,      0.8835,      0.8835,      0.8835,      0.8835,      0.8835,      0.8835,      0.8835,      0.8835,      0.8835,      0.8835,      0.8835,      0.8835,      0.8835,      0.8835,      0.8835,     0.88342,     0.88292,     0.88241,     0.88191,\n",
       "            0.88141,     0.88091,     0.88041,     0.87991,     0.87941,     0.87891,      0.8784,      0.8779,      0.8774,      0.8769,      0.8764,      0.8759,      0.8754,      0.8749,     0.87439,     0.87389,     0.87379,     0.87379,     0.87379,     0.87379,     0.87379,     0.87379,     0.87379,\n",
       "            0.87379,     0.87379,     0.87379,     0.87379,     0.87379,     0.87379,     0.87379,     0.87379,     0.87379,     0.87379,     0.87379,     0.87379,     0.87379,     0.87379,     0.87379,     0.87379,     0.87379,     0.87379,     0.87379,     0.87379,     0.87379,     0.87379,     0.87379,\n",
       "            0.87379,     0.87379,     0.87379,     0.87379,     0.87379,     0.87379,     0.87379,     0.87379,     0.87379,     0.87379,     0.87379,     0.87379,     0.87379,     0.87379,     0.87379,     0.87379,     0.87379,     0.87379,     0.87379,     0.87379,     0.87379,     0.87379,     0.87379,\n",
       "            0.87379,     0.87379,     0.87379,     0.87379,     0.87379,     0.87379,     0.87359,      0.8733,     0.87301,     0.87271,     0.87242,     0.87213,     0.87184,     0.87154,     0.87125,     0.87096,     0.87067,     0.87037,     0.87008,     0.86979,      0.8695,      0.8692,     0.86891,\n",
       "            0.86862,     0.86833,     0.86803,     0.86774,     0.86745,     0.86716,     0.86686,     0.86657,     0.86628,     0.86599,     0.86569,      0.8654,     0.86511,     0.86482,     0.86452,     0.86423,     0.86408,     0.86408,     0.86408,     0.86408,     0.86408,     0.86408,     0.86408,\n",
       "            0.86408,     0.86408,     0.86408,     0.86408,     0.86408,     0.86408,     0.86408,     0.86408,     0.86408,     0.86408,     0.86408,     0.86408,     0.86408,     0.86408,     0.86408,     0.86408,     0.86408,     0.86408,     0.86408,     0.86408,     0.86408,     0.86408,     0.86408,\n",
       "            0.86408,     0.86408,     0.86408,     0.86408,     0.86408,     0.86408,     0.86408,     0.86408,     0.86408,     0.86408,     0.86408,     0.86408,     0.86408,     0.86408,     0.86408,     0.86408,     0.86408,     0.86408,     0.86408,     0.86408,     0.86408,     0.86408,     0.86408,\n",
       "            0.86408,     0.86408,     0.86408,     0.86408,     0.86408,     0.86408,     0.86408,     0.86408,     0.86408,     0.86408,     0.86408,     0.86408,     0.86408,     0.86408,     0.86408,     0.86408,     0.86408,     0.86408,     0.86408,     0.86408,     0.86408,     0.86408,     0.86408,\n",
       "            0.86408,     0.86408,     0.86408,     0.86408,     0.86408,     0.86408,     0.86408,     0.86408,     0.86408,     0.86408,     0.86408,     0.86408,     0.86408,     0.86408,     0.86408,     0.86408,     0.86408,      0.8636,     0.86283,     0.86207,      0.8613,     0.86054,     0.85977,\n",
       "              0.859,     0.85824,     0.85747,     0.85671,     0.85594,     0.85518,     0.85441,     0.85399,     0.85358,     0.85318,     0.85278,     0.85237,     0.85197,     0.85157,     0.85116,     0.85076,     0.85036,     0.84995,     0.84955,     0.84915,     0.84874,     0.84834,     0.84794,\n",
       "            0.84753,     0.84713,     0.84673,     0.84632,     0.84592,     0.84552,     0.84511,     0.84471,     0.84466,     0.84466,     0.84466,     0.84466,     0.84466,     0.84466,     0.84466,     0.84466,     0.84466,     0.84466,     0.84466,     0.84466,     0.84466,     0.84466,     0.84466,\n",
       "            0.84466,     0.84466,     0.84466,     0.84466,     0.84466,     0.84466,     0.84466,     0.84466,     0.84466,     0.84466,     0.84466,     0.84466,     0.84466,     0.84466,     0.84466,     0.84466,     0.84466,     0.84466,     0.84466,     0.84459,     0.84424,     0.84388,     0.84353,\n",
       "            0.84317,     0.84282,     0.84246,     0.84211,     0.84175,      0.8414,     0.84104,     0.84068,     0.84033,     0.83997,     0.83962,     0.83926,     0.83891,     0.83855,      0.8382,     0.83784,     0.83749,     0.83713,     0.83677,     0.83642,     0.83606,     0.83571,     0.83535,\n",
       "              0.835,     0.83441,     0.83379,     0.83317,     0.83255,     0.83192,      0.8313,     0.83068,     0.83006,     0.82944,     0.82882,     0.82819,     0.82757,     0.82695,     0.82633,     0.82571,      0.8251,     0.82453,     0.82396,     0.82338,     0.82281,     0.82224,     0.82167,\n",
       "             0.8211,     0.82053,     0.81996,     0.81938,     0.81881,     0.81824,     0.81767,      0.8171,     0.81653,     0.81596,      0.8154,     0.81488,     0.81436,     0.81384,     0.81333,     0.81281,     0.81229,     0.81177,     0.81125,     0.81073,     0.81022,      0.8097,     0.80918,\n",
       "            0.80866,     0.80814,     0.80762,     0.80711,     0.80659,     0.80607,     0.80319,      0.7982,     0.79534,     0.79401,     0.79268,     0.79135,     0.79002,     0.78869,     0.78736,     0.78573,     0.78331,      0.7809,     0.77848,     0.77585,      0.7726,     0.76936,     0.76699,\n",
       "            0.76699,     0.76699,     0.76699,     0.76699,     0.76699,     0.76699,     0.76699,     0.76699,     0.76699,     0.76699,     0.76699,     0.75715,     0.75536,     0.75357,     0.75178,     0.74999,      0.7482,     0.74605,     0.74371,     0.74137,     0.73904,     0.73257,     0.72816,\n",
       "            0.72816,     0.71742,     0.71569,     0.71397,     0.71224,     0.71051,     0.70878,     0.70395,     0.69904,     0.68702,      0.6842,     0.68139,     0.67907,     0.67761,     0.67614,     0.67468,     0.67322,     0.67175,     0.67029,     0.66864,     0.66693,     0.66523,     0.66352,\n",
       "            0.66181,     0.65963,     0.65015,     0.64601,     0.64188,     0.63429,     0.62137,      0.6097,     0.60521,     0.60014,     0.59351,     0.58244,     0.57403,     0.56935,      0.5653,     0.55542,     0.53846,     0.52141,     0.50525,     0.49226,     0.48279,     0.47703,     0.46883,\n",
       "            0.46602,     0.46111,     0.44935,     0.44299,      0.4392,     0.43096,     0.42448,     0.42088,     0.41686,     0.40653,     0.40004,     0.39527,     0.39126,     0.37969,     0.34609,     0.33272,     0.31181,     0.29859,     0.28782,     0.28211,     0.26616,     0.25163,     0.24698,\n",
       "            0.23862,     0.21283,     0.18542,     0.15633,     0.14844,     0.14237,     0.13707,     0.12845,     0.11723,     0.10423,    0.094484,    0.091106,    0.087728,    0.078274,    0.057809,    0.038014,    0.034617,     0.03122,    0.027713,    0.024026,     0.02034,    0.017574,    0.015115,\n",
       "           0.012656,    0.010197,           0,           0,           0,           0,           0,           0,           0,           0,           0,           0,           0,           0,           0,           0,           0,           0,           0,           0,           0,           0,           0,\n",
       "                  0,           0,           0,           0,           0,           0,           0,           0,           0,           0,           0]]), 'Confidence', 'Recall']]\n",
       "fitness: 0.7998068569306852\n",
       "keys: ['metrics/precision(B)', 'metrics/recall(B)', 'metrics/mAP50(B)', 'metrics/mAP50-95(B)']\n",
       "maps: array([    0.78546])\n",
       "names: {0: 'hospital bed'}\n",
       "plot: True\n",
       "results_dict: {'metrics/precision(B)': 0.9525552792905844, 'metrics/recall(B)': 0.8640776699029126, 'metrics/mAP50(B)': 0.9289001391595612, 'metrics/mAP50-95(B)': 0.7854631589052545, 'fitness': 0.7998068569306852}\n",
       "save_dir: WindowsPath('D:/runs/detect/train3')\n",
       "speed: {'preprocess': 2.147538321358817, 'inference': 296.41799245561873, 'loss': 0.0, 'postprocess': 0.07632800510951451}\n",
       "task: 'detect'"
      ]
     },
     "execution_count": 8,
     "metadata": {},
     "output_type": "execute_result"
    }
   ],
   "source": [
    "model.train(data=\"dataset/data.yaml\", epochs=50, imgsz=640, batch=8, device='cpu')  # Since GPU not availaible \n",
    "                                                                                    # we will use CPU for training\n",
    "                                                                                    # This requires time"
   ]
  },
  {
   "cell_type": "markdown",
   "id": "3965883b",
   "metadata": {},
   "source": [
    "bed detection model location - \"D:/runs/detect/train3/weights/best.pt\""
   ]
  },
  {
   "cell_type": "markdown",
   "id": "a8aa91a6",
   "metadata": {},
   "source": [
    "#### Testing the model"
   ]
  },
  {
   "cell_type": "code",
   "execution_count": 7,
   "id": "8442359f",
   "metadata": {},
   "outputs": [
    {
     "name": "stdout",
     "output_type": "stream",
     "text": [
      "\n",
      "image 1/1 C:\\Users\\User\\Documents\\DS and ML\\Bed-availability-Detection\\download.jpg: 384x640 5 hospital beds, 168.9ms\n",
      "Speed: 2.0ms preprocess, 168.9ms inference, 2.0ms postprocess per image at shape (1, 3, 384, 640)\n",
      "Results saved to \u001b[1mD:\\runs\\detect\\predict15\u001b[0m\n"
     ]
    }
   ],
   "source": [
    "my_model = YOLO(\"D:/runs/detect/train3/weights/best.pt\")  \n",
    "\n",
    "results = my_model(\"download.jpg\", save=True)  # Testing on a random image from the internet. You can use your own image"
   ]
  },
  {
   "cell_type": "markdown",
   "id": "9a483133",
   "metadata": {},
   "source": [
    "#### Finding  the Precision, mAP(Mean Average Precision) and Recall values of the model on Test Dataset"
   ]
  },
  {
   "cell_type": "code",
   "execution_count": 4,
   "id": "19128035",
   "metadata": {},
   "outputs": [
    {
     "name": "stdout",
     "output_type": "stream",
     "text": [
      "Ultralytics 8.3.74  Python-3.11.7 torch-2.6.0+cpu CPU (11th Gen Intel Core(TM) i5-11260H 2.60GHz)\n"
     ]
    },
    {
     "name": "stderr",
     "output_type": "stream",
     "text": [
      "\u001b[34m\u001b[1mval: \u001b[0mScanning C:\\Users\\User\\Documents\\DS and ML\\Bed-availability-Detection\\dataset\\test\\labels... 20 images, 0 backgrou\u001b[0m"
     ]
    },
    {
     "name": "stdout",
     "output_type": "stream",
     "text": [
      "\u001b[34m\u001b[1mval: \u001b[0mNew cache created: C:\\Users\\User\\Documents\\DS and ML\\Bed-availability-Detection\\dataset\\test\\labels.cache\n"
     ]
    },
    {
     "name": "stderr",
     "output_type": "stream",
     "text": [
      "\n",
      "                 Class     Images  Instances      Box(P          R      mAP50  mAP50-95): 100%|██████████| 2/2 [00:06<0\n"
     ]
    },
    {
     "name": "stdout",
     "output_type": "stream",
     "text": [
      "                   all         20         63      0.974      0.841      0.932      0.806\n",
      "Speed: 2.4ms preprocess, 289.1ms inference, 0.0ms loss, 0.4ms postprocess per image\n",
      "Results saved to \u001b[1mD:\\runs\\detect\\val2\u001b[0m\n",
      "ultralytics.utils.metrics.DetMetrics object with attributes:\n",
      "\n",
      "ap_class_index: array([0])\n",
      "box: ultralytics.utils.metrics.Metric object\n",
      "confusion_matrix: <ultralytics.utils.metrics.ConfusionMatrix object at 0x000001A0E18D0D90>\n",
      "curves: ['Precision-Recall(B)', 'F1-Confidence(B)', 'Precision-Confidence(B)', 'Recall-Confidence(B)']\n",
      "curves_results: [[array([          0,    0.001001,    0.002002,    0.003003,    0.004004,    0.005005,    0.006006,    0.007007,    0.008008,    0.009009,     0.01001,    0.011011,    0.012012,    0.013013,    0.014014,    0.015015,    0.016016,    0.017017,    0.018018,    0.019019,     0.02002,    0.021021,    0.022022,    0.023023,\n",
      "          0.024024,    0.025025,    0.026026,    0.027027,    0.028028,    0.029029,     0.03003,    0.031031,    0.032032,    0.033033,    0.034034,    0.035035,    0.036036,    0.037037,    0.038038,    0.039039,     0.04004,    0.041041,    0.042042,    0.043043,    0.044044,    0.045045,    0.046046,    0.047047,\n",
      "          0.048048,    0.049049,     0.05005,    0.051051,    0.052052,    0.053053,    0.054054,    0.055055,    0.056056,    0.057057,    0.058058,    0.059059,     0.06006,    0.061061,    0.062062,    0.063063,    0.064064,    0.065065,    0.066066,    0.067067,    0.068068,    0.069069,     0.07007,    0.071071,\n",
      "          0.072072,    0.073073,    0.074074,    0.075075,    0.076076,    0.077077,    0.078078,    0.079079,     0.08008,    0.081081,    0.082082,    0.083083,    0.084084,    0.085085,    0.086086,    0.087087,    0.088088,    0.089089,     0.09009,    0.091091,    0.092092,    0.093093,    0.094094,    0.095095,\n",
      "          0.096096,    0.097097,    0.098098,    0.099099,      0.1001,      0.1011,      0.1021,      0.1031,      0.1041,     0.10511,     0.10611,     0.10711,     0.10811,     0.10911,     0.11011,     0.11111,     0.11211,     0.11311,     0.11411,     0.11512,     0.11612,     0.11712,     0.11812,     0.11912,\n",
      "           0.12012,     0.12112,     0.12212,     0.12312,     0.12412,     0.12513,     0.12613,     0.12713,     0.12813,     0.12913,     0.13013,     0.13113,     0.13213,     0.13313,     0.13413,     0.13514,     0.13614,     0.13714,     0.13814,     0.13914,     0.14014,     0.14114,     0.14214,     0.14314,\n",
      "           0.14414,     0.14515,     0.14615,     0.14715,     0.14815,     0.14915,     0.15015,     0.15115,     0.15215,     0.15315,     0.15415,     0.15516,     0.15616,     0.15716,     0.15816,     0.15916,     0.16016,     0.16116,     0.16216,     0.16316,     0.16416,     0.16517,     0.16617,     0.16717,\n",
      "           0.16817,     0.16917,     0.17017,     0.17117,     0.17217,     0.17317,     0.17417,     0.17518,     0.17618,     0.17718,     0.17818,     0.17918,     0.18018,     0.18118,     0.18218,     0.18318,     0.18418,     0.18519,     0.18619,     0.18719,     0.18819,     0.18919,     0.19019,     0.19119,\n",
      "           0.19219,     0.19319,     0.19419,      0.1952,      0.1962,      0.1972,      0.1982,      0.1992,      0.2002,      0.2012,      0.2022,      0.2032,      0.2042,     0.20521,     0.20621,     0.20721,     0.20821,     0.20921,     0.21021,     0.21121,     0.21221,     0.21321,     0.21421,     0.21522,\n",
      "           0.21622,     0.21722,     0.21822,     0.21922,     0.22022,     0.22122,     0.22222,     0.22322,     0.22422,     0.22523,     0.22623,     0.22723,     0.22823,     0.22923,     0.23023,     0.23123,     0.23223,     0.23323,     0.23423,     0.23524,     0.23624,     0.23724,     0.23824,     0.23924,\n",
      "           0.24024,     0.24124,     0.24224,     0.24324,     0.24424,     0.24525,     0.24625,     0.24725,     0.24825,     0.24925,     0.25025,     0.25125,     0.25225,     0.25325,     0.25425,     0.25526,     0.25626,     0.25726,     0.25826,     0.25926,     0.26026,     0.26126,     0.26226,     0.26326,\n",
      "           0.26426,     0.26527,     0.26627,     0.26727,     0.26827,     0.26927,     0.27027,     0.27127,     0.27227,     0.27327,     0.27427,     0.27528,     0.27628,     0.27728,     0.27828,     0.27928,     0.28028,     0.28128,     0.28228,     0.28328,     0.28428,     0.28529,     0.28629,     0.28729,\n",
      "           0.28829,     0.28929,     0.29029,     0.29129,     0.29229,     0.29329,     0.29429,      0.2953,      0.2963,      0.2973,      0.2983,      0.2993,      0.3003,      0.3013,      0.3023,      0.3033,      0.3043,     0.30531,     0.30631,     0.30731,     0.30831,     0.30931,     0.31031,     0.31131,\n",
      "           0.31231,     0.31331,     0.31431,     0.31532,     0.31632,     0.31732,     0.31832,     0.31932,     0.32032,     0.32132,     0.32232,     0.32332,     0.32432,     0.32533,     0.32633,     0.32733,     0.32833,     0.32933,     0.33033,     0.33133,     0.33233,     0.33333,     0.33433,     0.33534,\n",
      "           0.33634,     0.33734,     0.33834,     0.33934,     0.34034,     0.34134,     0.34234,     0.34334,     0.34434,     0.34535,     0.34635,     0.34735,     0.34835,     0.34935,     0.35035,     0.35135,     0.35235,     0.35335,     0.35435,     0.35536,     0.35636,     0.35736,     0.35836,     0.35936,\n",
      "           0.36036,     0.36136,     0.36236,     0.36336,     0.36436,     0.36537,     0.36637,     0.36737,     0.36837,     0.36937,     0.37037,     0.37137,     0.37237,     0.37337,     0.37437,     0.37538,     0.37638,     0.37738,     0.37838,     0.37938,     0.38038,     0.38138,     0.38238,     0.38338,\n",
      "           0.38438,     0.38539,     0.38639,     0.38739,     0.38839,     0.38939,     0.39039,     0.39139,     0.39239,     0.39339,     0.39439,      0.3954,      0.3964,      0.3974,      0.3984,      0.3994,      0.4004,      0.4014,      0.4024,      0.4034,      0.4044,     0.40541,     0.40641,     0.40741,\n",
      "           0.40841,     0.40941,     0.41041,     0.41141,     0.41241,     0.41341,     0.41441,     0.41542,     0.41642,     0.41742,     0.41842,     0.41942,     0.42042,     0.42142,     0.42242,     0.42342,     0.42442,     0.42543,     0.42643,     0.42743,     0.42843,     0.42943,     0.43043,     0.43143,\n",
      "           0.43243,     0.43343,     0.43443,     0.43544,     0.43644,     0.43744,     0.43844,     0.43944,     0.44044,     0.44144,     0.44244,     0.44344,     0.44444,     0.44545,     0.44645,     0.44745,     0.44845,     0.44945,     0.45045,     0.45145,     0.45245,     0.45345,     0.45445,     0.45546,\n",
      "           0.45646,     0.45746,     0.45846,     0.45946,     0.46046,     0.46146,     0.46246,     0.46346,     0.46446,     0.46547,     0.46647,     0.46747,     0.46847,     0.46947,     0.47047,     0.47147,     0.47247,     0.47347,     0.47447,     0.47548,     0.47648,     0.47748,     0.47848,     0.47948,\n",
      "           0.48048,     0.48148,     0.48248,     0.48348,     0.48448,     0.48549,     0.48649,     0.48749,     0.48849,     0.48949,     0.49049,     0.49149,     0.49249,     0.49349,     0.49449,      0.4955,      0.4965,      0.4975,      0.4985,      0.4995,      0.5005,      0.5015,      0.5025,      0.5035,\n",
      "            0.5045,     0.50551,     0.50651,     0.50751,     0.50851,     0.50951,     0.51051,     0.51151,     0.51251,     0.51351,     0.51451,     0.51552,     0.51652,     0.51752,     0.51852,     0.51952,     0.52052,     0.52152,     0.52252,     0.52352,     0.52452,     0.52553,     0.52653,     0.52753,\n",
      "           0.52853,     0.52953,     0.53053,     0.53153,     0.53253,     0.53353,     0.53453,     0.53554,     0.53654,     0.53754,     0.53854,     0.53954,     0.54054,     0.54154,     0.54254,     0.54354,     0.54454,     0.54555,     0.54655,     0.54755,     0.54855,     0.54955,     0.55055,     0.55155,\n",
      "           0.55255,     0.55355,     0.55455,     0.55556,     0.55656,     0.55756,     0.55856,     0.55956,     0.56056,     0.56156,     0.56256,     0.56356,     0.56456,     0.56557,     0.56657,     0.56757,     0.56857,     0.56957,     0.57057,     0.57157,     0.57257,     0.57357,     0.57457,     0.57558,\n",
      "           0.57658,     0.57758,     0.57858,     0.57958,     0.58058,     0.58158,     0.58258,     0.58358,     0.58458,     0.58559,     0.58659,     0.58759,     0.58859,     0.58959,     0.59059,     0.59159,     0.59259,     0.59359,     0.59459,      0.5956,      0.5966,      0.5976,      0.5986,      0.5996,\n",
      "            0.6006,      0.6016,      0.6026,      0.6036,      0.6046,     0.60561,     0.60661,     0.60761,     0.60861,     0.60961,     0.61061,     0.61161,     0.61261,     0.61361,     0.61461,     0.61562,     0.61662,     0.61762,     0.61862,     0.61962,     0.62062,     0.62162,     0.62262,     0.62362,\n",
      "           0.62462,     0.62563,     0.62663,     0.62763,     0.62863,     0.62963,     0.63063,     0.63163,     0.63263,     0.63363,     0.63463,     0.63564,     0.63664,     0.63764,     0.63864,     0.63964,     0.64064,     0.64164,     0.64264,     0.64364,     0.64464,     0.64565,     0.64665,     0.64765,\n",
      "           0.64865,     0.64965,     0.65065,     0.65165,     0.65265,     0.65365,     0.65465,     0.65566,     0.65666,     0.65766,     0.65866,     0.65966,     0.66066,     0.66166,     0.66266,     0.66366,     0.66466,     0.66567,     0.66667,     0.66767,     0.66867,     0.66967,     0.67067,     0.67167,\n",
      "           0.67267,     0.67367,     0.67467,     0.67568,     0.67668,     0.67768,     0.67868,     0.67968,     0.68068,     0.68168,     0.68268,     0.68368,     0.68468,     0.68569,     0.68669,     0.68769,     0.68869,     0.68969,     0.69069,     0.69169,     0.69269,     0.69369,     0.69469,      0.6957,\n",
      "            0.6967,      0.6977,      0.6987,      0.6997,      0.7007,      0.7017,      0.7027,      0.7037,      0.7047,     0.70571,     0.70671,     0.70771,     0.70871,     0.70971,     0.71071,     0.71171,     0.71271,     0.71371,     0.71471,     0.71572,     0.71672,     0.71772,     0.71872,     0.71972,\n",
      "           0.72072,     0.72172,     0.72272,     0.72372,     0.72472,     0.72573,     0.72673,     0.72773,     0.72873,     0.72973,     0.73073,     0.73173,     0.73273,     0.73373,     0.73473,     0.73574,     0.73674,     0.73774,     0.73874,     0.73974,     0.74074,     0.74174,     0.74274,     0.74374,\n",
      "           0.74474,     0.74575,     0.74675,     0.74775,     0.74875,     0.74975,     0.75075,     0.75175,     0.75275,     0.75375,     0.75475,     0.75576,     0.75676,     0.75776,     0.75876,     0.75976,     0.76076,     0.76176,     0.76276,     0.76376,     0.76476,     0.76577,     0.76677,     0.76777,\n",
      "           0.76877,     0.76977,     0.77077,     0.77177,     0.77277,     0.77377,     0.77477,     0.77578,     0.77678,     0.77778,     0.77878,     0.77978,     0.78078,     0.78178,     0.78278,     0.78378,     0.78478,     0.78579,     0.78679,     0.78779,     0.78879,     0.78979,     0.79079,     0.79179,\n",
      "           0.79279,     0.79379,     0.79479,      0.7958,      0.7968,      0.7978,      0.7988,      0.7998,      0.8008,      0.8018,      0.8028,      0.8038,      0.8048,     0.80581,     0.80681,     0.80781,     0.80881,     0.80981,     0.81081,     0.81181,     0.81281,     0.81381,     0.81481,     0.81582,\n",
      "           0.81682,     0.81782,     0.81882,     0.81982,     0.82082,     0.82182,     0.82282,     0.82382,     0.82482,     0.82583,     0.82683,     0.82783,     0.82883,     0.82983,     0.83083,     0.83183,     0.83283,     0.83383,     0.83483,     0.83584,     0.83684,     0.83784,     0.83884,     0.83984,\n",
      "           0.84084,     0.84184,     0.84284,     0.84384,     0.84484,     0.84585,     0.84685,     0.84785,     0.84885,     0.84985,     0.85085,     0.85185,     0.85285,     0.85385,     0.85485,     0.85586,     0.85686,     0.85786,     0.85886,     0.85986,     0.86086,     0.86186,     0.86286,     0.86386,\n",
      "           0.86486,     0.86587,     0.86687,     0.86787,     0.86887,     0.86987,     0.87087,     0.87187,     0.87287,     0.87387,     0.87487,     0.87588,     0.87688,     0.87788,     0.87888,     0.87988,     0.88088,     0.88188,     0.88288,     0.88388,     0.88488,     0.88589,     0.88689,     0.88789,\n",
      "           0.88889,     0.88989,     0.89089,     0.89189,     0.89289,     0.89389,     0.89489,      0.8959,      0.8969,      0.8979,      0.8989,      0.8999,      0.9009,      0.9019,      0.9029,      0.9039,      0.9049,     0.90591,     0.90691,     0.90791,     0.90891,     0.90991,     0.91091,     0.91191,\n",
      "           0.91291,     0.91391,     0.91491,     0.91592,     0.91692,     0.91792,     0.91892,     0.91992,     0.92092,     0.92192,     0.92292,     0.92392,     0.92492,     0.92593,     0.92693,     0.92793,     0.92893,     0.92993,     0.93093,     0.93193,     0.93293,     0.93393,     0.93493,     0.93594,\n",
      "           0.93694,     0.93794,     0.93894,     0.93994,     0.94094,     0.94194,     0.94294,     0.94394,     0.94494,     0.94595,     0.94695,     0.94795,     0.94895,     0.94995,     0.95095,     0.95195,     0.95295,     0.95395,     0.95495,     0.95596,     0.95696,     0.95796,     0.95896,     0.95996,\n",
      "           0.96096,     0.96196,     0.96296,     0.96396,     0.96496,     0.96597,     0.96697,     0.96797,     0.96897,     0.96997,     0.97097,     0.97197,     0.97297,     0.97397,     0.97497,     0.97598,     0.97698,     0.97798,     0.97898,     0.97998,     0.98098,     0.98198,     0.98298,     0.98398,\n",
      "           0.98498,     0.98599,     0.98699,     0.98799,     0.98899,     0.98999,     0.99099,     0.99199,     0.99299,     0.99399,     0.99499,       0.996,       0.997,       0.998,       0.999,           1]), array([[          1,           1,           1,           1,           1,           1,           1,           1,           1,           1,           1,           1,           1,           1,           1,           1,           1,           1,           1,           1,           1,           1,           1,\n",
      "                  1,           1,           1,           1,           1,           1,           1,           1,           1,           1,           1,           1,           1,           1,           1,           1,           1,           1,           1,           1,           1,           1,           1,\n",
      "                  1,           1,           1,           1,           1,           1,           1,           1,           1,           1,           1,           1,           1,           1,           1,           1,           1,           1,           1,           1,           1,           1,           1,\n",
      "                  1,           1,           1,           1,           1,           1,           1,           1,           1,           1,           1,           1,           1,           1,           1,           1,           1,           1,           1,           1,           1,           1,           1,\n",
      "                  1,           1,           1,           1,           1,           1,           1,           1,           1,           1,           1,           1,           1,           1,           1,           1,           1,           1,           1,           1,           1,           1,           1,\n",
      "                  1,           1,           1,           1,           1,           1,           1,           1,           1,           1,           1,           1,           1,           1,           1,           1,           1,           1,           1,           1,           1,           1,           1,\n",
      "                  1,           1,           1,           1,           1,           1,           1,           1,           1,           1,           1,           1,           1,           1,           1,           1,           1,           1,           1,           1,           1,           1,           1,\n",
      "                  1,           1,           1,           1,           1,           1,           1,           1,           1,           1,           1,           1,           1,           1,           1,           1,           1,           1,           1,           1,           1,           1,           1,\n",
      "                  1,           1,           1,           1,           1,           1,           1,           1,           1,           1,           1,           1,           1,           1,           1,           1,           1,           1,           1,           1,           1,           1,           1,\n",
      "                  1,           1,           1,           1,           1,           1,           1,           1,           1,           1,           1,           1,           1,           1,           1,           1,           1,           1,           1,           1,           1,           1,           1,\n",
      "                  1,           1,           1,           1,           1,           1,           1,           1,           1,           1,           1,           1,           1,           1,           1,           1,           1,           1,           1,           1,           1,           1,           1,\n",
      "                  1,           1,           1,           1,           1,           1,           1,           1,           1,           1,           1,           1,           1,           1,           1,           1,           1,           1,           1,           1,           1,           1,           1,\n",
      "                  1,           1,           1,           1,           1,           1,           1,           1,           1,           1,           1,           1,           1,           1,           1,           1,           1,           1,           1,           1,           1,           1,           1,\n",
      "                  1,           1,           1,           1,           1,           1,           1,           1,           1,           1,           1,           1,           1,           1,           1,           1,           1,           1,           1,           1,           1,           1,           1,\n",
      "                  1,           1,           1,           1,           1,           1,           1,           1,           1,           1,           1,           1,           1,           1,           1,           1,           1,           1,           1,           1,           1,           1,           1,\n",
      "                  1,           1,           1,           1,           1,           1,           1,           1,           1,           1,           1,           1,           1,           1,           1,           1,           1,           1,           1,           1,           1,           1,           1,\n",
      "                  1,           1,           1,           1,           1,           1,           1,           1,           1,           1,           1,           1,           1,           1,           1,           1,           1,           1,           1,           1,           1,           1,           1,\n",
      "                  1,           1,           1,           1,           1,           1,           1,           1,           1,           1,           1,           1,           1,           1,           1,           1,           1,           1,           1,           1,           1,           1,           1,\n",
      "                  1,           1,           1,           1,           1,           1,           1,           1,           1,           1,           1,           1,           1,           1,           1,           1,           1,           1,           1,           1,           1,           1,           1,\n",
      "                  1,           1,           1,           1,           1,           1,           1,           1,           1,           1,           1,           1,           1,           1,           1,           1,           1,           1,           1,           1,           1,           1,           1,\n",
      "                  1,           1,           1,           1,           1,           1,           1,           1,           1,           1,           1,           1,           1,           1,           1,           1,           1,           1,           1,           1,           1,           1,           1,\n",
      "                  1,           1,           1,           1,           1,           1,           1,           1,           1,           1,           1,           1,           1,           1,           1,           1,           1,           1,           1,           1,           1,           1,           1,\n",
      "                  1,           1,           1,           1,           1,           1,           1,           1,           1,           1,           1,           1,           1,           1,           1,           1,           1,           1,           1,           1,           1,           1,           1,\n",
      "                  1,           1,           1,           1,           1,           1,           1,           1,           1,           1,           1,           1,           1,           1,           1,           1,           1,           1,           1,           1,           1,           1,           1,\n",
      "                  1,           1,           1,           1,           1,           1,           1,           1,           1,           1,           1,           1,           1,           1,           1,           1,           1,           1,           1,           1,           1,           1,           1,\n",
      "                  1,           1,           1,           1,           1,           1,           1,           1,           1,           1,           1,           1,           1,           1,           1,           1,           1,           1,           1,           1,           1,           1,           1,\n",
      "                  1,           1,           1,           1,           1,     0.98148,     0.98148,     0.98148,     0.98148,     0.98148,     0.98148,     0.98148,     0.98148,     0.98148,     0.98148,     0.98148,     0.98148,     0.98148,     0.98148,     0.98148,     0.98148,     0.98148,     0.98148,\n",
      "            0.98148,     0.98148,     0.98148,     0.98148,     0.98148,     0.98148,     0.98148,     0.98148,     0.98148,     0.98148,     0.98148,     0.98148,     0.98148,     0.98148,     0.98148,     0.98148,     0.98148,     0.98148,     0.98148,     0.98148,     0.98148,     0.98148,     0.98148,\n",
      "            0.98148,     0.98148,     0.98148,     0.98148,     0.98148,     0.98148,     0.98148,     0.98148,     0.98148,     0.98148,     0.98148,     0.98148,     0.98148,     0.98148,     0.98148,     0.98148,     0.98148,     0.98148,     0.98148,     0.98148,     0.98148,     0.98148,     0.98148,\n",
      "            0.98148,     0.98148,     0.98148,     0.98148,     0.98148,     0.98148,     0.98148,     0.98148,     0.98148,     0.98148,     0.98148,     0.98148,     0.98148,     0.98148,     0.98148,     0.98148,     0.98148,     0.98148,     0.98148,     0.98148,     0.98148,     0.98148,     0.98148,\n",
      "            0.98148,     0.98148,     0.98148,     0.98148,     0.98148,     0.98148,     0.98148,     0.98148,     0.98148,     0.98148,     0.98148,     0.98148,     0.98148,     0.98148,     0.98148,     0.98148,     0.98148,     0.98148,     0.98148,     0.98148,     0.98148,     0.98148,     0.98148,\n",
      "            0.98148,     0.98148,     0.98148,     0.98148,     0.98148,     0.98148,     0.98148,     0.98148,     0.98148,     0.98148,     0.98148,     0.98148,     0.98148,     0.98148,     0.98148,     0.98148,     0.98148,     0.98148,     0.98148,     0.98148,     0.98148,     0.98148,     0.98148,\n",
      "            0.98148,     0.98148,     0.98148,     0.98148,     0.98148,     0.98148,     0.98148,     0.98148,     0.98148,     0.98148,     0.98148,     0.98148,     0.98148,     0.98148,     0.98148,     0.98148,     0.98148,     0.98148,     0.98148,     0.98148,     0.98148,     0.98148,     0.98148,\n",
      "            0.98148,     0.98148,     0.98148,     0.98148,     0.98148,     0.98148,     0.98148,     0.98148,     0.98148,     0.98148,     0.98148,     0.98148,     0.98148,     0.98148,     0.98148,     0.98148,     0.98148,     0.98148,     0.98148,     0.98148,     0.98148,     0.98148,     0.98148,\n",
      "            0.98148,     0.98148,     0.98148,     0.98148,     0.98148,     0.98148,     0.98148,     0.98148,     0.98148,     0.98148,     0.98148,     0.98148,     0.98148,     0.98148,     0.98148,     0.98148,     0.98148,     0.98148,     0.98148,     0.98148,     0.98148,     0.98148,     0.98148,\n",
      "            0.98148,     0.98148,     0.98148,     0.98148,     0.98148,     0.98148,     0.98148,     0.98148,     0.98148,     0.98148,     0.98148,     0.98148,     0.98148,     0.98148,     0.98148,     0.98148,     0.98148,     0.98148,     0.98148,     0.98148,     0.98148,     0.98148,     0.98148,\n",
      "            0.98148,     0.98148,     0.98148,     0.98148,     0.98148,     0.98148,     0.98148,     0.98148,     0.98148,     0.98148,     0.98148,     0.98148,     0.98148,     0.96429,     0.96429,     0.96429,     0.96429,     0.96429,     0.96429,     0.96429,     0.96429,     0.96429,     0.96429,\n",
      "            0.96429,     0.96429,     0.96429,     0.96429,     0.96429,     0.96429,     0.91667,     0.91667,     0.91667,     0.91667,     0.91667,     0.91667,     0.91667,     0.91667,     0.91667,     0.91667,     0.91667,     0.91667,     0.91667,     0.91667,     0.91667,     0.91667,     0.82353,\n",
      "            0.82353,     0.82353,     0.82353,     0.82353,     0.82353,     0.82353,     0.82353,     0.82353,     0.82353,     0.82353,     0.82353,     0.82353,     0.82353,     0.82353,     0.74026,     0.74026,     0.74026,     0.74026,     0.74026,     0.74026,     0.74026,     0.74026,     0.74026,\n",
      "            0.74026,     0.74026,     0.74026,     0.74026,     0.74026,     0.74026,     0.74026,     0.54206,     0.54206,     0.54206,     0.54206,     0.54206,     0.54206,     0.54206,     0.54206,     0.54206,     0.54206,     0.54206,     0.54206,     0.54206,     0.54206,     0.54206,     0.54206,\n",
      "            0.50862,     0.50862,     0.50862,     0.50862,     0.50862,     0.50862,     0.50862,     0.50862,     0.50862,     0.50862,     0.50862,     0.50862,     0.50862,     0.50862,     0.50862,     0.50862,     0.49587,     0.49587,     0.49587,     0.49587,     0.49587,     0.49587,     0.49587,\n",
      "            0.49587,     0.49587,     0.49587,     0.49587,     0.49587,     0.49587,     0.49587,     0.49587,     0.49587,     0.46565,     0.46565,     0.46565,     0.46565,     0.46565,     0.46565,     0.46565,     0.46565,     0.46565,     0.46565,     0.46565,     0.46565,     0.46565,     0.46565,\n",
      "            0.46565,     0.46565,     0.42177,     0.42177,     0.42177,     0.42177,     0.42177,     0.42177,     0.42177,     0.42177,     0.42177,     0.42177,     0.42177,     0.42177,     0.42177,     0.42177,     0.42177,     0.42177,     0.16614,     0.15507,     0.14399,     0.13291,     0.12184,\n",
      "            0.11076,    0.099686,     0.08861,    0.077534,    0.066457,    0.055381,    0.044305,    0.033229,    0.022152,    0.011076,           0]]), 'Recall', 'Precision'], [array([          0,    0.001001,    0.002002,    0.003003,    0.004004,    0.005005,    0.006006,    0.007007,    0.008008,    0.009009,     0.01001,    0.011011,    0.012012,    0.013013,    0.014014,    0.015015,    0.016016,    0.017017,    0.018018,    0.019019,     0.02002,    0.021021,    0.022022,    0.023023,\n",
      "          0.024024,    0.025025,    0.026026,    0.027027,    0.028028,    0.029029,     0.03003,    0.031031,    0.032032,    0.033033,    0.034034,    0.035035,    0.036036,    0.037037,    0.038038,    0.039039,     0.04004,    0.041041,    0.042042,    0.043043,    0.044044,    0.045045,    0.046046,    0.047047,\n",
      "          0.048048,    0.049049,     0.05005,    0.051051,    0.052052,    0.053053,    0.054054,    0.055055,    0.056056,    0.057057,    0.058058,    0.059059,     0.06006,    0.061061,    0.062062,    0.063063,    0.064064,    0.065065,    0.066066,    0.067067,    0.068068,    0.069069,     0.07007,    0.071071,\n",
      "          0.072072,    0.073073,    0.074074,    0.075075,    0.076076,    0.077077,    0.078078,    0.079079,     0.08008,    0.081081,    0.082082,    0.083083,    0.084084,    0.085085,    0.086086,    0.087087,    0.088088,    0.089089,     0.09009,    0.091091,    0.092092,    0.093093,    0.094094,    0.095095,\n",
      "          0.096096,    0.097097,    0.098098,    0.099099,      0.1001,      0.1011,      0.1021,      0.1031,      0.1041,     0.10511,     0.10611,     0.10711,     0.10811,     0.10911,     0.11011,     0.11111,     0.11211,     0.11311,     0.11411,     0.11512,     0.11612,     0.11712,     0.11812,     0.11912,\n",
      "           0.12012,     0.12112,     0.12212,     0.12312,     0.12412,     0.12513,     0.12613,     0.12713,     0.12813,     0.12913,     0.13013,     0.13113,     0.13213,     0.13313,     0.13413,     0.13514,     0.13614,     0.13714,     0.13814,     0.13914,     0.14014,     0.14114,     0.14214,     0.14314,\n",
      "           0.14414,     0.14515,     0.14615,     0.14715,     0.14815,     0.14915,     0.15015,     0.15115,     0.15215,     0.15315,     0.15415,     0.15516,     0.15616,     0.15716,     0.15816,     0.15916,     0.16016,     0.16116,     0.16216,     0.16316,     0.16416,     0.16517,     0.16617,     0.16717,\n",
      "           0.16817,     0.16917,     0.17017,     0.17117,     0.17217,     0.17317,     0.17417,     0.17518,     0.17618,     0.17718,     0.17818,     0.17918,     0.18018,     0.18118,     0.18218,     0.18318,     0.18418,     0.18519,     0.18619,     0.18719,     0.18819,     0.18919,     0.19019,     0.19119,\n",
      "           0.19219,     0.19319,     0.19419,      0.1952,      0.1962,      0.1972,      0.1982,      0.1992,      0.2002,      0.2012,      0.2022,      0.2032,      0.2042,     0.20521,     0.20621,     0.20721,     0.20821,     0.20921,     0.21021,     0.21121,     0.21221,     0.21321,     0.21421,     0.21522,\n",
      "           0.21622,     0.21722,     0.21822,     0.21922,     0.22022,     0.22122,     0.22222,     0.22322,     0.22422,     0.22523,     0.22623,     0.22723,     0.22823,     0.22923,     0.23023,     0.23123,     0.23223,     0.23323,     0.23423,     0.23524,     0.23624,     0.23724,     0.23824,     0.23924,\n",
      "           0.24024,     0.24124,     0.24224,     0.24324,     0.24424,     0.24525,     0.24625,     0.24725,     0.24825,     0.24925,     0.25025,     0.25125,     0.25225,     0.25325,     0.25425,     0.25526,     0.25626,     0.25726,     0.25826,     0.25926,     0.26026,     0.26126,     0.26226,     0.26326,\n",
      "           0.26426,     0.26527,     0.26627,     0.26727,     0.26827,     0.26927,     0.27027,     0.27127,     0.27227,     0.27327,     0.27427,     0.27528,     0.27628,     0.27728,     0.27828,     0.27928,     0.28028,     0.28128,     0.28228,     0.28328,     0.28428,     0.28529,     0.28629,     0.28729,\n",
      "           0.28829,     0.28929,     0.29029,     0.29129,     0.29229,     0.29329,     0.29429,      0.2953,      0.2963,      0.2973,      0.2983,      0.2993,      0.3003,      0.3013,      0.3023,      0.3033,      0.3043,     0.30531,     0.30631,     0.30731,     0.30831,     0.30931,     0.31031,     0.31131,\n",
      "           0.31231,     0.31331,     0.31431,     0.31532,     0.31632,     0.31732,     0.31832,     0.31932,     0.32032,     0.32132,     0.32232,     0.32332,     0.32432,     0.32533,     0.32633,     0.32733,     0.32833,     0.32933,     0.33033,     0.33133,     0.33233,     0.33333,     0.33433,     0.33534,\n",
      "           0.33634,     0.33734,     0.33834,     0.33934,     0.34034,     0.34134,     0.34234,     0.34334,     0.34434,     0.34535,     0.34635,     0.34735,     0.34835,     0.34935,     0.35035,     0.35135,     0.35235,     0.35335,     0.35435,     0.35536,     0.35636,     0.35736,     0.35836,     0.35936,\n",
      "           0.36036,     0.36136,     0.36236,     0.36336,     0.36436,     0.36537,     0.36637,     0.36737,     0.36837,     0.36937,     0.37037,     0.37137,     0.37237,     0.37337,     0.37437,     0.37538,     0.37638,     0.37738,     0.37838,     0.37938,     0.38038,     0.38138,     0.38238,     0.38338,\n",
      "           0.38438,     0.38539,     0.38639,     0.38739,     0.38839,     0.38939,     0.39039,     0.39139,     0.39239,     0.39339,     0.39439,      0.3954,      0.3964,      0.3974,      0.3984,      0.3994,      0.4004,      0.4014,      0.4024,      0.4034,      0.4044,     0.40541,     0.40641,     0.40741,\n",
      "           0.40841,     0.40941,     0.41041,     0.41141,     0.41241,     0.41341,     0.41441,     0.41542,     0.41642,     0.41742,     0.41842,     0.41942,     0.42042,     0.42142,     0.42242,     0.42342,     0.42442,     0.42543,     0.42643,     0.42743,     0.42843,     0.42943,     0.43043,     0.43143,\n",
      "           0.43243,     0.43343,     0.43443,     0.43544,     0.43644,     0.43744,     0.43844,     0.43944,     0.44044,     0.44144,     0.44244,     0.44344,     0.44444,     0.44545,     0.44645,     0.44745,     0.44845,     0.44945,     0.45045,     0.45145,     0.45245,     0.45345,     0.45445,     0.45546,\n",
      "           0.45646,     0.45746,     0.45846,     0.45946,     0.46046,     0.46146,     0.46246,     0.46346,     0.46446,     0.46547,     0.46647,     0.46747,     0.46847,     0.46947,     0.47047,     0.47147,     0.47247,     0.47347,     0.47447,     0.47548,     0.47648,     0.47748,     0.47848,     0.47948,\n",
      "           0.48048,     0.48148,     0.48248,     0.48348,     0.48448,     0.48549,     0.48649,     0.48749,     0.48849,     0.48949,     0.49049,     0.49149,     0.49249,     0.49349,     0.49449,      0.4955,      0.4965,      0.4975,      0.4985,      0.4995,      0.5005,      0.5015,      0.5025,      0.5035,\n",
      "            0.5045,     0.50551,     0.50651,     0.50751,     0.50851,     0.50951,     0.51051,     0.51151,     0.51251,     0.51351,     0.51451,     0.51552,     0.51652,     0.51752,     0.51852,     0.51952,     0.52052,     0.52152,     0.52252,     0.52352,     0.52452,     0.52553,     0.52653,     0.52753,\n",
      "           0.52853,     0.52953,     0.53053,     0.53153,     0.53253,     0.53353,     0.53453,     0.53554,     0.53654,     0.53754,     0.53854,     0.53954,     0.54054,     0.54154,     0.54254,     0.54354,     0.54454,     0.54555,     0.54655,     0.54755,     0.54855,     0.54955,     0.55055,     0.55155,\n",
      "           0.55255,     0.55355,     0.55455,     0.55556,     0.55656,     0.55756,     0.55856,     0.55956,     0.56056,     0.56156,     0.56256,     0.56356,     0.56456,     0.56557,     0.56657,     0.56757,     0.56857,     0.56957,     0.57057,     0.57157,     0.57257,     0.57357,     0.57457,     0.57558,\n",
      "           0.57658,     0.57758,     0.57858,     0.57958,     0.58058,     0.58158,     0.58258,     0.58358,     0.58458,     0.58559,     0.58659,     0.58759,     0.58859,     0.58959,     0.59059,     0.59159,     0.59259,     0.59359,     0.59459,      0.5956,      0.5966,      0.5976,      0.5986,      0.5996,\n",
      "            0.6006,      0.6016,      0.6026,      0.6036,      0.6046,     0.60561,     0.60661,     0.60761,     0.60861,     0.60961,     0.61061,     0.61161,     0.61261,     0.61361,     0.61461,     0.61562,     0.61662,     0.61762,     0.61862,     0.61962,     0.62062,     0.62162,     0.62262,     0.62362,\n",
      "           0.62462,     0.62563,     0.62663,     0.62763,     0.62863,     0.62963,     0.63063,     0.63163,     0.63263,     0.63363,     0.63463,     0.63564,     0.63664,     0.63764,     0.63864,     0.63964,     0.64064,     0.64164,     0.64264,     0.64364,     0.64464,     0.64565,     0.64665,     0.64765,\n",
      "           0.64865,     0.64965,     0.65065,     0.65165,     0.65265,     0.65365,     0.65465,     0.65566,     0.65666,     0.65766,     0.65866,     0.65966,     0.66066,     0.66166,     0.66266,     0.66366,     0.66466,     0.66567,     0.66667,     0.66767,     0.66867,     0.66967,     0.67067,     0.67167,\n",
      "           0.67267,     0.67367,     0.67467,     0.67568,     0.67668,     0.67768,     0.67868,     0.67968,     0.68068,     0.68168,     0.68268,     0.68368,     0.68468,     0.68569,     0.68669,     0.68769,     0.68869,     0.68969,     0.69069,     0.69169,     0.69269,     0.69369,     0.69469,      0.6957,\n",
      "            0.6967,      0.6977,      0.6987,      0.6997,      0.7007,      0.7017,      0.7027,      0.7037,      0.7047,     0.70571,     0.70671,     0.70771,     0.70871,     0.70971,     0.71071,     0.71171,     0.71271,     0.71371,     0.71471,     0.71572,     0.71672,     0.71772,     0.71872,     0.71972,\n",
      "           0.72072,     0.72172,     0.72272,     0.72372,     0.72472,     0.72573,     0.72673,     0.72773,     0.72873,     0.72973,     0.73073,     0.73173,     0.73273,     0.73373,     0.73473,     0.73574,     0.73674,     0.73774,     0.73874,     0.73974,     0.74074,     0.74174,     0.74274,     0.74374,\n",
      "           0.74474,     0.74575,     0.74675,     0.74775,     0.74875,     0.74975,     0.75075,     0.75175,     0.75275,     0.75375,     0.75475,     0.75576,     0.75676,     0.75776,     0.75876,     0.75976,     0.76076,     0.76176,     0.76276,     0.76376,     0.76476,     0.76577,     0.76677,     0.76777,\n",
      "           0.76877,     0.76977,     0.77077,     0.77177,     0.77277,     0.77377,     0.77477,     0.77578,     0.77678,     0.77778,     0.77878,     0.77978,     0.78078,     0.78178,     0.78278,     0.78378,     0.78478,     0.78579,     0.78679,     0.78779,     0.78879,     0.78979,     0.79079,     0.79179,\n",
      "           0.79279,     0.79379,     0.79479,      0.7958,      0.7968,      0.7978,      0.7988,      0.7998,      0.8008,      0.8018,      0.8028,      0.8038,      0.8048,     0.80581,     0.80681,     0.80781,     0.80881,     0.80981,     0.81081,     0.81181,     0.81281,     0.81381,     0.81481,     0.81582,\n",
      "           0.81682,     0.81782,     0.81882,     0.81982,     0.82082,     0.82182,     0.82282,     0.82382,     0.82482,     0.82583,     0.82683,     0.82783,     0.82883,     0.82983,     0.83083,     0.83183,     0.83283,     0.83383,     0.83483,     0.83584,     0.83684,     0.83784,     0.83884,     0.83984,\n",
      "           0.84084,     0.84184,     0.84284,     0.84384,     0.84484,     0.84585,     0.84685,     0.84785,     0.84885,     0.84985,     0.85085,     0.85185,     0.85285,     0.85385,     0.85485,     0.85586,     0.85686,     0.85786,     0.85886,     0.85986,     0.86086,     0.86186,     0.86286,     0.86386,\n",
      "           0.86486,     0.86587,     0.86687,     0.86787,     0.86887,     0.86987,     0.87087,     0.87187,     0.87287,     0.87387,     0.87487,     0.87588,     0.87688,     0.87788,     0.87888,     0.87988,     0.88088,     0.88188,     0.88288,     0.88388,     0.88488,     0.88589,     0.88689,     0.88789,\n",
      "           0.88889,     0.88989,     0.89089,     0.89189,     0.89289,     0.89389,     0.89489,      0.8959,      0.8969,      0.8979,      0.8989,      0.8999,      0.9009,      0.9019,      0.9029,      0.9039,      0.9049,     0.90591,     0.90691,     0.90791,     0.90891,     0.90991,     0.91091,     0.91191,\n",
      "           0.91291,     0.91391,     0.91491,     0.91592,     0.91692,     0.91792,     0.91892,     0.91992,     0.92092,     0.92192,     0.92292,     0.92392,     0.92492,     0.92593,     0.92693,     0.92793,     0.92893,     0.92993,     0.93093,     0.93193,     0.93293,     0.93393,     0.93493,     0.93594,\n",
      "           0.93694,     0.93794,     0.93894,     0.93994,     0.94094,     0.94194,     0.94294,     0.94394,     0.94494,     0.94595,     0.94695,     0.94795,     0.94895,     0.94995,     0.95095,     0.95195,     0.95295,     0.95395,     0.95495,     0.95596,     0.95696,     0.95796,     0.95896,     0.95996,\n",
      "           0.96096,     0.96196,     0.96296,     0.96396,     0.96496,     0.96597,     0.96697,     0.96797,     0.96897,     0.96997,     0.97097,     0.97197,     0.97297,     0.97397,     0.97497,     0.97598,     0.97698,     0.97798,     0.97898,     0.97998,     0.98098,     0.98198,     0.98298,     0.98398,\n",
      "           0.98498,     0.98599,     0.98699,     0.98799,     0.98899,     0.98999,     0.99099,     0.99199,     0.99299,     0.99399,     0.99499,       0.996,       0.997,       0.998,       0.999,           1]), array([[    0.29808,     0.29808,     0.39703,     0.47916,     0.51338,     0.55916,     0.57806,     0.59054,     0.61014,     0.62183,     0.62855,     0.63219,     0.64209,     0.64489,     0.64891,     0.65401,     0.65836,      0.6627,     0.67134,     0.67799,     0.68133,     0.68829,     0.69634,\n",
      "            0.69914,     0.70155,     0.70809,     0.71359,     0.71528,     0.71696,     0.71801,     0.71905,     0.72008,     0.72112,     0.72424,     0.72936,     0.74082,     0.74218,     0.74354,     0.74489,     0.75044,      0.7566,     0.76261,     0.76969,     0.77128,     0.77232,     0.77337,\n",
      "            0.77441,     0.77545,     0.77647,     0.77748,      0.7785,     0.77951,     0.78052,      0.7818,     0.78319,     0.78458,     0.78596,     0.78645,     0.78675,     0.78704,     0.78734,     0.78764,     0.78793,     0.78823,     0.78852,     0.78882,     0.78911,     0.78941,      0.7897,\n",
      "               0.79,     0.79029,     0.79059,     0.79088,     0.79117,     0.79147,     0.79192,      0.7927,     0.79348,     0.79425,     0.79503,      0.7958,     0.79658,     0.79733,     0.79802,     0.79871,     0.79939,     0.80008,     0.80076,     0.80145,     0.80213,     0.80281,     0.80354,\n",
      "            0.80426,     0.80499,     0.80572,     0.80644,     0.80716,     0.80788,     0.80896,     0.81233,     0.81396,     0.81318,     0.81239,     0.81161,     0.81082,     0.81003,     0.80925,     0.80846,     0.80767,     0.80688,     0.80609,     0.80639,     0.80751,     0.80861,     0.80972,\n",
      "            0.81082,     0.81171,     0.81207,     0.81244,     0.81281,     0.81318,     0.81355,     0.81392,     0.81429,     0.81465,     0.81502,     0.81539,     0.81575,     0.81612,     0.81649,     0.81685,     0.81722,      0.8176,     0.81804,     0.81848,     0.81892,     0.81936,      0.8198,\n",
      "            0.82024,     0.82068,     0.82112,     0.82156,       0.822,     0.82244,     0.82287,     0.82331,     0.82415,     0.82538,      0.8266,     0.82783,     0.82905,      0.8297,     0.82982,     0.82995,     0.83008,     0.83021,     0.83033,     0.83046,     0.83059,     0.83072,     0.83084,\n",
      "            0.83097,      0.8311,     0.83123,     0.83135,     0.83148,     0.83161,     0.83174,     0.83186,     0.83199,     0.83212,     0.83224,     0.83237,      0.8325,     0.83263,     0.83275,     0.83288,     0.83301,     0.83313,     0.83326,     0.83339,     0.83351,     0.83364,     0.83377,\n",
      "            0.83389,     0.83402,     0.83415,     0.83427,      0.8344,     0.83453,     0.83465,     0.83478,      0.8349,     0.83503,     0.83516,     0.83528,     0.83541,     0.83554,     0.83566,     0.83579,     0.84222,     0.84254,     0.84287,     0.84319,     0.84351,     0.84384,     0.84416,\n",
      "            0.84448,     0.84481,     0.84513,     0.84545,     0.84578,      0.8461,     0.84642,     0.84674,     0.84706,     0.84738,      0.8477,     0.84802,     0.84835,     0.84856,     0.84871,     0.84885,     0.84899,     0.84913,     0.84927,     0.84941,     0.84955,     0.84969,     0.84983,\n",
      "            0.84998,     0.85012,     0.85026,      0.8504,     0.85054,     0.85068,     0.85082,     0.85096,      0.8511,     0.85124,     0.85138,     0.85152,     0.85166,      0.8518,     0.85194,     0.85208,     0.85222,     0.85236,      0.8525,     0.85264,     0.85278,     0.85292,     0.85306,\n",
      "             0.8532,     0.85334,     0.85348,     0.85362,     0.85376,      0.8539,     0.85404,     0.85418,     0.85432,     0.85446,      0.8546,     0.85474,     0.85488,     0.85473,     0.85417,     0.85361,     0.85304,     0.85248,     0.85191,     0.85135,     0.85078,     0.85022,     0.84965,\n",
      "            0.84908,     0.84852,     0.84795,     0.84738,     0.84681,     0.84625,     0.84655,     0.84703,     0.84751,     0.84798,     0.84846,     0.84893,     0.84941,     0.84988,     0.85035,     0.85082,      0.8513,     0.85177,     0.85224,     0.85271,     0.85315,      0.8536,     0.85404,\n",
      "            0.85449,     0.85493,     0.85537,     0.85581,     0.85626,      0.8567,     0.85714,     0.85758,     0.85802,     0.85846,      0.8589,     0.85934,     0.85944,     0.85951,     0.85958,     0.85966,     0.85973,      0.8598,     0.85987,     0.85994,     0.86001,     0.86008,     0.86016,\n",
      "            0.86023,      0.8603,     0.86037,     0.86044,     0.86051,     0.86058,     0.86066,     0.86073,      0.8608,     0.86087,     0.86094,     0.86101,     0.86108,     0.86116,     0.86123,      0.8613,     0.86137,     0.86144,     0.86151,     0.86158,     0.86165,     0.86173,      0.8618,\n",
      "            0.86187,     0.86194,     0.86201,     0.86208,     0.86215,     0.86222,     0.86229,     0.86237,     0.86244,     0.86251,     0.86258,     0.86265,     0.86272,     0.86279,     0.86286,     0.86293,     0.86301,     0.86308,     0.86315,     0.86322,     0.86329,     0.86336,     0.86343,\n",
      "             0.8635,     0.86357,     0.86364,     0.86371,     0.86379,     0.86386,     0.86393,       0.864,     0.86407,     0.86414,     0.86421,     0.86428,     0.86435,     0.86442,     0.86449,     0.86456,     0.86464,     0.86471,     0.86478,     0.86485,     0.86492,     0.86499,     0.86506,\n",
      "            0.86513,      0.8652,     0.86527,     0.86534,     0.86541,     0.86548,     0.86555,     0.86562,     0.86569,     0.86577,     0.86584,     0.86591,     0.86598,     0.86605,     0.86612,      0.8662,     0.86629,     0.86638,     0.86647,     0.86657,     0.86666,     0.86675,     0.86684,\n",
      "            0.86693,     0.86702,     0.86711,      0.8672,     0.86729,     0.86738,     0.86747,     0.86756,     0.86765,     0.86774,     0.86783,     0.86793,     0.86802,     0.86811,      0.8682,     0.86829,     0.86838,     0.86847,     0.86856,     0.86865,     0.86874,     0.86883,     0.86892,\n",
      "            0.86901,      0.8691,     0.86919,     0.86928,     0.86937,     0.86946,     0.86955,     0.86964,     0.86973,     0.86982,     0.86991,        0.87,     0.87009,     0.87018,     0.87027,     0.87036,     0.87045,     0.87054,     0.87063,     0.87072,     0.87081,      0.8709,     0.87099,\n",
      "            0.87108,     0.87117,     0.87126,     0.87135,     0.87144,     0.87153,     0.87162,     0.87171,      0.8718,     0.87189,     0.87198,     0.87207,     0.87216,     0.87225,     0.87234,     0.87243,     0.87252,     0.87261,      0.8727,     0.87279,     0.87288,     0.87297,     0.87313,\n",
      "             0.8734,     0.87366,     0.87392,     0.87419,     0.87445,     0.87471,     0.87498,     0.87524,      0.8755,     0.87577,     0.87603,     0.87629,     0.87655,     0.87682,     0.87708,     0.87734,      0.8776,     0.87786,     0.87813,     0.87839,     0.87865,     0.87891,     0.87917,\n",
      "            0.87943,     0.87969,     0.87995,      0.8801,     0.88023,     0.88036,     0.88048,     0.88061,     0.88074,     0.88086,     0.88099,     0.88112,     0.88124,     0.88137,      0.8815,     0.88162,     0.88175,     0.88187,       0.882,     0.88213,     0.88225,     0.88238,     0.88251,\n",
      "            0.88263,     0.88276,     0.88288,     0.88301,     0.88314,     0.88326,     0.88339,     0.88351,     0.88364,     0.88376,     0.88389,     0.88402,     0.88414,     0.88427,     0.88439,     0.88452,     0.88464,     0.88477,     0.88489,     0.88502,     0.88514,     0.88527,      0.8854,\n",
      "            0.88552,     0.88565,     0.88577,      0.8859,     0.88602,     0.88615,     0.88627,      0.8864,     0.88652,     0.88665,     0.88677,      0.8869,     0.88702,     0.88715,     0.88728,      0.8874,     0.88753,     0.88766,     0.88779,     0.88792,     0.88805,     0.88818,     0.88831,\n",
      "            0.88844,     0.88856,     0.88869,     0.88882,     0.88895,     0.88908,     0.88921,     0.88933,     0.88946,     0.88959,     0.88972,     0.88985,     0.88998,      0.8901,     0.89023,     0.89036,     0.89049,     0.89062,     0.89074,     0.89087,       0.891,     0.89113,     0.89126,\n",
      "            0.89138,     0.89151,     0.89164,     0.89177,     0.89189,     0.89202,     0.89215,     0.89228,      0.8924,     0.89253,     0.89266,     0.89279,     0.89291,     0.89304,     0.89317,      0.8933,     0.89342,     0.89355,     0.89368,      0.8938,     0.89393,     0.89406,     0.89419,\n",
      "            0.89421,     0.89084,     0.88745,     0.88583,     0.88748,     0.88911,     0.89075,     0.89237,     0.89275,     0.89296,     0.89317,     0.89338,     0.89359,      0.8938,     0.89401,     0.89422,     0.89442,     0.89463,     0.89484,     0.89505,     0.89526,     0.89547,     0.89568,\n",
      "            0.89589,     0.89609,      0.8963,     0.89651,     0.89672,     0.89693,     0.89714,     0.89734,     0.89755,     0.89776,     0.89797,     0.89817,     0.89838,     0.89859,     0.89879,       0.899,     0.89921,     0.89941,     0.89962,     0.89983,     0.90008,     0.90056,     0.90104,\n",
      "            0.90153,     0.90201,     0.90249,     0.90297,     0.90345,     0.90392,      0.9044,     0.90488,     0.90536,     0.90583,     0.90631,     0.90678,     0.90726,     0.90727,     0.90647,     0.90566,     0.90485,     0.90403,     0.90322,     0.90241,     0.90159,     0.90077,     0.89996,\n",
      "            0.89914,     0.89832,     0.89837,     0.89844,     0.89851,     0.89858,     0.89865,     0.89871,     0.89878,     0.89885,     0.89892,     0.89899,     0.89905,     0.89912,     0.89919,     0.89926,     0.89933,     0.89939,     0.89946,     0.89953,      0.8996,     0.89967,     0.89973,\n",
      "             0.8998,     0.89987,     0.89994,     0.90001,     0.90007,     0.90014,     0.90021,     0.90028,     0.90035,     0.90041,     0.90048,     0.90055,     0.90062,     0.90069,     0.90075,     0.90082,     0.90089,     0.90096,     0.90103,     0.90109,     0.90116,     0.90123,      0.9013,\n",
      "            0.90136,     0.90143,      0.9015,     0.90157,     0.90163,      0.9017,     0.90177,     0.90184,     0.90191,     0.90197,     0.90204,     0.90211,     0.90218,     0.90224,     0.90231,     0.90238,     0.90245,     0.90251,     0.90258,     0.90265,     0.90272,     0.90278,     0.90285,\n",
      "            0.90292,     0.90299,     0.90305,     0.90312,     0.90319,     0.90326,     0.90332,     0.90339,     0.90346,     0.90353,     0.90359,     0.90366,     0.90373,     0.90379,     0.90386,     0.90393,       0.904,     0.90406,     0.90413,      0.9042,     0.90427,     0.90433,      0.9044,\n",
      "            0.90447,     0.90453,      0.9046,     0.90467,     0.90474,      0.9048,     0.90487,     0.90494,       0.905,     0.90507,     0.90514,     0.90521,     0.90527,     0.90534,     0.90541,     0.90547,     0.90554,     0.90561,     0.90568,     0.90574,     0.90581,     0.90588,     0.90594,\n",
      "             0.9005,     0.89607,      0.8954,     0.89473,     0.89405,     0.89338,      0.8927,     0.89202,     0.89134,     0.89067,     0.88999,     0.88931,     0.88862,     0.88794,     0.88726,     0.88681,     0.88654,     0.88628,     0.88601,     0.88575,     0.88548,     0.88521,     0.88495,\n",
      "            0.88468,     0.88442,     0.88415,     0.88388,     0.88361,     0.88335,     0.88308,     0.88281,     0.88255,     0.88228,     0.88201,     0.88174,     0.88148,     0.88121,     0.88094,     0.88067,      0.8804,     0.88013,     0.87987,      0.8796,     0.87933,     0.87906,     0.87879,\n",
      "            0.87852,     0.87825,     0.87798,     0.87771,     0.87744,     0.87713,     0.87622,     0.87531,      0.8744,     0.87348,     0.87257,     0.87165,     0.87074,     0.86982,      0.8689,     0.86798,     0.86705,     0.86611,     0.86517,     0.86422,     0.86328,     0.86233,     0.86138,\n",
      "            0.86043,     0.85948,     0.85853,     0.85757,     0.85623,     0.85456,     0.85288,      0.8512,     0.84952,     0.84783,     0.84483,        0.84,     0.83594,     0.83427,     0.83259,     0.83091,     0.82922,     0.82752,     0.82583,     0.79886,     0.79002,     0.78631,     0.78258,\n",
      "            0.76797,     0.76562,     0.76326,      0.7609,     0.75852,     0.74642,        0.75,     0.74563,     0.74123,     0.73524,      0.7286,     0.72609,     0.72462,     0.72314,     0.72166,     0.72018,     0.71869,      0.7172,     0.71571,     0.71409,      0.7101,     0.70608,     0.70204,\n",
      "            0.69752,     0.69282,     0.68808,     0.68204,     0.67577,      0.6633,      0.6377,     0.62424,     0.61688,     0.60919,     0.60134,     0.58009,     0.57404,     0.56121,     0.53341,     0.52176,     0.48159,     0.43854,     0.41868,     0.40777,     0.40055,     0.39453,     0.38846,\n",
      "            0.37845,     0.35706,      0.3372,     0.33036,     0.32347,     0.31227,     0.29654,     0.27923,     0.26197,       0.244,     0.22483,      0.2138,     0.20263,     0.16899,     0.15608,     0.11662,     0.10287,    0.090012,    0.083639,    0.077223,    0.070764,    0.064261,    0.060139,\n",
      "           0.057736,    0.055326,    0.052911,    0.050489,    0.048062,    0.045628,    0.043189,    0.040743,    0.038291,    0.035833,    0.033369,           0,           0,           0,           0,           0,           0,           0,           0,           0,           0,           0,           0,\n",
      "                  0,           0,           0,           0,           0,           0,           0,           0,           0,           0,           0]]), 'Confidence', 'F1'], [array([          0,    0.001001,    0.002002,    0.003003,    0.004004,    0.005005,    0.006006,    0.007007,    0.008008,    0.009009,     0.01001,    0.011011,    0.012012,    0.013013,    0.014014,    0.015015,    0.016016,    0.017017,    0.018018,    0.019019,     0.02002,    0.021021,    0.022022,    0.023023,\n",
      "          0.024024,    0.025025,    0.026026,    0.027027,    0.028028,    0.029029,     0.03003,    0.031031,    0.032032,    0.033033,    0.034034,    0.035035,    0.036036,    0.037037,    0.038038,    0.039039,     0.04004,    0.041041,    0.042042,    0.043043,    0.044044,    0.045045,    0.046046,    0.047047,\n",
      "          0.048048,    0.049049,     0.05005,    0.051051,    0.052052,    0.053053,    0.054054,    0.055055,    0.056056,    0.057057,    0.058058,    0.059059,     0.06006,    0.061061,    0.062062,    0.063063,    0.064064,    0.065065,    0.066066,    0.067067,    0.068068,    0.069069,     0.07007,    0.071071,\n",
      "          0.072072,    0.073073,    0.074074,    0.075075,    0.076076,    0.077077,    0.078078,    0.079079,     0.08008,    0.081081,    0.082082,    0.083083,    0.084084,    0.085085,    0.086086,    0.087087,    0.088088,    0.089089,     0.09009,    0.091091,    0.092092,    0.093093,    0.094094,    0.095095,\n",
      "          0.096096,    0.097097,    0.098098,    0.099099,      0.1001,      0.1011,      0.1021,      0.1031,      0.1041,     0.10511,     0.10611,     0.10711,     0.10811,     0.10911,     0.11011,     0.11111,     0.11211,     0.11311,     0.11411,     0.11512,     0.11612,     0.11712,     0.11812,     0.11912,\n",
      "           0.12012,     0.12112,     0.12212,     0.12312,     0.12412,     0.12513,     0.12613,     0.12713,     0.12813,     0.12913,     0.13013,     0.13113,     0.13213,     0.13313,     0.13413,     0.13514,     0.13614,     0.13714,     0.13814,     0.13914,     0.14014,     0.14114,     0.14214,     0.14314,\n",
      "           0.14414,     0.14515,     0.14615,     0.14715,     0.14815,     0.14915,     0.15015,     0.15115,     0.15215,     0.15315,     0.15415,     0.15516,     0.15616,     0.15716,     0.15816,     0.15916,     0.16016,     0.16116,     0.16216,     0.16316,     0.16416,     0.16517,     0.16617,     0.16717,\n",
      "           0.16817,     0.16917,     0.17017,     0.17117,     0.17217,     0.17317,     0.17417,     0.17518,     0.17618,     0.17718,     0.17818,     0.17918,     0.18018,     0.18118,     0.18218,     0.18318,     0.18418,     0.18519,     0.18619,     0.18719,     0.18819,     0.18919,     0.19019,     0.19119,\n",
      "           0.19219,     0.19319,     0.19419,      0.1952,      0.1962,      0.1972,      0.1982,      0.1992,      0.2002,      0.2012,      0.2022,      0.2032,      0.2042,     0.20521,     0.20621,     0.20721,     0.20821,     0.20921,     0.21021,     0.21121,     0.21221,     0.21321,     0.21421,     0.21522,\n",
      "           0.21622,     0.21722,     0.21822,     0.21922,     0.22022,     0.22122,     0.22222,     0.22322,     0.22422,     0.22523,     0.22623,     0.22723,     0.22823,     0.22923,     0.23023,     0.23123,     0.23223,     0.23323,     0.23423,     0.23524,     0.23624,     0.23724,     0.23824,     0.23924,\n",
      "           0.24024,     0.24124,     0.24224,     0.24324,     0.24424,     0.24525,     0.24625,     0.24725,     0.24825,     0.24925,     0.25025,     0.25125,     0.25225,     0.25325,     0.25425,     0.25526,     0.25626,     0.25726,     0.25826,     0.25926,     0.26026,     0.26126,     0.26226,     0.26326,\n",
      "           0.26426,     0.26527,     0.26627,     0.26727,     0.26827,     0.26927,     0.27027,     0.27127,     0.27227,     0.27327,     0.27427,     0.27528,     0.27628,     0.27728,     0.27828,     0.27928,     0.28028,     0.28128,     0.28228,     0.28328,     0.28428,     0.28529,     0.28629,     0.28729,\n",
      "           0.28829,     0.28929,     0.29029,     0.29129,     0.29229,     0.29329,     0.29429,      0.2953,      0.2963,      0.2973,      0.2983,      0.2993,      0.3003,      0.3013,      0.3023,      0.3033,      0.3043,     0.30531,     0.30631,     0.30731,     0.30831,     0.30931,     0.31031,     0.31131,\n",
      "           0.31231,     0.31331,     0.31431,     0.31532,     0.31632,     0.31732,     0.31832,     0.31932,     0.32032,     0.32132,     0.32232,     0.32332,     0.32432,     0.32533,     0.32633,     0.32733,     0.32833,     0.32933,     0.33033,     0.33133,     0.33233,     0.33333,     0.33433,     0.33534,\n",
      "           0.33634,     0.33734,     0.33834,     0.33934,     0.34034,     0.34134,     0.34234,     0.34334,     0.34434,     0.34535,     0.34635,     0.34735,     0.34835,     0.34935,     0.35035,     0.35135,     0.35235,     0.35335,     0.35435,     0.35536,     0.35636,     0.35736,     0.35836,     0.35936,\n",
      "           0.36036,     0.36136,     0.36236,     0.36336,     0.36436,     0.36537,     0.36637,     0.36737,     0.36837,     0.36937,     0.37037,     0.37137,     0.37237,     0.37337,     0.37437,     0.37538,     0.37638,     0.37738,     0.37838,     0.37938,     0.38038,     0.38138,     0.38238,     0.38338,\n",
      "           0.38438,     0.38539,     0.38639,     0.38739,     0.38839,     0.38939,     0.39039,     0.39139,     0.39239,     0.39339,     0.39439,      0.3954,      0.3964,      0.3974,      0.3984,      0.3994,      0.4004,      0.4014,      0.4024,      0.4034,      0.4044,     0.40541,     0.40641,     0.40741,\n",
      "           0.40841,     0.40941,     0.41041,     0.41141,     0.41241,     0.41341,     0.41441,     0.41542,     0.41642,     0.41742,     0.41842,     0.41942,     0.42042,     0.42142,     0.42242,     0.42342,     0.42442,     0.42543,     0.42643,     0.42743,     0.42843,     0.42943,     0.43043,     0.43143,\n",
      "           0.43243,     0.43343,     0.43443,     0.43544,     0.43644,     0.43744,     0.43844,     0.43944,     0.44044,     0.44144,     0.44244,     0.44344,     0.44444,     0.44545,     0.44645,     0.44745,     0.44845,     0.44945,     0.45045,     0.45145,     0.45245,     0.45345,     0.45445,     0.45546,\n",
      "           0.45646,     0.45746,     0.45846,     0.45946,     0.46046,     0.46146,     0.46246,     0.46346,     0.46446,     0.46547,     0.46647,     0.46747,     0.46847,     0.46947,     0.47047,     0.47147,     0.47247,     0.47347,     0.47447,     0.47548,     0.47648,     0.47748,     0.47848,     0.47948,\n",
      "           0.48048,     0.48148,     0.48248,     0.48348,     0.48448,     0.48549,     0.48649,     0.48749,     0.48849,     0.48949,     0.49049,     0.49149,     0.49249,     0.49349,     0.49449,      0.4955,      0.4965,      0.4975,      0.4985,      0.4995,      0.5005,      0.5015,      0.5025,      0.5035,\n",
      "            0.5045,     0.50551,     0.50651,     0.50751,     0.50851,     0.50951,     0.51051,     0.51151,     0.51251,     0.51351,     0.51451,     0.51552,     0.51652,     0.51752,     0.51852,     0.51952,     0.52052,     0.52152,     0.52252,     0.52352,     0.52452,     0.52553,     0.52653,     0.52753,\n",
      "           0.52853,     0.52953,     0.53053,     0.53153,     0.53253,     0.53353,     0.53453,     0.53554,     0.53654,     0.53754,     0.53854,     0.53954,     0.54054,     0.54154,     0.54254,     0.54354,     0.54454,     0.54555,     0.54655,     0.54755,     0.54855,     0.54955,     0.55055,     0.55155,\n",
      "           0.55255,     0.55355,     0.55455,     0.55556,     0.55656,     0.55756,     0.55856,     0.55956,     0.56056,     0.56156,     0.56256,     0.56356,     0.56456,     0.56557,     0.56657,     0.56757,     0.56857,     0.56957,     0.57057,     0.57157,     0.57257,     0.57357,     0.57457,     0.57558,\n",
      "           0.57658,     0.57758,     0.57858,     0.57958,     0.58058,     0.58158,     0.58258,     0.58358,     0.58458,     0.58559,     0.58659,     0.58759,     0.58859,     0.58959,     0.59059,     0.59159,     0.59259,     0.59359,     0.59459,      0.5956,      0.5966,      0.5976,      0.5986,      0.5996,\n",
      "            0.6006,      0.6016,      0.6026,      0.6036,      0.6046,     0.60561,     0.60661,     0.60761,     0.60861,     0.60961,     0.61061,     0.61161,     0.61261,     0.61361,     0.61461,     0.61562,     0.61662,     0.61762,     0.61862,     0.61962,     0.62062,     0.62162,     0.62262,     0.62362,\n",
      "           0.62462,     0.62563,     0.62663,     0.62763,     0.62863,     0.62963,     0.63063,     0.63163,     0.63263,     0.63363,     0.63463,     0.63564,     0.63664,     0.63764,     0.63864,     0.63964,     0.64064,     0.64164,     0.64264,     0.64364,     0.64464,     0.64565,     0.64665,     0.64765,\n",
      "           0.64865,     0.64965,     0.65065,     0.65165,     0.65265,     0.65365,     0.65465,     0.65566,     0.65666,     0.65766,     0.65866,     0.65966,     0.66066,     0.66166,     0.66266,     0.66366,     0.66466,     0.66567,     0.66667,     0.66767,     0.66867,     0.66967,     0.67067,     0.67167,\n",
      "           0.67267,     0.67367,     0.67467,     0.67568,     0.67668,     0.67768,     0.67868,     0.67968,     0.68068,     0.68168,     0.68268,     0.68368,     0.68468,     0.68569,     0.68669,     0.68769,     0.68869,     0.68969,     0.69069,     0.69169,     0.69269,     0.69369,     0.69469,      0.6957,\n",
      "            0.6967,      0.6977,      0.6987,      0.6997,      0.7007,      0.7017,      0.7027,      0.7037,      0.7047,     0.70571,     0.70671,     0.70771,     0.70871,     0.70971,     0.71071,     0.71171,     0.71271,     0.71371,     0.71471,     0.71572,     0.71672,     0.71772,     0.71872,     0.71972,\n",
      "           0.72072,     0.72172,     0.72272,     0.72372,     0.72472,     0.72573,     0.72673,     0.72773,     0.72873,     0.72973,     0.73073,     0.73173,     0.73273,     0.73373,     0.73473,     0.73574,     0.73674,     0.73774,     0.73874,     0.73974,     0.74074,     0.74174,     0.74274,     0.74374,\n",
      "           0.74474,     0.74575,     0.74675,     0.74775,     0.74875,     0.74975,     0.75075,     0.75175,     0.75275,     0.75375,     0.75475,     0.75576,     0.75676,     0.75776,     0.75876,     0.75976,     0.76076,     0.76176,     0.76276,     0.76376,     0.76476,     0.76577,     0.76677,     0.76777,\n",
      "           0.76877,     0.76977,     0.77077,     0.77177,     0.77277,     0.77377,     0.77477,     0.77578,     0.77678,     0.77778,     0.77878,     0.77978,     0.78078,     0.78178,     0.78278,     0.78378,     0.78478,     0.78579,     0.78679,     0.78779,     0.78879,     0.78979,     0.79079,     0.79179,\n",
      "           0.79279,     0.79379,     0.79479,      0.7958,      0.7968,      0.7978,      0.7988,      0.7998,      0.8008,      0.8018,      0.8028,      0.8038,      0.8048,     0.80581,     0.80681,     0.80781,     0.80881,     0.80981,     0.81081,     0.81181,     0.81281,     0.81381,     0.81481,     0.81582,\n",
      "           0.81682,     0.81782,     0.81882,     0.81982,     0.82082,     0.82182,     0.82282,     0.82382,     0.82482,     0.82583,     0.82683,     0.82783,     0.82883,     0.82983,     0.83083,     0.83183,     0.83283,     0.83383,     0.83483,     0.83584,     0.83684,     0.83784,     0.83884,     0.83984,\n",
      "           0.84084,     0.84184,     0.84284,     0.84384,     0.84484,     0.84585,     0.84685,     0.84785,     0.84885,     0.84985,     0.85085,     0.85185,     0.85285,     0.85385,     0.85485,     0.85586,     0.85686,     0.85786,     0.85886,     0.85986,     0.86086,     0.86186,     0.86286,     0.86386,\n",
      "           0.86486,     0.86587,     0.86687,     0.86787,     0.86887,     0.86987,     0.87087,     0.87187,     0.87287,     0.87387,     0.87487,     0.87588,     0.87688,     0.87788,     0.87888,     0.87988,     0.88088,     0.88188,     0.88288,     0.88388,     0.88488,     0.88589,     0.88689,     0.88789,\n",
      "           0.88889,     0.88989,     0.89089,     0.89189,     0.89289,     0.89389,     0.89489,      0.8959,      0.8969,      0.8979,      0.8989,      0.8999,      0.9009,      0.9019,      0.9029,      0.9039,      0.9049,     0.90591,     0.90691,     0.90791,     0.90891,     0.90991,     0.91091,     0.91191,\n",
      "           0.91291,     0.91391,     0.91491,     0.91592,     0.91692,     0.91792,     0.91892,     0.91992,     0.92092,     0.92192,     0.92292,     0.92392,     0.92492,     0.92593,     0.92693,     0.92793,     0.92893,     0.92993,     0.93093,     0.93193,     0.93293,     0.93393,     0.93493,     0.93594,\n",
      "           0.93694,     0.93794,     0.93894,     0.93994,     0.94094,     0.94194,     0.94294,     0.94394,     0.94494,     0.94595,     0.94695,     0.94795,     0.94895,     0.94995,     0.95095,     0.95195,     0.95295,     0.95395,     0.95495,     0.95596,     0.95696,     0.95796,     0.95896,     0.95996,\n",
      "           0.96096,     0.96196,     0.96296,     0.96396,     0.96496,     0.96597,     0.96697,     0.96797,     0.96897,     0.96997,     0.97097,     0.97197,     0.97297,     0.97397,     0.97497,     0.97598,     0.97698,     0.97798,     0.97898,     0.97998,     0.98098,     0.98198,     0.98298,     0.98398,\n",
      "           0.98498,     0.98599,     0.98699,     0.98799,     0.98899,     0.98999,     0.99099,     0.99199,     0.99299,     0.99399,     0.99499,       0.996,       0.997,       0.998,       0.999,           1]), array([[    0.17564,     0.17564,     0.24868,     0.31667,     0.34727,     0.39052,     0.40921,     0.42482,      0.4454,     0.45798,     0.46906,     0.47313,      0.4843,     0.49176,     0.49645,     0.50244,     0.51239,     0.51767,     0.52829,     0.53656,     0.54639,     0.55541,     0.56597,\n",
      "            0.56968,     0.57288,     0.58166,     0.58912,     0.59142,     0.59372,     0.59516,     0.59659,     0.59802,     0.59944,     0.60377,     0.61092,     0.62718,     0.62913,     0.63108,     0.63303,      0.6411,     0.65014,     0.65906,     0.66971,     0.67212,      0.6737,     0.67529,\n",
      "            0.67688,     0.67847,     0.68004,      0.6816,     0.68316,     0.68472,     0.68629,     0.68827,     0.69043,     0.69258,     0.69474,      0.6955,     0.69597,     0.69643,      0.6969,     0.69736,     0.69782,     0.69829,     0.69875,     0.69922,     0.69968,     0.70014,     0.70061,\n",
      "            0.70107,     0.70153,       0.702,     0.70246,     0.70293,     0.70339,      0.7041,     0.70534,     0.70657,      0.7078,     0.70903,     0.71027,      0.7115,     0.71271,     0.71381,     0.71491,     0.71601,     0.71711,     0.71821,     0.71931,     0.72041,     0.72151,     0.72268,\n",
      "            0.72386,     0.72504,     0.72622,     0.72739,     0.72857,     0.72975,      0.7315,     0.73703,     0.74013,     0.73981,      0.7395,     0.73918,     0.73887,     0.73855,     0.73824,     0.73792,     0.73761,     0.73729,     0.73698,     0.73791,     0.73977,     0.74164,      0.7435,\n",
      "            0.74536,     0.74685,     0.74748,     0.74811,     0.74873,     0.74936,     0.74998,     0.75061,     0.75124,     0.75186,     0.75249,     0.75311,     0.75374,     0.75437,     0.75499,     0.75562,     0.75624,     0.75689,     0.75765,     0.75841,     0.75917,     0.75992,     0.76068,\n",
      "            0.76144,      0.7622,     0.76296,     0.76371,     0.76447,     0.76523,     0.76599,     0.76674,     0.76819,     0.77033,     0.77248,     0.77462,     0.77676,      0.7779,     0.77812,     0.77834,     0.77857,     0.77879,     0.77902,     0.77924,     0.77947,     0.77969,     0.77992,\n",
      "            0.78014,     0.78037,     0.78059,     0.78081,     0.78104,     0.78126,     0.78149,     0.78171,     0.78194,     0.78216,     0.78239,     0.78261,     0.78284,     0.78306,     0.78328,     0.78351,     0.78373,     0.78396,     0.78418,     0.78441,     0.78463,     0.78486,     0.78508,\n",
      "            0.78531,     0.78553,     0.78576,     0.78598,      0.7862,     0.78643,     0.78665,     0.78688,      0.7871,     0.78733,     0.78755,     0.78778,       0.788,     0.78823,     0.78845,     0.78867,      0.8002,     0.80079,     0.80138,     0.80196,     0.80255,     0.80313,     0.80372,\n",
      "            0.80431,     0.80489,     0.80548,     0.80606,     0.80665,     0.80724,     0.80782,     0.80841,     0.80899,     0.80958,     0.81017,     0.81075,     0.81134,     0.81174,       0.812,     0.81226,     0.81252,     0.81277,     0.81303,     0.81329,     0.81355,     0.81381,     0.81407,\n",
      "            0.81433,     0.81458,     0.81484,      0.8151,     0.81536,     0.81562,     0.81588,     0.81614,     0.81639,     0.81665,     0.81691,     0.81717,     0.81743,     0.81769,     0.81795,      0.8182,     0.81846,     0.81872,     0.81898,     0.81924,      0.8195,     0.81976,     0.82001,\n",
      "            0.82027,     0.82053,     0.82079,     0.82105,     0.82131,     0.82157,     0.82182,     0.82208,     0.82234,      0.8226,     0.82286,     0.82312,     0.82338,     0.82346,     0.82329,     0.82312,     0.82295,     0.82278,     0.82261,     0.82245,     0.82228,     0.82211,     0.82194,\n",
      "            0.82177,      0.8216,     0.82143,     0.82126,     0.82109,     0.82092,     0.82165,     0.82255,     0.82345,     0.82434,     0.82524,     0.82614,     0.82704,     0.82794,     0.82883,     0.82973,     0.83063,     0.83153,     0.83243,     0.83332,     0.83418,     0.83503,     0.83588,\n",
      "            0.83673,     0.83758,     0.83843,     0.83928,     0.84013,     0.84098,     0.84183,     0.84268,     0.84353,     0.84438,     0.84523,     0.84608,     0.84628,     0.84642,     0.84656,      0.8467,     0.84684,     0.84698,     0.84711,     0.84725,     0.84739,     0.84753,     0.84767,\n",
      "            0.84781,     0.84795,     0.84809,     0.84822,     0.84836,      0.8485,     0.84864,     0.84878,     0.84892,     0.84906,      0.8492,     0.84933,     0.84947,     0.84961,     0.84975,     0.84989,     0.85003,     0.85017,     0.85031,     0.85045,     0.85058,     0.85072,     0.85086,\n",
      "              0.851,     0.85114,     0.85128,     0.85142,     0.85156,     0.85169,     0.85183,     0.85197,     0.85211,     0.85225,     0.85239,     0.85253,     0.85267,      0.8528,     0.85294,     0.85308,     0.85322,     0.85336,      0.8535,     0.85364,     0.85378,     0.85392,     0.85405,\n",
      "            0.85419,     0.85433,     0.85447,     0.85461,     0.85475,     0.85489,     0.85503,     0.85516,      0.8553,     0.85544,     0.85558,     0.85572,     0.85586,       0.856,     0.85614,     0.85627,     0.85641,     0.85655,     0.85669,     0.85683,     0.85697,     0.85711,     0.85725,\n",
      "            0.85739,     0.85752,     0.85766,      0.8578,     0.85794,     0.85808,     0.85822,     0.85836,      0.8585,     0.85863,     0.85877,     0.85891,     0.85905,     0.85919,     0.85933,     0.85949,     0.85967,     0.85985,     0.86003,     0.86021,     0.86039,     0.86057,     0.86075,\n",
      "            0.86093,      0.8611,     0.86128,     0.86146,     0.86164,     0.86182,       0.862,     0.86218,     0.86236,     0.86254,     0.86272,     0.86289,     0.86307,     0.86325,     0.86343,     0.86361,     0.86379,     0.86397,     0.86415,     0.86433,      0.8645,     0.86468,     0.86486,\n",
      "            0.86504,     0.86522,      0.8654,     0.86558,     0.86576,     0.86594,     0.86612,     0.86629,     0.86647,     0.86665,     0.86683,     0.86701,     0.86719,     0.86737,     0.86755,     0.86773,      0.8679,     0.86808,     0.86826,     0.86844,     0.86862,      0.8688,     0.86898,\n",
      "            0.86916,     0.86934,     0.86952,     0.86969,     0.86987,     0.87005,     0.87023,     0.87041,     0.87059,     0.87077,     0.87095,     0.87113,      0.8713,     0.87148,     0.87166,     0.87184,     0.87202,      0.8722,     0.87238,     0.87256,     0.87274,     0.87292,     0.87325,\n",
      "            0.87378,     0.87431,     0.87483,     0.87536,     0.87589,     0.87642,     0.87695,     0.87748,     0.87801,     0.87854,     0.87906,     0.87959,     0.88012,     0.88065,     0.88118,     0.88171,     0.88224,     0.88277,      0.8833,     0.88382,     0.88435,     0.88488,     0.88541,\n",
      "            0.88594,     0.88647,       0.887,     0.88731,     0.88756,     0.88782,     0.88808,     0.88834,     0.88859,     0.88885,     0.88911,     0.88937,     0.88963,     0.88988,     0.89014,      0.8904,     0.89066,     0.89091,     0.89117,     0.89143,     0.89169,     0.89195,      0.8922,\n",
      "            0.89246,     0.89272,     0.89298,     0.89323,     0.89349,     0.89375,     0.89401,     0.89426,     0.89452,     0.89478,     0.89504,      0.8953,     0.89555,     0.89581,     0.89607,     0.89633,     0.89658,     0.89684,      0.8971,     0.89736,     0.89762,     0.89787,     0.89813,\n",
      "            0.89839,     0.89865,      0.8989,     0.89916,     0.89942,     0.89968,     0.89993,     0.90019,     0.90045,     0.90071,     0.90097,     0.90122,     0.90148,     0.90174,     0.90201,     0.90228,     0.90254,     0.90281,     0.90308,     0.90334,     0.90361,     0.90388,     0.90414,\n",
      "            0.90441,     0.90468,     0.90494,     0.90521,     0.90548,     0.90574,     0.90601,     0.90628,     0.90654,     0.90681,     0.90708,     0.90734,     0.90761,     0.90788,     0.90814,     0.90841,     0.90868,     0.90894,     0.90921,     0.90947,     0.90974,     0.91001,     0.91027,\n",
      "            0.91054,     0.91081,     0.91107,     0.91134,     0.91161,     0.91187,     0.91214,     0.91241,     0.91267,     0.91294,     0.91321,     0.91347,     0.91374,     0.91401,     0.91427,     0.91454,     0.91481,     0.91507,     0.91534,     0.91561,     0.91587,     0.91614,     0.91641,\n",
      "            0.91665,     0.91612,      0.9156,      0.9165,     0.92003,     0.92356,     0.92709,     0.93063,     0.93144,      0.9319,     0.93235,     0.93281,     0.93327,     0.93373,     0.93418,     0.93464,      0.9351,     0.93555,     0.93601,     0.93647,     0.93693,     0.93738,     0.93784,\n",
      "             0.9383,     0.93876,     0.93921,     0.93967,     0.94013,     0.94058,     0.94104,      0.9415,     0.94196,     0.94241,     0.94287,     0.94333,     0.94379,     0.94424,      0.9447,     0.94516,     0.94562,     0.94607,     0.94653,     0.94699,     0.94755,     0.94862,     0.94969,\n",
      "            0.95076,     0.95183,      0.9529,     0.95397,     0.95504,     0.95611,     0.95718,     0.95825,     0.95932,     0.96039,     0.96146,     0.96253,      0.9636,     0.96427,     0.96421,     0.96415,     0.96409,     0.96404,     0.96398,     0.96392,     0.96387,     0.96381,     0.96375,\n",
      "            0.96369,     0.96364,     0.96379,     0.96395,     0.96411,     0.96426,     0.96442,     0.96458,     0.96473,     0.96489,     0.96505,      0.9652,     0.96536,     0.96552,     0.96568,     0.96583,     0.96599,     0.96615,      0.9663,     0.96646,     0.96662,     0.96678,     0.96693,\n",
      "            0.96709,     0.96725,      0.9674,     0.96756,     0.96772,     0.96788,     0.96803,     0.96819,     0.96835,      0.9685,     0.96866,     0.96882,     0.96898,     0.96913,     0.96929,     0.96945,      0.9696,     0.96976,     0.96992,     0.97008,     0.97023,     0.97039,     0.97055,\n",
      "             0.9707,     0.97086,     0.97102,     0.97118,     0.97133,     0.97149,     0.97165,      0.9718,     0.97196,     0.97212,     0.97227,     0.97243,     0.97259,     0.97275,      0.9729,     0.97306,     0.97322,     0.97337,     0.97353,     0.97369,     0.97385,       0.974,     0.97416,\n",
      "            0.97432,     0.97447,     0.97463,     0.97479,     0.97495,      0.9751,     0.97526,     0.97542,     0.97557,     0.97573,     0.97589,     0.97605,      0.9762,     0.97636,     0.97652,     0.97667,     0.97683,     0.97699,     0.97715,      0.9773,     0.97746,     0.97762,     0.97777,\n",
      "            0.97793,     0.97809,     0.97825,      0.9784,     0.97856,     0.97872,     0.97887,     0.97903,     0.97919,     0.97935,      0.9795,     0.97966,     0.97982,     0.97997,     0.98013,     0.98029,     0.98044,      0.9806,     0.98076,     0.98092,     0.98107,     0.98123,     0.98139,\n",
      "            0.98128,     0.98111,     0.98109,     0.98106,     0.98104,     0.98101,     0.98099,     0.98096,     0.98093,     0.98091,     0.98088,     0.98086,     0.98083,     0.98081,     0.98078,     0.98076,     0.98075,     0.98074,     0.98073,     0.98072,     0.98071,      0.9807,     0.98069,\n",
      "            0.98068,     0.98067,     0.98066,     0.98065,     0.98064,     0.98063,     0.98062,     0.98061,      0.9806,     0.98059,     0.98058,     0.98057,     0.98056,     0.98055,     0.98054,     0.98053,     0.98052,     0.98051,     0.98049,     0.98048,     0.98047,     0.98046,     0.98045,\n",
      "            0.98044,     0.98043,     0.98042,     0.98041,      0.9804,     0.98039,     0.98035,     0.98032,     0.98028,     0.98025,     0.98021,     0.98017,     0.98014,      0.9801,     0.98006,     0.98003,     0.97999,     0.97995,     0.97992,     0.97988,     0.97984,      0.9798,     0.97976,\n",
      "            0.97972,     0.97969,     0.97965,     0.97961,     0.97955,     0.97948,     0.97941,     0.97935,     0.97928,     0.97921,     0.97908,     0.97888,     0.97871,     0.97863,     0.97856,     0.97849,     0.97841,     0.97834,     0.97827,     0.97704,     0.97663,     0.97645,     0.97627,\n",
      "            0.97554,     0.97542,      0.9753,     0.97518,     0.97506,      0.9789,           1,           1,           1,           1,           1,           1,           1,           1,           1,           1,           1,           1,           1,           1,           1,           1,           1,\n",
      "                  1,           1,           1,           1,           1,           1,           1,           1,           1,           1,           1,           1,           1,           1,           1,           1,           1,           1,           1,           1,           1,           1,           1,\n",
      "                  1,           1,           1,           1,           1,           1,           1,           1,           1,           1,           1,           1,           1,           1,           1,           1,           1,           1,           1,           1,           1,           1,           1,\n",
      "                  1,           1,           1,           1,           1,           1,           1,           1,           1,           1,           1,           1,           1,           1,           1,           1,           1,           1,           1,           1,           1,           1,           1,\n",
      "                  1,           1,           1,           1,           1,           1,           1,           1,           1,           1,           1]]), 'Confidence', 'Precision'], [array([          0,    0.001001,    0.002002,    0.003003,    0.004004,    0.005005,    0.006006,    0.007007,    0.008008,    0.009009,     0.01001,    0.011011,    0.012012,    0.013013,    0.014014,    0.015015,    0.016016,    0.017017,    0.018018,    0.019019,     0.02002,    0.021021,    0.022022,    0.023023,\n",
      "          0.024024,    0.025025,    0.026026,    0.027027,    0.028028,    0.029029,     0.03003,    0.031031,    0.032032,    0.033033,    0.034034,    0.035035,    0.036036,    0.037037,    0.038038,    0.039039,     0.04004,    0.041041,    0.042042,    0.043043,    0.044044,    0.045045,    0.046046,    0.047047,\n",
      "          0.048048,    0.049049,     0.05005,    0.051051,    0.052052,    0.053053,    0.054054,    0.055055,    0.056056,    0.057057,    0.058058,    0.059059,     0.06006,    0.061061,    0.062062,    0.063063,    0.064064,    0.065065,    0.066066,    0.067067,    0.068068,    0.069069,     0.07007,    0.071071,\n",
      "          0.072072,    0.073073,    0.074074,    0.075075,    0.076076,    0.077077,    0.078078,    0.079079,     0.08008,    0.081081,    0.082082,    0.083083,    0.084084,    0.085085,    0.086086,    0.087087,    0.088088,    0.089089,     0.09009,    0.091091,    0.092092,    0.093093,    0.094094,    0.095095,\n",
      "          0.096096,    0.097097,    0.098098,    0.099099,      0.1001,      0.1011,      0.1021,      0.1031,      0.1041,     0.10511,     0.10611,     0.10711,     0.10811,     0.10911,     0.11011,     0.11111,     0.11211,     0.11311,     0.11411,     0.11512,     0.11612,     0.11712,     0.11812,     0.11912,\n",
      "           0.12012,     0.12112,     0.12212,     0.12312,     0.12412,     0.12513,     0.12613,     0.12713,     0.12813,     0.12913,     0.13013,     0.13113,     0.13213,     0.13313,     0.13413,     0.13514,     0.13614,     0.13714,     0.13814,     0.13914,     0.14014,     0.14114,     0.14214,     0.14314,\n",
      "           0.14414,     0.14515,     0.14615,     0.14715,     0.14815,     0.14915,     0.15015,     0.15115,     0.15215,     0.15315,     0.15415,     0.15516,     0.15616,     0.15716,     0.15816,     0.15916,     0.16016,     0.16116,     0.16216,     0.16316,     0.16416,     0.16517,     0.16617,     0.16717,\n",
      "           0.16817,     0.16917,     0.17017,     0.17117,     0.17217,     0.17317,     0.17417,     0.17518,     0.17618,     0.17718,     0.17818,     0.17918,     0.18018,     0.18118,     0.18218,     0.18318,     0.18418,     0.18519,     0.18619,     0.18719,     0.18819,     0.18919,     0.19019,     0.19119,\n",
      "           0.19219,     0.19319,     0.19419,      0.1952,      0.1962,      0.1972,      0.1982,      0.1992,      0.2002,      0.2012,      0.2022,      0.2032,      0.2042,     0.20521,     0.20621,     0.20721,     0.20821,     0.20921,     0.21021,     0.21121,     0.21221,     0.21321,     0.21421,     0.21522,\n",
      "           0.21622,     0.21722,     0.21822,     0.21922,     0.22022,     0.22122,     0.22222,     0.22322,     0.22422,     0.22523,     0.22623,     0.22723,     0.22823,     0.22923,     0.23023,     0.23123,     0.23223,     0.23323,     0.23423,     0.23524,     0.23624,     0.23724,     0.23824,     0.23924,\n",
      "           0.24024,     0.24124,     0.24224,     0.24324,     0.24424,     0.24525,     0.24625,     0.24725,     0.24825,     0.24925,     0.25025,     0.25125,     0.25225,     0.25325,     0.25425,     0.25526,     0.25626,     0.25726,     0.25826,     0.25926,     0.26026,     0.26126,     0.26226,     0.26326,\n",
      "           0.26426,     0.26527,     0.26627,     0.26727,     0.26827,     0.26927,     0.27027,     0.27127,     0.27227,     0.27327,     0.27427,     0.27528,     0.27628,     0.27728,     0.27828,     0.27928,     0.28028,     0.28128,     0.28228,     0.28328,     0.28428,     0.28529,     0.28629,     0.28729,\n",
      "           0.28829,     0.28929,     0.29029,     0.29129,     0.29229,     0.29329,     0.29429,      0.2953,      0.2963,      0.2973,      0.2983,      0.2993,      0.3003,      0.3013,      0.3023,      0.3033,      0.3043,     0.30531,     0.30631,     0.30731,     0.30831,     0.30931,     0.31031,     0.31131,\n",
      "           0.31231,     0.31331,     0.31431,     0.31532,     0.31632,     0.31732,     0.31832,     0.31932,     0.32032,     0.32132,     0.32232,     0.32332,     0.32432,     0.32533,     0.32633,     0.32733,     0.32833,     0.32933,     0.33033,     0.33133,     0.33233,     0.33333,     0.33433,     0.33534,\n",
      "           0.33634,     0.33734,     0.33834,     0.33934,     0.34034,     0.34134,     0.34234,     0.34334,     0.34434,     0.34535,     0.34635,     0.34735,     0.34835,     0.34935,     0.35035,     0.35135,     0.35235,     0.35335,     0.35435,     0.35536,     0.35636,     0.35736,     0.35836,     0.35936,\n",
      "           0.36036,     0.36136,     0.36236,     0.36336,     0.36436,     0.36537,     0.36637,     0.36737,     0.36837,     0.36937,     0.37037,     0.37137,     0.37237,     0.37337,     0.37437,     0.37538,     0.37638,     0.37738,     0.37838,     0.37938,     0.38038,     0.38138,     0.38238,     0.38338,\n",
      "           0.38438,     0.38539,     0.38639,     0.38739,     0.38839,     0.38939,     0.39039,     0.39139,     0.39239,     0.39339,     0.39439,      0.3954,      0.3964,      0.3974,      0.3984,      0.3994,      0.4004,      0.4014,      0.4024,      0.4034,      0.4044,     0.40541,     0.40641,     0.40741,\n",
      "           0.40841,     0.40941,     0.41041,     0.41141,     0.41241,     0.41341,     0.41441,     0.41542,     0.41642,     0.41742,     0.41842,     0.41942,     0.42042,     0.42142,     0.42242,     0.42342,     0.42442,     0.42543,     0.42643,     0.42743,     0.42843,     0.42943,     0.43043,     0.43143,\n",
      "           0.43243,     0.43343,     0.43443,     0.43544,     0.43644,     0.43744,     0.43844,     0.43944,     0.44044,     0.44144,     0.44244,     0.44344,     0.44444,     0.44545,     0.44645,     0.44745,     0.44845,     0.44945,     0.45045,     0.45145,     0.45245,     0.45345,     0.45445,     0.45546,\n",
      "           0.45646,     0.45746,     0.45846,     0.45946,     0.46046,     0.46146,     0.46246,     0.46346,     0.46446,     0.46547,     0.46647,     0.46747,     0.46847,     0.46947,     0.47047,     0.47147,     0.47247,     0.47347,     0.47447,     0.47548,     0.47648,     0.47748,     0.47848,     0.47948,\n",
      "           0.48048,     0.48148,     0.48248,     0.48348,     0.48448,     0.48549,     0.48649,     0.48749,     0.48849,     0.48949,     0.49049,     0.49149,     0.49249,     0.49349,     0.49449,      0.4955,      0.4965,      0.4975,      0.4985,      0.4995,      0.5005,      0.5015,      0.5025,      0.5035,\n",
      "            0.5045,     0.50551,     0.50651,     0.50751,     0.50851,     0.50951,     0.51051,     0.51151,     0.51251,     0.51351,     0.51451,     0.51552,     0.51652,     0.51752,     0.51852,     0.51952,     0.52052,     0.52152,     0.52252,     0.52352,     0.52452,     0.52553,     0.52653,     0.52753,\n",
      "           0.52853,     0.52953,     0.53053,     0.53153,     0.53253,     0.53353,     0.53453,     0.53554,     0.53654,     0.53754,     0.53854,     0.53954,     0.54054,     0.54154,     0.54254,     0.54354,     0.54454,     0.54555,     0.54655,     0.54755,     0.54855,     0.54955,     0.55055,     0.55155,\n",
      "           0.55255,     0.55355,     0.55455,     0.55556,     0.55656,     0.55756,     0.55856,     0.55956,     0.56056,     0.56156,     0.56256,     0.56356,     0.56456,     0.56557,     0.56657,     0.56757,     0.56857,     0.56957,     0.57057,     0.57157,     0.57257,     0.57357,     0.57457,     0.57558,\n",
      "           0.57658,     0.57758,     0.57858,     0.57958,     0.58058,     0.58158,     0.58258,     0.58358,     0.58458,     0.58559,     0.58659,     0.58759,     0.58859,     0.58959,     0.59059,     0.59159,     0.59259,     0.59359,     0.59459,      0.5956,      0.5966,      0.5976,      0.5986,      0.5996,\n",
      "            0.6006,      0.6016,      0.6026,      0.6036,      0.6046,     0.60561,     0.60661,     0.60761,     0.60861,     0.60961,     0.61061,     0.61161,     0.61261,     0.61361,     0.61461,     0.61562,     0.61662,     0.61762,     0.61862,     0.61962,     0.62062,     0.62162,     0.62262,     0.62362,\n",
      "           0.62462,     0.62563,     0.62663,     0.62763,     0.62863,     0.62963,     0.63063,     0.63163,     0.63263,     0.63363,     0.63463,     0.63564,     0.63664,     0.63764,     0.63864,     0.63964,     0.64064,     0.64164,     0.64264,     0.64364,     0.64464,     0.64565,     0.64665,     0.64765,\n",
      "           0.64865,     0.64965,     0.65065,     0.65165,     0.65265,     0.65365,     0.65465,     0.65566,     0.65666,     0.65766,     0.65866,     0.65966,     0.66066,     0.66166,     0.66266,     0.66366,     0.66466,     0.66567,     0.66667,     0.66767,     0.66867,     0.66967,     0.67067,     0.67167,\n",
      "           0.67267,     0.67367,     0.67467,     0.67568,     0.67668,     0.67768,     0.67868,     0.67968,     0.68068,     0.68168,     0.68268,     0.68368,     0.68468,     0.68569,     0.68669,     0.68769,     0.68869,     0.68969,     0.69069,     0.69169,     0.69269,     0.69369,     0.69469,      0.6957,\n",
      "            0.6967,      0.6977,      0.6987,      0.6997,      0.7007,      0.7017,      0.7027,      0.7037,      0.7047,     0.70571,     0.70671,     0.70771,     0.70871,     0.70971,     0.71071,     0.71171,     0.71271,     0.71371,     0.71471,     0.71572,     0.71672,     0.71772,     0.71872,     0.71972,\n",
      "           0.72072,     0.72172,     0.72272,     0.72372,     0.72472,     0.72573,     0.72673,     0.72773,     0.72873,     0.72973,     0.73073,     0.73173,     0.73273,     0.73373,     0.73473,     0.73574,     0.73674,     0.73774,     0.73874,     0.73974,     0.74074,     0.74174,     0.74274,     0.74374,\n",
      "           0.74474,     0.74575,     0.74675,     0.74775,     0.74875,     0.74975,     0.75075,     0.75175,     0.75275,     0.75375,     0.75475,     0.75576,     0.75676,     0.75776,     0.75876,     0.75976,     0.76076,     0.76176,     0.76276,     0.76376,     0.76476,     0.76577,     0.76677,     0.76777,\n",
      "           0.76877,     0.76977,     0.77077,     0.77177,     0.77277,     0.77377,     0.77477,     0.77578,     0.77678,     0.77778,     0.77878,     0.77978,     0.78078,     0.78178,     0.78278,     0.78378,     0.78478,     0.78579,     0.78679,     0.78779,     0.78879,     0.78979,     0.79079,     0.79179,\n",
      "           0.79279,     0.79379,     0.79479,      0.7958,      0.7968,      0.7978,      0.7988,      0.7998,      0.8008,      0.8018,      0.8028,      0.8038,      0.8048,     0.80581,     0.80681,     0.80781,     0.80881,     0.80981,     0.81081,     0.81181,     0.81281,     0.81381,     0.81481,     0.81582,\n",
      "           0.81682,     0.81782,     0.81882,     0.81982,     0.82082,     0.82182,     0.82282,     0.82382,     0.82482,     0.82583,     0.82683,     0.82783,     0.82883,     0.82983,     0.83083,     0.83183,     0.83283,     0.83383,     0.83483,     0.83584,     0.83684,     0.83784,     0.83884,     0.83984,\n",
      "           0.84084,     0.84184,     0.84284,     0.84384,     0.84484,     0.84585,     0.84685,     0.84785,     0.84885,     0.84985,     0.85085,     0.85185,     0.85285,     0.85385,     0.85485,     0.85586,     0.85686,     0.85786,     0.85886,     0.85986,     0.86086,     0.86186,     0.86286,     0.86386,\n",
      "           0.86486,     0.86587,     0.86687,     0.86787,     0.86887,     0.86987,     0.87087,     0.87187,     0.87287,     0.87387,     0.87487,     0.87588,     0.87688,     0.87788,     0.87888,     0.87988,     0.88088,     0.88188,     0.88288,     0.88388,     0.88488,     0.88589,     0.88689,     0.88789,\n",
      "           0.88889,     0.88989,     0.89089,     0.89189,     0.89289,     0.89389,     0.89489,      0.8959,      0.8969,      0.8979,      0.8989,      0.8999,      0.9009,      0.9019,      0.9029,      0.9039,      0.9049,     0.90591,     0.90691,     0.90791,     0.90891,     0.90991,     0.91091,     0.91191,\n",
      "           0.91291,     0.91391,     0.91491,     0.91592,     0.91692,     0.91792,     0.91892,     0.91992,     0.92092,     0.92192,     0.92292,     0.92392,     0.92492,     0.92593,     0.92693,     0.92793,     0.92893,     0.92993,     0.93093,     0.93193,     0.93293,     0.93393,     0.93493,     0.93594,\n",
      "           0.93694,     0.93794,     0.93894,     0.93994,     0.94094,     0.94194,     0.94294,     0.94394,     0.94494,     0.94595,     0.94695,     0.94795,     0.94895,     0.94995,     0.95095,     0.95195,     0.95295,     0.95395,     0.95495,     0.95596,     0.95696,     0.95796,     0.95896,     0.95996,\n",
      "           0.96096,     0.96196,     0.96296,     0.96396,     0.96496,     0.96597,     0.96697,     0.96797,     0.96897,     0.96997,     0.97097,     0.97197,     0.97297,     0.97397,     0.97497,     0.97598,     0.97698,     0.97798,     0.97898,     0.97998,     0.98098,     0.98198,     0.98298,     0.98398,\n",
      "           0.98498,     0.98599,     0.98699,     0.98799,     0.98899,     0.98999,     0.99099,     0.99199,     0.99299,     0.99399,     0.99499,       0.996,       0.997,       0.998,       0.999,           1]), array([[    0.98413,     0.98413,     0.98413,     0.98413,     0.98413,     0.98413,     0.98413,     0.96825,     0.96825,     0.96825,     0.95238,     0.95238,     0.95238,     0.93651,     0.93651,     0.93651,     0.92063,     0.92063,     0.92063,     0.92063,     0.90476,     0.90476,     0.90476,\n",
      "            0.90476,     0.90476,     0.90476,     0.90476,     0.90476,     0.90476,     0.90476,     0.90476,     0.90476,     0.90476,     0.90476,     0.90476,     0.90476,     0.90476,     0.90476,     0.90476,     0.90476,     0.90476,     0.90476,     0.90476,     0.90476,     0.90476,     0.90476,\n",
      "            0.90476,     0.90476,     0.90476,     0.90476,     0.90476,     0.90476,     0.90476,     0.90476,     0.90476,     0.90476,     0.90476,     0.90476,     0.90476,     0.90476,     0.90476,     0.90476,     0.90476,     0.90476,     0.90476,     0.90476,     0.90476,     0.90476,     0.90476,\n",
      "            0.90476,     0.90476,     0.90476,     0.90476,     0.90476,     0.90476,     0.90476,     0.90476,     0.90476,     0.90476,     0.90476,     0.90476,     0.90476,     0.90476,     0.90476,     0.90476,     0.90476,     0.90476,     0.90476,     0.90476,     0.90476,     0.90476,     0.90476,\n",
      "            0.90476,     0.90476,     0.90476,     0.90476,     0.90476,     0.90476,     0.90476,     0.90476,     0.90415,     0.90269,     0.90123,     0.89976,      0.8983,     0.89683,     0.89537,     0.89391,     0.89244,     0.89098,     0.88951,     0.88889,     0.88889,     0.88889,     0.88889,\n",
      "            0.88889,     0.88889,     0.88889,     0.88889,     0.88889,     0.88889,     0.88889,     0.88889,     0.88889,     0.88889,     0.88889,     0.88889,     0.88889,     0.88889,     0.88889,     0.88889,     0.88889,     0.88889,     0.88889,     0.88889,     0.88889,     0.88889,     0.88889,\n",
      "            0.88889,     0.88889,     0.88889,     0.88889,     0.88889,     0.88889,     0.88889,     0.88889,     0.88889,     0.88889,     0.88889,     0.88889,     0.88889,     0.88889,     0.88889,     0.88889,     0.88889,     0.88889,     0.88889,     0.88889,     0.88889,     0.88889,     0.88889,\n",
      "            0.88889,     0.88889,     0.88889,     0.88889,     0.88889,     0.88889,     0.88889,     0.88889,     0.88889,     0.88889,     0.88889,     0.88889,     0.88889,     0.88889,     0.88889,     0.88889,     0.88889,     0.88889,     0.88889,     0.88889,     0.88889,     0.88889,     0.88889,\n",
      "            0.88889,     0.88889,     0.88889,     0.88889,     0.88889,     0.88889,     0.88889,     0.88889,     0.88889,     0.88889,     0.88889,     0.88889,     0.88889,     0.88889,     0.88889,     0.88889,     0.88889,     0.88889,     0.88889,     0.88889,     0.88889,     0.88889,     0.88889,\n",
      "            0.88889,     0.88889,     0.88889,     0.88889,     0.88889,     0.88889,     0.88889,     0.88889,     0.88889,     0.88889,     0.88889,     0.88889,     0.88889,     0.88889,     0.88889,     0.88889,     0.88889,     0.88889,     0.88889,     0.88889,     0.88889,     0.88889,     0.88889,\n",
      "            0.88889,     0.88889,     0.88889,     0.88889,     0.88889,     0.88889,     0.88889,     0.88889,     0.88889,     0.88889,     0.88889,     0.88889,     0.88889,     0.88889,     0.88889,     0.88889,     0.88889,     0.88889,     0.88889,     0.88889,     0.88889,     0.88889,     0.88889,\n",
      "            0.88889,     0.88889,     0.88889,     0.88889,     0.88889,     0.88889,     0.88889,     0.88889,     0.88889,     0.88889,     0.88889,     0.88889,     0.88889,     0.88848,     0.88746,     0.88644,     0.88542,      0.8844,     0.88338,     0.88236,     0.88134,     0.88032,      0.8793,\n",
      "            0.87828,     0.87726,     0.87624,     0.87522,      0.8742,     0.87318,     0.87302,     0.87302,     0.87302,     0.87302,     0.87302,     0.87302,     0.87302,     0.87302,     0.87302,     0.87302,     0.87302,     0.87302,     0.87302,     0.87302,     0.87302,     0.87302,     0.87302,\n",
      "            0.87302,     0.87302,     0.87302,     0.87302,     0.87302,     0.87302,     0.87302,     0.87302,     0.87302,     0.87302,     0.87302,     0.87302,     0.87302,     0.87302,     0.87302,     0.87302,     0.87302,     0.87302,     0.87302,     0.87302,     0.87302,     0.87302,     0.87302,\n",
      "            0.87302,     0.87302,     0.87302,     0.87302,     0.87302,     0.87302,     0.87302,     0.87302,     0.87302,     0.87302,     0.87302,     0.87302,     0.87302,     0.87302,     0.87302,     0.87302,     0.87302,     0.87302,     0.87302,     0.87302,     0.87302,     0.87302,     0.87302,\n",
      "            0.87302,     0.87302,     0.87302,     0.87302,     0.87302,     0.87302,     0.87302,     0.87302,     0.87302,     0.87302,     0.87302,     0.87302,     0.87302,     0.87302,     0.87302,     0.87302,     0.87302,     0.87302,     0.87302,     0.87302,     0.87302,     0.87302,     0.87302,\n",
      "            0.87302,     0.87302,     0.87302,     0.87302,     0.87302,     0.87302,     0.87302,     0.87302,     0.87302,     0.87302,     0.87302,     0.87302,     0.87302,     0.87302,     0.87302,     0.87302,     0.87302,     0.87302,     0.87302,     0.87302,     0.87302,     0.87302,     0.87302,\n",
      "            0.87302,     0.87302,     0.87302,     0.87302,     0.87302,     0.87302,     0.87302,     0.87302,     0.87302,     0.87302,     0.87302,     0.87302,     0.87302,     0.87302,     0.87302,     0.87302,     0.87302,     0.87302,     0.87302,     0.87302,     0.87302,     0.87302,     0.87302,\n",
      "            0.87302,     0.87302,     0.87302,     0.87302,     0.87302,     0.87302,     0.87302,     0.87302,     0.87302,     0.87302,     0.87302,     0.87302,     0.87302,     0.87302,     0.87302,     0.87302,     0.87302,     0.87302,     0.87302,     0.87302,     0.87302,     0.87302,     0.87302,\n",
      "            0.87302,     0.87302,     0.87302,     0.87302,     0.87302,     0.87302,     0.87302,     0.87302,     0.87302,     0.87302,     0.87302,     0.87302,     0.87302,     0.87302,     0.87302,     0.87302,     0.87302,     0.87302,     0.87302,     0.87302,     0.87302,     0.87302,     0.87302,\n",
      "            0.87302,     0.87302,     0.87302,     0.87302,     0.87302,     0.87302,     0.87302,     0.87302,     0.87302,     0.87302,     0.87302,     0.87302,     0.87302,     0.87302,     0.87302,     0.87302,     0.87302,     0.87302,     0.87302,     0.87302,     0.87302,     0.87302,     0.87302,\n",
      "            0.87302,     0.87302,     0.87302,     0.87302,     0.87302,     0.87302,     0.87302,     0.87302,     0.87302,     0.87302,     0.87302,     0.87302,     0.87302,     0.87302,     0.87302,     0.87302,     0.87302,     0.87302,     0.87302,     0.87302,     0.87302,     0.87302,     0.87302,\n",
      "            0.87302,     0.87302,     0.87302,     0.87302,     0.87302,     0.87302,     0.87302,     0.87302,     0.87302,     0.87302,     0.87302,     0.87302,     0.87302,     0.87302,     0.87302,     0.87302,     0.87302,     0.87302,     0.87302,     0.87302,     0.87302,     0.87302,     0.87302,\n",
      "            0.87302,     0.87302,     0.87302,     0.87302,     0.87302,     0.87302,     0.87302,     0.87302,     0.87302,     0.87302,     0.87302,     0.87302,     0.87302,     0.87302,     0.87302,     0.87302,     0.87302,     0.87302,     0.87302,     0.87302,     0.87302,     0.87302,     0.87302,\n",
      "            0.87302,     0.87302,     0.87302,     0.87302,     0.87302,     0.87302,     0.87302,     0.87302,     0.87302,     0.87302,     0.87302,     0.87302,     0.87302,     0.87302,     0.87302,     0.87302,     0.87302,     0.87302,     0.87302,     0.87302,     0.87302,     0.87302,     0.87302,\n",
      "            0.87302,     0.87302,     0.87302,     0.87302,     0.87302,     0.87302,     0.87302,     0.87302,     0.87302,     0.87302,     0.87302,     0.87302,     0.87302,     0.87302,     0.87302,     0.87302,     0.87302,     0.87302,     0.87302,     0.87302,     0.87302,     0.87302,     0.87302,\n",
      "            0.87302,     0.87302,     0.87302,     0.87302,     0.87302,     0.87302,     0.87302,     0.87302,     0.87302,     0.87302,     0.87302,     0.87302,     0.87302,     0.87302,     0.87302,     0.87302,     0.87302,     0.87302,     0.87302,     0.87302,     0.87302,     0.87302,     0.87302,\n",
      "            0.87285,     0.86691,     0.86098,     0.85714,     0.85714,     0.85714,     0.85714,     0.85714,     0.85714,     0.85714,     0.85714,     0.85714,     0.85714,     0.85714,     0.85714,     0.85714,     0.85714,     0.85714,     0.85714,     0.85714,     0.85714,     0.85714,     0.85714,\n",
      "            0.85714,     0.85714,     0.85714,     0.85714,     0.85714,     0.85714,     0.85714,     0.85714,     0.85714,     0.85714,     0.85714,     0.85714,     0.85714,     0.85714,     0.85714,     0.85714,     0.85714,     0.85714,     0.85714,     0.85714,     0.85714,     0.85714,     0.85714,\n",
      "            0.85714,     0.85714,     0.85714,     0.85714,     0.85714,     0.85714,     0.85714,     0.85714,     0.85714,     0.85714,     0.85714,     0.85714,     0.85714,     0.85664,     0.85525,     0.85385,     0.85246,     0.85106,     0.84967,     0.84827,     0.84688,     0.84548,     0.84408,\n",
      "            0.84269,     0.84129,     0.84127,     0.84127,     0.84127,     0.84127,     0.84127,     0.84127,     0.84127,     0.84127,     0.84127,     0.84127,     0.84127,     0.84127,     0.84127,     0.84127,     0.84127,     0.84127,     0.84127,     0.84127,     0.84127,     0.84127,     0.84127,\n",
      "            0.84127,     0.84127,     0.84127,     0.84127,     0.84127,     0.84127,     0.84127,     0.84127,     0.84127,     0.84127,     0.84127,     0.84127,     0.84127,     0.84127,     0.84127,     0.84127,     0.84127,     0.84127,     0.84127,     0.84127,     0.84127,     0.84127,     0.84127,\n",
      "            0.84127,     0.84127,     0.84127,     0.84127,     0.84127,     0.84127,     0.84127,     0.84127,     0.84127,     0.84127,     0.84127,     0.84127,     0.84127,     0.84127,     0.84127,     0.84127,     0.84127,     0.84127,     0.84127,     0.84127,     0.84127,     0.84127,     0.84127,\n",
      "            0.84127,     0.84127,     0.84127,     0.84127,     0.84127,     0.84127,     0.84127,     0.84127,     0.84127,     0.84127,     0.84127,     0.84127,     0.84127,     0.84127,     0.84127,     0.84127,     0.84127,     0.84127,     0.84127,     0.84127,     0.84127,     0.84127,     0.84127,\n",
      "            0.84127,     0.84127,     0.84127,     0.84127,     0.84127,     0.84127,     0.84127,     0.84127,     0.84127,     0.84127,     0.84127,     0.84127,     0.84127,     0.84127,     0.84127,     0.84127,     0.84127,     0.84127,     0.84127,     0.84127,     0.84127,     0.84127,     0.84127,\n",
      "            0.83201,      0.8246,     0.82348,     0.82236,     0.82123,     0.82011,     0.81899,     0.81787,     0.81675,     0.81563,     0.81451,     0.81339,     0.81226,     0.81114,     0.81002,     0.80928,     0.80885,     0.80841,     0.80798,     0.80754,     0.80711,     0.80667,     0.80624,\n",
      "             0.8058,     0.80537,     0.80493,      0.8045,     0.80406,     0.80363,     0.80319,     0.80276,     0.80232,     0.80189,     0.80145,     0.80102,     0.80058,     0.80015,     0.79971,     0.79928,     0.79884,     0.79841,     0.79797,     0.79754,      0.7971,     0.79666,     0.79623,\n",
      "            0.79579,     0.79536,     0.79492,     0.79449,     0.79405,     0.79355,     0.79208,     0.79062,     0.78916,     0.78769,     0.78623,     0.78477,     0.78331,     0.78184,     0.78038,     0.77892,     0.77745,     0.77596,     0.77447,     0.77299,      0.7715,     0.77001,     0.76852,\n",
      "            0.76704,     0.76555,     0.76406,     0.76257,     0.76048,     0.75789,      0.7553,     0.75271,     0.75012,     0.74753,     0.74296,     0.73564,     0.72953,     0.72702,     0.72451,     0.72201,      0.7195,     0.71699,     0.71449,     0.67564,     0.66329,     0.65816,     0.65303,\n",
      "            0.63323,     0.63009,     0.62696,     0.62382,     0.62068,     0.60317,         0.6,     0.59443,     0.58885,     0.58133,     0.57307,     0.56998,     0.56816,     0.56635,     0.56453,     0.56272,     0.56091,     0.55909,     0.55728,     0.55532,     0.55051,      0.5457,     0.54088,\n",
      "            0.53554,     0.53001,     0.52448,      0.5175,     0.51032,     0.49623,     0.46811,     0.45374,     0.44601,     0.43801,     0.42994,     0.40854,     0.40256,     0.39006,     0.36371,     0.35296,     0.31717,     0.28085,     0.26477,      0.2561,     0.25043,     0.24574,     0.24105,\n",
      "            0.23339,     0.21733,     0.20279,     0.19787,     0.19294,     0.18503,     0.17408,     0.16227,     0.15073,     0.13895,     0.12665,      0.1197,     0.11274,    0.092293,    0.084645,    0.061918,    0.054225,    0.047127,    0.043645,    0.040162,     0.03668,    0.033197,    0.031002,\n",
      "           0.029726,     0.02845,    0.027174,    0.025898,    0.024623,    0.023347,    0.022071,    0.020795,    0.019519,    0.018244,    0.016968,           0,           0,           0,           0,           0,           0,           0,           0,           0,           0,           0,           0,\n",
      "                  0,           0,           0,           0,           0,           0,           0,           0,           0,           0,           0]]), 'Confidence', 'Recall']]\n",
      "fitness: 0.8189340750978549\n",
      "keys: ['metrics/precision(B)', 'metrics/recall(B)', 'metrics/mAP50(B)', 'metrics/mAP50-95(B)']\n",
      "maps: array([    0.80641])\n",
      "names: {0: 'hospital bed'}\n",
      "plot: True\n",
      "results_dict: {'metrics/precision(B)': 0.9736890168788513, 'metrics/recall(B)': 0.8412698412698413, 'metrics/mAP50(B)': 0.9316152969983822, 'metrics/mAP50-95(B)': 0.8064139393311296, 'fitness': 0.8189340750978549}\n",
      "save_dir: WindowsPath('D:/runs/detect/val2')\n",
      "speed: {'preprocess': 2.3917078971862793, 'inference': 289.077353477478, 'loss': 0.0, 'postprocess': 0.38814544677734375}\n",
      "task: 'detect'\n"
     ]
    }
   ],
   "source": [
    "metrics = my_model.val(data='dataset/data.yaml', split='test')\n",
    "\n",
    "print(metrics)"
   ]
  },
  {
   "cell_type": "markdown",
   "id": "074253b0",
   "metadata": {},
   "source": [
    "#### Calculating the confidence score of the test image to predict real time performance of the model"
   ]
  },
  {
   "cell_type": "code",
   "execution_count": 8,
   "id": "c4b68886",
   "metadata": {},
   "outputs": [
    {
     "name": "stdout",
     "output_type": "stream",
     "text": [
      "Confidence Score: 0.682\n"
     ]
    }
   ],
   "source": [
    "confidence = []\n",
    "for box in results[0].boxes:\n",
    "    conf = box.conf.item()  # convert Tensor to float\n",
    "    confidence.append(conf)\n",
    "\n",
    "median_confidence = median(confidence)  # using median instead of mean since its better for largely differing values\n",
    "\n",
    "print(f\"Confidence Score: {median_confidence:.3f}\")"
   ]
  },
  {
   "cell_type": "code",
   "execution_count": null,
   "id": "d6e75630",
   "metadata": {},
   "outputs": [],
   "source": []
  }
 ],
 "metadata": {
  "kernelspec": {
   "display_name": "Python 3 (ipykernel)",
   "language": "python",
   "name": "python3"
  },
  "language_info": {
   "codemirror_mode": {
    "name": "ipython",
    "version": 3
   },
   "file_extension": ".py",
   "mimetype": "text/x-python",
   "name": "python",
   "nbconvert_exporter": "python",
   "pygments_lexer": "ipython3",
   "version": "3.11.7"
  }
 },
 "nbformat": 4,
 "nbformat_minor": 5
}
