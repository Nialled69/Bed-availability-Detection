{
 "cells": [
  {
   "cell_type": "code",
   "execution_count": 1,
   "id": "85fb0260",
   "metadata": {},
   "outputs": [],
   "source": [
    "import cv2\n",
    "from ultralytics import YOLO\n",
    "import numpy as np"
   ]
  },
  {
   "cell_type": "markdown",
   "id": "16847dfe",
   "metadata": {},
   "source": [
    "### Initialising a pre-trained YOLO model to detect people"
   ]
  },
  {
   "cell_type": "code",
   "execution_count": 2,
   "id": "ba9051d4",
   "metadata": {},
   "outputs": [],
   "source": [
    "person_model = YOLO(\"yolov8m.pt\")\n",
    "\n",
    "# persons = person_model(\"imagess.jpg\", classes=[0])"
   ]
  },
  {
   "cell_type": "markdown",
   "id": "5c4cd2f5",
   "metadata": {},
   "source": [
    "### Loading our previously trained Bed Detection model"
   ]
  },
  {
   "cell_type": "code",
   "execution_count": 3,
   "id": "3ebbf44d",
   "metadata": {},
   "outputs": [],
   "source": [
    "bed_model = YOLO(\"D:/runs/detect/train3/weights/best.pt\")"
   ]
  },
  {
   "cell_type": "markdown",
   "id": "cb493cc3",
   "metadata": {},
   "source": [
    "##### Calculate the Intersection over Union (IoU) between two bounding boxes of two models"
   ]
  },
  {
   "cell_type": "code",
   "execution_count": 4,
   "id": "f7c64254",
   "metadata": {},
   "outputs": [],
   "source": [
    "def iou(boxA, boxB):\n",
    "    \n",
    "    xA = max(boxA[0], boxB[0])\n",
    "    yA = max(boxA[1], boxB[1])\n",
    "    xB = min(boxA[2], boxB[2])\n",
    "    yB = min(boxA[3], boxB[3])\n",
    "\n",
    "    # Compute intersection area\n",
    "    interArea = max(0, xB - xA) * max(0, yB - yA)\n",
    "\n",
    "    # Compute union area\n",
    "    boxAArea = (boxA[2] - boxA[0]) * (boxA[3] - boxA[1])\n",
    "    boxBArea = (boxB[2] - boxB[0]) * (boxB[3] - boxB[1])\n",
    "    unionArea = boxAArea + boxBArea - interArea\n",
    "\n",
    "    return interArea / float(unionArea) if unionArea > 0 else 0"
   ]
  },
  {
   "cell_type": "markdown",
   "id": "78f3d798",
   "metadata": {},
   "source": [
    "##### Detect beds and people, then determine if a person is on a bed."
   ]
  },
  {
   "cell_type": "code",
   "execution_count": 5,
   "id": "6840a78f",
   "metadata": {},
   "outputs": [],
   "source": [
    "def detect_bed_occupancy(media_path):\n",
    "\n",
    "    bed_results = bed_model(media_path)\n",
    "    person_results = person_model(media_path, classes=[0])  # Detect only perso\n",
    "\n",
    "    # Extracting the bounding boxes\n",
    "    bed_boxes = [list(map(int, box.xyxy[0])) for box in bed_results[0].boxes]\n",
    "    person_boxes = [list(map(int, box.xyxy[0])) for box in person_results[0].boxes]\n",
    "    \n",
    "    img = cv2.imread(media_path)\n",
    "    if img is None:\n",
    "        print(f\"Error: Could not load image : {media_path}\")\n",
    "        return 0\n",
    "    img_Array = np.array(media_path)\n",
    "    \n",
    "    # Checking for overlaps between the lower section of a person and upper part of the bed bounding box\n",
    "    occupied_beds = set()\n",
    "    for bed_idx, bed in enumerate(bed_boxes):\n",
    "        bed_x1, bed_y1, bed_x2, bed_y2 = bed\n",
    "        for person in person_boxes:\n",
    "            person_x1, person_y1, person_x2, person_y2 = person\n",
    "\n",
    "            # Ignore standing people\n",
    "            person_width = person_x2 - person_x1\n",
    "            person_height = person_y2 - person_y1\n",
    "            if person_height > 1.8 * person_width: \n",
    "                continue  \n",
    "\n",
    "            # Check if lower half of person overlaps upper half of bed\n",
    "            person_lower_half = [person_x1, person_y1 + int(person_height * 0.5), person_x2, person_y2]\n",
    "            bed_upper_half = [bed_x1, bed_y1, bed_x2, bed_y1 + int((bed_y2 - bed_y1) * 0.5)]\n",
    "\n",
    "            if iou(person_lower_half, bed_upper_half) > 0.2:  # Adjust threshold as needed\n",
    "                occupied_beds.add(bed_idx)  # Store unique occupied beds\n",
    "                cv2.rectangle(img, (bed_x1, bed_y1), (bed_x2, bed_y2), (0, 0, 255), 2)  # Red for occupied beds\n",
    "                break  # Stop checking once the bed is occupied\n",
    "\n",
    "    # Display image\n",
    "    for box in bed_boxes:\n",
    "        cv2.rectangle(img, (box[0], box[1]), (box[2], box[3]), (255, 0, 0), 2) \n",
    "    for box in person_boxes:\n",
    "        cv2.rectangle(img, (box[0], box[1]), (box[2], box[3]), (0, 255, 0), 2)\n",
    "    print(f\"Detected Beds: {len(bed_boxes)} | Detected Persons: {len(person_boxes)}\")\n",
    "    cv2.imshow(\"Bed Occupancy Detection\", img)\n",
    "    cv2.waitKey(0)\n",
    "    cv2.destroyAllWindows()\n",
    "\n",
    "    return len(occupied_beds)"
   ]
  },
  {
   "cell_type": "markdown",
   "id": "57775fd5",
   "metadata": {},
   "source": [
    "### Testing the final product"
   ]
  },
  {
   "cell_type": "code",
   "execution_count": 7,
   "id": "a1a98c7c",
   "metadata": {},
   "outputs": [
    {
     "name": "stdout",
     "output_type": "stream",
     "text": [
      "\n",
      "image 1/1 C:\\Users\\User\\Documents\\DS and ML\\Bed-availability-Detection\\img2.jpg: 384x640 1 hospital bed, 154.7ms\n",
      "Speed: 0.0ms preprocess, 154.7ms inference, 2.0ms postprocess per image at shape (1, 3, 384, 640)\n",
      "\n",
      "image 1/1 C:\\Users\\User\\Documents\\DS and ML\\Bed-availability-Detection\\img2.jpg: 384x640 3 persons, 144.1ms\n",
      "Speed: 2.0ms preprocess, 144.1ms inference, 2.0ms postprocess per image at shape (1, 3, 384, 640)\n",
      "Detected Beds: 1 | Detected Persons: 3\n"
     ]
    },
    {
     "data": {
      "text/plain": [
       "1"
      ]
     },
     "execution_count": 7,
     "metadata": {},
     "output_type": "execute_result"
    }
   ],
   "source": [
    "detect_bed_occupancy(\"img2.jpg\")"
   ]
  },
  {
   "cell_type": "code",
   "execution_count": null,
   "id": "b99313c7",
   "metadata": {},
   "outputs": [],
   "source": []
  }
 ],
 "metadata": {
  "kernelspec": {
   "display_name": "Python 3 (ipykernel)",
   "language": "python",
   "name": "python3"
  },
  "language_info": {
   "codemirror_mode": {
    "name": "ipython",
    "version": 3
   },
   "file_extension": ".py",
   "mimetype": "text/x-python",
   "name": "python",
   "nbconvert_exporter": "python",
   "pygments_lexer": "ipython3",
   "version": "3.11.7"
  }
 },
 "nbformat": 4,
 "nbformat_minor": 5
}
