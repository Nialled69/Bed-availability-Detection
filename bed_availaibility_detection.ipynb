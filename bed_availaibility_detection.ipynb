{
 "cells": [
  {
   "cell_type": "code",
   "execution_count": 1,
   "id": "85fb0260",
   "metadata": {},
   "outputs": [],
   "source": [
    "import cv2\n",
    "from ultralytics import YOLO\n",
    "import numpy as np"
   ]
  },
  {
   "cell_type": "markdown",
   "id": "16847dfe",
   "metadata": {},
   "source": [
    "### Initialising a pre-trained YOLO model to detect people"
   ]
  },
  {
   "cell_type": "code",
   "execution_count": 2,
   "id": "ba9051d4",
   "metadata": {},
   "outputs": [
    {
     "name": "stdout",
     "output_type": "stream",
     "text": [
      "\n",
      "image 1/1 C:\\Users\\User\\Documents\\DS and ML\\Bed-availability-Detection\\imagess.jpg: 480x640 6 persons, 200.7ms\n",
      "Speed: 2.0ms preprocess, 200.7ms inference, 1.3ms postprocess per image at shape (1, 3, 480, 640)\n"
     ]
    }
   ],
   "source": [
    "person_model = YOLO(\"yolov8m.pt\")\n",
    "\n",
    "# persons = person_model(\"imagess.jpg\", classes=[0])"
   ]
  },
  {
   "cell_type": "markdown",
   "id": "5c4cd2f5",
   "metadata": {},
   "source": [
    "### Loading our previously trained Bed Detection model"
   ]
  },
  {
   "cell_type": "code",
   "execution_count": 3,
   "id": "3ebbf44d",
   "metadata": {},
   "outputs": [],
   "source": [
    "bed_model = YOLO(\"D:/runs/detect/train3/weights/best.pt\")"
   ]
  },
  {
   "cell_type": "markdown",
   "id": "cb493cc3",
   "metadata": {},
   "source": [
    "##### Calculate the Intersection over Union (IoU) between two bounding boxes of two models"
   ]
  },
  {
   "cell_type": "code",
   "execution_count": 23,
   "id": "f7c64254",
   "metadata": {},
   "outputs": [],
   "source": [
    "def iou(boxA, boxB):\n",
    "    xA = max(boxA[0], boxB[0])\n",
    "    yA = max(boxA[1], boxB[1])\n",
    "    xB = min(boxA[2], boxB[2])\n",
    "    yB = min(boxA[3], boxB[3])\n",
    "\n",
    "    interArea = max(0, xB - xA) * max(0, yB - yA) #intersection area\n",
    "\n",
    "    boxAArea = (boxA[2] - boxA[0]) * (boxA[3] - boxA[1])\n",
    "    boxBArea = (boxB[2] - boxB[0]) * (boxB[3] - boxB[1])\n",
    "    unionArea = boxAArea + boxBArea - interArea #union area\n",
    "\n",
    "    return interArea/float(unionArea) if unionArea > 0 else 0"
   ]
  },
  {
   "cell_type": "markdown",
   "id": "78f3d798",
   "metadata": {},
   "source": [
    "##### Detect beds and people, then determine if a person is on a bed."
   ]
  },
  {
   "cell_type": "code",
   "execution_count": 24,
   "id": "6840a78f",
   "metadata": {},
   "outputs": [],
   "source": [
    "def detect_bed_occupancy(media_path):\n",
    "\n",
    "    bed_results = bed_model(media_path, save=True)\n",
    "    person_results = person_model(media_path, classes=[0])  \n",
    "    \n",
    "    bed_boxes = [list(map(int, box.xyxy[0].tolist())) for box in bed_results[0].boxes]\n",
    "    person_boxes = [list(map(int, box.xyxy[0].tolist())) for box in person_results[0].boxes]\n",
    "\n",
    "    img = cv2.imread(media_path)\n",
    "    if img is None:\n",
    "        print(f\"Error: Could not load image : {media_path}\")\n",
    "        return 0\n",
    "    img_arr = np.array(media_path)\n",
    "\n",
    "    occupied_beds = set()\n",
    "    assigned_beds = set()\n",
    "    \n",
    "    print(f\"Total Beds Detected: {len(bed_boxes)}\")\n",
    "    print(f\"Total Persons Detected: {len(person_boxes)}\")\n",
    "\n",
    "    for person in person_boxes:\n",
    "        person_x1, person_y1, person_x2, person_y2 = person\n",
    "\n",
    "        # Ignoring people standing\n",
    "        person_width = person_x2 - person_x1\n",
    "        person_height = person_y2 - person_y1\n",
    "        if person_height > 1.8 * person_width:\n",
    "            print(f\"Person {person} ignored (Bro was standing)\")\n",
    "            continue\n",
    "\n",
    "        best_bed_idx = None\n",
    "        max_iou = 0\n",
    "\n",
    "        for bed_idx, bed in enumerate(bed_boxes):\n",
    "            if bed_idx in assigned_beds:  \n",
    "                continue  # Skip if this bed is already assigned to another person\n",
    "\n",
    "            overlap_score = iou(person, bed)  # Comparing the bounding boxes\n",
    "            print(f\"IOU Person {person} vs Bed {bed} = {overlap_score:.2f}\")\n",
    "\n",
    "            if overlap_score >= 0.08 and overlap_score > max_iou:  \n",
    "                max_iou = overlap_score\n",
    "                best_bed_idx = bed_idx\n",
    "\n",
    "        if best_bed_idx is not None:\n",
    "            occupied_beds.add(best_bed_idx)\n",
    "            assigned_beds.add(best_bed_idx)\n",
    "            print(f\"Person {person} assigned to the Bed {bed_boxes[best_bed_idx]}\")\n",
    "            cv2.rectangle(img, \n",
    "                          (bed_boxes[best_bed_idx][0], bed_boxes[best_bed_idx][1]), \n",
    "                          (bed_boxes[best_bed_idx][2], bed_boxes[best_bed_idx][3]), \n",
    "                          (0, 0, 255), 2) # Draw red rectangle on occupied beds (don't know why this not working yet)\n",
    "\n",
    "    # Draw all beds and people\n",
    "    for box in bed_boxes:\n",
    "        cv2.rectangle(img, (box[0], box[1]), (box[2], box[3]), (255, 0, 0), 2)  # Blue for beds\n",
    "    for box in person_boxes:\n",
    "        cv2.rectangle(img, (box[0], box[1]), (box[2], box[3]), (0, 255, 0), 2)  # Green for persons\n",
    "\n",
    "    print(f\"Occupied Beds: {len(occupied_beds)}\")\n",
    "\n",
    "    cv2.imshow(\"Bed Occupancy Detection\", img)\n",
    "    cv2.waitKey(0)\n",
    "    cv2.destroyAllWindows()\n",
    "\n",
    "    return len(occupied_beds)"
   ]
  },
  {
   "cell_type": "markdown",
   "id": "57775fd5",
   "metadata": {},
   "source": [
    "### Testing the final product"
   ]
  },
  {
   "cell_type": "code",
   "execution_count": 25,
   "id": "a1a98c7c",
   "metadata": {},
   "outputs": [
    {
     "name": "stdout",
     "output_type": "stream",
     "text": [
      "\n",
      "image 1/1 C:\\Users\\User\\Documents\\DS and ML\\Bed-availability-Detection\\img2.jpg: 640x640 2 hospital beds, 253.3ms\n",
      "Speed: 0.0ms preprocess, 253.3ms inference, 2.0ms postprocess per image at shape (1, 3, 640, 640)\n",
      "Results saved to \u001b[1mD:\\runs\\detect\\predict5\u001b[0m\n",
      "\n",
      "image 1/1 C:\\Users\\User\\Documents\\DS and ML\\Bed-availability-Detection\\img2.jpg: 640x640 2 persons, 218.8ms\n",
      "Speed: 4.3ms preprocess, 218.8ms inference, 0.0ms postprocess per image at shape (1, 3, 640, 640)\n",
      "Total Beds Detected: 2\n",
      "Total Persons Detected: 2\n",
      "IOU Person [364, 315, 446, 398] vs Bed [52, 386, 503, 704] = 0.01\n",
      "IOU Person [364, 315, 446, 398] vs Bed [325, 317, 597, 508] = 0.13\n",
      "Person [364, 315, 446, 398] assigned to the Bed [325, 317, 597, 508]\n",
      "IOU Person [136, 322, 500, 565] vs Bed [52, 386, 503, 704] = 0.39\n",
      "Person [136, 322, 500, 565] assigned to the Bed [52, 386, 503, 704]\n",
      "Occupied Beds: 2\n"
     ]
    },
    {
     "data": {
      "text/plain": [
       "2"
      ]
     },
     "execution_count": 25,
     "metadata": {},
     "output_type": "execute_result"
    }
   ],
   "source": [
    "detect_bed_occupancy(\"img2.jpg\")"
   ]
  },
  {
   "cell_type": "code",
   "execution_count": null,
   "id": "b99313c7",
   "metadata": {},
   "outputs": [],
   "source": []
  }
 ],
 "metadata": {
  "kernelspec": {
   "display_name": "Python 3 (ipykernel)",
   "language": "python",
   "name": "python3"
  },
  "language_info": {
   "codemirror_mode": {
    "name": "ipython",
    "version": 3
   },
   "file_extension": ".py",
   "mimetype": "text/x-python",
   "name": "python",
   "nbconvert_exporter": "python",
   "pygments_lexer": "ipython3",
   "version": "3.11.7"
  }
 },
 "nbformat": 4,
 "nbformat_minor": 5
}
